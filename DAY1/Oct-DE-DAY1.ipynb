{
 "cells": [
  {
   "cell_type": "code",
   "execution_count": 1,
   "id": "4c548124-c724-4907-87f9-975fd902acc6",
   "metadata": {},
   "outputs": [
    {
     "name": "stdout",
     "output_type": "stream",
     "text": [
      "3.13.5 | packaged by Anaconda, Inc. | (main, Jun 12 2025, 16:37:03) [MSC v.1929 64 bit (AMD64)]\n"
     ]
    }
   ],
   "source": [
    "import sys\n",
    "print(sys.version)"
   ]
  },
  {
   "cell_type": "code",
   "execution_count": null,
   "id": "6db93d88-dfc0-4982-b6a5-6a9f3cad2e41",
   "metadata": {},
   "outputs": [],
   "source": [
    "python.org ==> CPython - GIL is enabled   => pip install numpy pip install pandas ... ... ...\n",
    "\n",
    "IPython - GIL is disabled \n",
    "\n",
    "\n",
    "In Python - Class and Object\n",
    "            ================\n",
    "\n",
    "Python native type/class - int float complex str bytes list tuple dict set"
   ]
  },
  {
   "cell_type": "code",
   "execution_count": null,
   "id": "9db92611-da70-4005-922b-d1e0eab5e8d3",
   "metadata": {},
   "outputs": [],
   "source": [
    "i = 10 # initialization\n",
    "\n",
    "10 - 0x1234\n",
    "11 - 0x3452\n",
    "12 - 0x3234"
   ]
  },
  {
   "cell_type": "code",
   "execution_count": 3,
   "id": "5414ed7f-74b8-4334-b2b1-fda5ec1b589e",
   "metadata": {},
   "outputs": [
    {
     "name": "stdout",
     "output_type": "stream",
     "text": [
      "0x7ffb5f4eb4c8\n",
      "0x7ffb5f4eb4c8\n",
      "0x7ffb5f4eb4c8\n",
      "0x7ffb5f4eb4c8\n"
     ]
    }
   ],
   "source": [
    "a = 10\n",
    "b = 3+7\n",
    "c = 2+8\n",
    "print(hex(id(a)))\n",
    "print(hex(id(b)))\n",
    "print(hex(id(c)))\n",
    "print(hex(id(10)))"
   ]
  },
  {
   "cell_type": "code",
   "execution_count": null,
   "id": "a6dfc6dd-fa65-4403-91a4-002429163e85",
   "metadata": {},
   "outputs": [],
   "source": [
    "product \n",
    "   |->productID    - 101  - int\n",
    "   |->productName  - 'pA'  - str\n",
    "   |->productCost  - 1000.32 - float\n",
    "   |->productStatus - True   - bool\n",
    "    Vs\n",
    "product_info1 = [101,'pA',1000.32,True] <== list - Collection of different types of items\n",
    "                                       <== list - mutable(we can add/modify/delete)\n",
    "    Vs\n",
    "product_info2 = (101,'pA',1000.32,True) <== tuple - Collection of different types of items\n",
    "                                             |__ immutable - we can't add/modify/delete \n",
    "    Vs\n",
    "product_info3 = {'pid':101,'pname':'pA','pcost':1000.32,'pstatus':True} <== dict - Collection of different types of items\n",
    "                                                                         |-- mutable (we can add/modify/delete)"
   ]
  },
  {
   "cell_type": "code",
   "execution_count": null,
   "id": "66ccb1fe-f86e-4290-9438-1eaf10020650",
   "metadata": {},
   "outputs": [],
   "source": [
    "dict of list -> d={'Key1':[],'Key2':[],'Key3':[]} # 1Key ->Multiple values \n",
    "list of dict -> L=[{},{},{},{}] # index based "
   ]
  },
  {
   "cell_type": "code",
   "execution_count": 5,
   "id": "b93a76c4-9d1a-42da-b1e8-2f20bed88038",
   "metadata": {},
   "outputs": [
    {
     "name": "stdout",
     "output_type": "stream",
     "text": [
      "{'pid': [101, 102, 103], 'pname': ['pA', 'pB', 'pC'], 'pcost': [1000, 2000, 3000]}\n"
     ]
    }
   ],
   "source": [
    "# How to add new data to an existing dict? \n",
    "# dictName['newKey'] = value\n",
    "\n",
    "product_info1 = {} # empty dict\n",
    "\n",
    "product_info1['pid'] = [101,102,103] \n",
    "product_info1['pname'] = ['pA','pB','pC']\n",
    "product_info1['pcost'] = [1000,2000,3000]\n",
    "print(product_info1)"
   ]
  },
  {
   "cell_type": "code",
   "execution_count": 6,
   "id": "a1e457ac-9b9f-49e7-8dfd-19dcfd4cdf94",
   "metadata": {},
   "outputs": [
    {
     "name": "stdout",
     "output_type": "stream",
     "text": [
      "{'pcost': [1000, 2000, 3000],\n",
      " 'pid': [101, 102, 103],\n",
      " 'pname': ['pA', 'pB', 'pC']}\n"
     ]
    }
   ],
   "source": [
    "import pprint\n",
    "pprint.pprint(product_info1)"
   ]
  },
  {
   "cell_type": "code",
   "execution_count": 7,
   "id": "c00a8f2b-1415-4a11-90b1-6ddacb3e63d8",
   "metadata": {},
   "outputs": [],
   "source": [
    "# list of dict -> L=[{},{},{},{}] # index based \n",
    "\n",
    "product_info2 = [{'pid':101,'pname':'pA','pcost':1000},\n",
    "                 {'pid':102,'pname':'pB','pcost':2000},\n",
    "                 {'pid':103,'pname':'pC','pcost':3000}]"
   ]
  },
  {
   "cell_type": "code",
   "execution_count": 10,
   "id": "61b89bbd-a494-4d8b-89c8-f7c474680076",
   "metadata": {},
   "outputs": [
    {
     "name": "stdout",
     "output_type": "stream",
     "text": [
      "pA\n",
      "pA\n"
     ]
    }
   ],
   "source": [
    "print(product_info2[0]['pname']) # list of dict\n",
    "print(product_info1['pname'][0]) # dict of list"
   ]
  },
  {
   "cell_type": "code",
   "execution_count": null,
   "id": "c5d92398-c533-4421-b9f8-5acd7cda2410",
   "metadata": {},
   "outputs": [],
   "source": [
    "numpy - Computation\n",
    "  |-> index,slicing,reshaping\n",
    "  |-> ufunctions\n",
    "\n",
    "pandas - Analysis \n",
    "  |-> Series\n",
    "  |-> DataFrame \n",
    "\n",
    "matplotlib - Visualization \n",
    "  |-> plot,scatter,bar,pie ...\n",
    "|\n",
    "EDA"
   ]
  },
  {
   "cell_type": "code",
   "execution_count": 11,
   "id": "29582d2a-78a2-40e6-a5fe-8bd11d4cf47b",
   "metadata": {},
   "outputs": [
    {
     "ename": "TypeError",
     "evalue": "can only concatenate list (not \"int\") to list",
     "output_type": "error",
     "traceback": [
      "\u001b[1;31m---------------------------------------------------------------------------\u001b[0m",
      "\u001b[1;31mTypeError\u001b[0m                                 Traceback (most recent call last)",
      "Cell \u001b[1;32mIn[11], line 2\u001b[0m\n\u001b[0;32m      1\u001b[0m L \u001b[38;5;241m=\u001b[39m [\u001b[38;5;241m10\u001b[39m,\u001b[38;5;241m20\u001b[39m,\u001b[38;5;241m30\u001b[39m,\u001b[38;5;241m40\u001b[39m,\u001b[38;5;241m50\u001b[39m]\n\u001b[1;32m----> 2\u001b[0m L\u001b[38;5;241m+\u001b[39m\u001b[38;5;241m100\u001b[39m\n",
      "\u001b[1;31mTypeError\u001b[0m: can only concatenate list (not \"int\") to list"
     ]
    }
   ],
   "source": [
    "L = [10,20,30,40,50]\n",
    "L+100"
   ]
  },
  {
   "cell_type": "code",
   "execution_count": 15,
   "id": "6df20ccc-6123-46db-b855-68b2fe12a37c",
   "metadata": {},
   "outputs": [],
   "source": [
    "import array\n",
    "#help(array)\n",
    "arr = array.array('i',[10,20,30,40,50])\n",
    "L.append(4.5)\n",
    "arr.append(55) # Vs arr.append(4.5)"
   ]
  },
  {
   "cell_type": "code",
   "execution_count": 16,
   "id": "7e5e73cc-b6d5-47f8-a0ae-649055de321f",
   "metadata": {},
   "outputs": [
    {
     "data": {
      "text/plain": [
       "array('i', [10, 20, 30, 40, 50, 55])"
      ]
     },
     "execution_count": 16,
     "metadata": {},
     "output_type": "execute_result"
    }
   ],
   "source": [
    "arr"
   ]
  },
  {
   "cell_type": "code",
   "execution_count": 17,
   "id": "40702977-434c-4fe2-be89-d95681bafb65",
   "metadata": {},
   "outputs": [
    {
     "data": {
      "text/plain": [
       "array([10. , 20. , 30. , 40. , 50. ,  4.5,  4.5])"
      ]
     },
     "execution_count": 17,
     "metadata": {},
     "output_type": "execute_result"
    }
   ],
   "source": [
    "import numpy\n",
    "numpy.array(L)"
   ]
  },
  {
   "cell_type": "code",
   "execution_count": 18,
   "id": "0f8f288a-fd50-4c58-8a48-6f1046ac7fb8",
   "metadata": {},
   "outputs": [
    {
     "data": {
      "text/plain": [
       "array([110. , 120. , 130. , 140. , 150. , 104.5, 104.5])"
      ]
     },
     "execution_count": 18,
     "metadata": {},
     "output_type": "execute_result"
    }
   ],
   "source": [
    "arr = numpy.array(L)\n",
    "arr+100"
   ]
  },
  {
   "cell_type": "code",
   "execution_count": 20,
   "id": "baedf953-72a2-4f7f-bf52-3bb7091d3f05",
   "metadata": {},
   "outputs": [
    {
     "name": "stdout",
     "output_type": "stream",
     "text": [
      "float64\n",
      "(7,)\n",
      "1\n"
     ]
    }
   ],
   "source": [
    "arr = numpy.array(L)\n",
    "print(arr.dtype)\n",
    "print(arr.shape)\n",
    "print(arr.ndim)"
   ]
  },
  {
   "cell_type": "code",
   "execution_count": 22,
   "id": "8ebf4bd6-c9e9-48a8-af86-8fff9b131667",
   "metadata": {},
   "outputs": [
    {
     "data": {
      "text/plain": [
       "dtype('<U32')"
      ]
     },
     "execution_count": 22,
     "metadata": {},
     "output_type": "execute_result"
    }
   ],
   "source": [
    "numpy.array([10,20.34,True,'data']).dtype"
   ]
  },
  {
   "cell_type": "code",
   "execution_count": 23,
   "id": "83db855a-7231-47b7-9356-7ec2dc897b24",
   "metadata": {},
   "outputs": [
    {
     "data": {
      "text/plain": [
       "1"
      ]
     },
     "execution_count": 23,
     "metadata": {},
     "output_type": "execute_result"
    }
   ],
   "source": [
    "numpy.array([10,20.34,True,'data']).ndim"
   ]
  },
  {
   "cell_type": "code",
   "execution_count": 26,
   "id": "e453336d-35fd-4408-85fc-ec8b095dd216",
   "metadata": {},
   "outputs": [
    {
     "name": "stdout",
     "output_type": "stream",
     "text": [
      "2\n"
     ]
    },
    {
     "data": {
      "text/plain": [
       "(1, 4)"
      ]
     },
     "execution_count": 26,
     "metadata": {},
     "output_type": "execute_result"
    }
   ],
   "source": [
    "print(numpy.array([[10,20.34,True,'data']]).ndim)\n",
    "numpy.array([[10,20.34,True,'data']]).shape"
   ]
  },
  {
   "cell_type": "code",
   "execution_count": 29,
   "id": "1e48b1d6-a891-41bc-ba4e-5a2a6aa47edc",
   "metadata": {},
   "outputs": [
    {
     "name": "stdout",
     "output_type": "stream",
     "text": [
      "10\n"
     ]
    }
   ],
   "source": [
    "arr = numpy.array([[10,20.34,True,'data']])\n",
    "print(arr[0][0])"
   ]
  },
  {
   "cell_type": "code",
   "execution_count": 30,
   "id": "5a596175-8bca-402c-b4c2-c4fd37c8ca5b",
   "metadata": {},
   "outputs": [
    {
     "ename": "UFuncTypeError",
     "evalue": "ufunc 'add' did not contain a loop with signature matching types (dtype('<U32'), dtype('int64')) -> None",
     "output_type": "error",
     "traceback": [
      "\u001b[1;31m---------------------------------------------------------------------------\u001b[0m",
      "\u001b[1;31mUFuncTypeError\u001b[0m                            Traceback (most recent call last)",
      "Cell \u001b[1;32mIn[30], line 1\u001b[0m\n\u001b[1;32m----> 1\u001b[0m arr\u001b[38;5;241m+\u001b[39m\u001b[38;5;241m100\u001b[39m\n",
      "\u001b[1;31mUFuncTypeError\u001b[0m: ufunc 'add' did not contain a loop with signature matching types (dtype('<U32'), dtype('int64')) -> None"
     ]
    }
   ],
   "source": [
    "arr+100"
   ]
  },
  {
   "cell_type": "code",
   "execution_count": 32,
   "id": "007dd5ae-a6ff-4bc9-810b-02807effefd4",
   "metadata": {},
   "outputs": [
    {
     "name": "stdout",
     "output_type": "stream",
     "text": [
      "2 (2, 3)\n",
      "[[10 20 30]\n",
      " [40 50 60]]\n"
     ]
    }
   ],
   "source": [
    "import numpy as np\n",
    "arr = np.array([[10,20,30],[40,50,60]])\n",
    "print(arr.ndim,arr.shape)\n",
    "print(arr)"
   ]
  },
  {
   "cell_type": "code",
   "execution_count": 33,
   "id": "227a26ac-beb5-4145-a62e-9cd2c0350a48",
   "metadata": {},
   "outputs": [
    {
     "data": {
      "text/plain": [
       "array([[10, 20, 30],\n",
       "       [40, 50, 60]])"
      ]
     },
     "execution_count": 33,
     "metadata": {},
     "output_type": "execute_result"
    }
   ],
   "source": [
    "arr.reshape(2,3)"
   ]
  },
  {
   "cell_type": "code",
   "execution_count": 34,
   "id": "8be61522-ea63-4769-8cf7-704f0d293a5f",
   "metadata": {},
   "outputs": [
    {
     "data": {
      "text/plain": [
       "array([[10],\n",
       "       [20],\n",
       "       [30],\n",
       "       [40],\n",
       "       [50],\n",
       "       [60]])"
      ]
     },
     "execution_count": 34,
     "metadata": {},
     "output_type": "execute_result"
    }
   ],
   "source": [
    "arr.reshape(-1,1)"
   ]
  },
  {
   "cell_type": "code",
   "execution_count": 35,
   "id": "8fc1f977-e23b-443f-af46-35b2390a1e76",
   "metadata": {},
   "outputs": [
    {
     "data": {
      "text/plain": [
       "2"
      ]
     },
     "execution_count": 35,
     "metadata": {},
     "output_type": "execute_result"
    }
   ],
   "source": [
    "np.array([1,2,3]).reshape(-1,1).ndim"
   ]
  },
  {
   "cell_type": "code",
   "execution_count": null,
   "id": "b5eb1075-f009-46fc-8a71-5d123b9a0499",
   "metadata": {},
   "outputs": [],
   "source": [
    "pandas\n",
    " |->Series\n",
    " |->DataFrame"
   ]
  },
  {
   "cell_type": "code",
   "execution_count": 38,
   "id": "7fe2a736-366d-40c4-8c69-1f26586f4418",
   "metadata": {},
   "outputs": [
    {
     "name": "stdout",
     "output_type": "stream",
     "text": [
      "<class 'pandas.core.series.Series'>\n",
      "<class 'pandas.core.frame.DataFrame'>\n"
     ]
    }
   ],
   "source": [
    "import pandas\n",
    "print(pandas.Series)\n",
    "print(pandas.DataFrame)"
   ]
  },
  {
   "cell_type": "code",
   "execution_count": null,
   "id": "6e552e54-a9b0-405c-978d-a940d0bdd406",
   "metadata": {},
   "outputs": [],
   "source": [
    "pandas/\n",
    "     |__core/\n",
    "           |__series.py\n",
    "                 |--> class Series:\n",
    "                            ...\n",
    "     |__core/\n",
    "           |__frame.py\n",
    "                 |--> class DataFrame:\n",
    "                             ..."
   ]
  },
  {
   "cell_type": "code",
   "execution_count": 39,
   "id": "71eb2e9a-d41f-4014-86f6-373bd6ab41d7",
   "metadata": {},
   "outputs": [
    {
     "data": {
      "text/plain": [
       "0    10\n",
       "1    20\n",
       "2    30\n",
       "dtype: int64"
      ]
     },
     "execution_count": 39,
     "metadata": {},
     "output_type": "execute_result"
    }
   ],
   "source": [
    "import pandas as pd\n",
    "pd.Series([10,20,30])"
   ]
  },
  {
   "cell_type": "code",
   "execution_count": 40,
   "id": "e849c9d1-eb7c-4c70-b09e-0bc3e4a21c39",
   "metadata": {},
   "outputs": [
    {
     "data": {
      "text/html": [
       "<div>\n",
       "<style scoped>\n",
       "    .dataframe tbody tr th:only-of-type {\n",
       "        vertical-align: middle;\n",
       "    }\n",
       "\n",
       "    .dataframe tbody tr th {\n",
       "        vertical-align: top;\n",
       "    }\n",
       "\n",
       "    .dataframe thead th {\n",
       "        text-align: right;\n",
       "    }\n",
       "</style>\n",
       "<table border=\"1\" class=\"dataframe\">\n",
       "  <thead>\n",
       "    <tr style=\"text-align: right;\">\n",
       "      <th></th>\n",
       "      <th>0</th>\n",
       "    </tr>\n",
       "  </thead>\n",
       "  <tbody>\n",
       "    <tr>\n",
       "      <th>0</th>\n",
       "      <td>10</td>\n",
       "    </tr>\n",
       "    <tr>\n",
       "      <th>1</th>\n",
       "      <td>20</td>\n",
       "    </tr>\n",
       "    <tr>\n",
       "      <th>2</th>\n",
       "      <td>30</td>\n",
       "    </tr>\n",
       "  </tbody>\n",
       "</table>\n",
       "</div>"
      ],
      "text/plain": [
       "    0\n",
       "0  10\n",
       "1  20\n",
       "2  30"
      ]
     },
     "execution_count": 40,
     "metadata": {},
     "output_type": "execute_result"
    }
   ],
   "source": [
    "pd.DataFrame([10,20,30])"
   ]
  },
  {
   "cell_type": "code",
   "execution_count": 41,
   "id": "779442e7-dcbe-482e-9bba-5b2fd691ca86",
   "metadata": {},
   "outputs": [
    {
     "data": {
      "text/plain": [
       "{'pid': [101, 102, 103],\n",
       " 'pname': ['pA', 'pB', 'pC'],\n",
       " 'pcost': [1000, 2000, 3000]}"
      ]
     },
     "execution_count": 41,
     "metadata": {},
     "output_type": "execute_result"
    }
   ],
   "source": [
    "products = {}\n",
    "products['pid'] = [101,102,103]\n",
    "products['pname'] = ['pA','pB','pC']\n",
    "products['pcost'] = [1000,2000,3000]\n",
    "products"
   ]
  },
  {
   "cell_type": "code",
   "execution_count": 42,
   "id": "0260698e-63e0-48f5-9c95-4c725c9b69ca",
   "metadata": {},
   "outputs": [
    {
     "data": {
      "text/html": [
       "<div>\n",
       "<style scoped>\n",
       "    .dataframe tbody tr th:only-of-type {\n",
       "        vertical-align: middle;\n",
       "    }\n",
       "\n",
       "    .dataframe tbody tr th {\n",
       "        vertical-align: top;\n",
       "    }\n",
       "\n",
       "    .dataframe thead th {\n",
       "        text-align: right;\n",
       "    }\n",
       "</style>\n",
       "<table border=\"1\" class=\"dataframe\">\n",
       "  <thead>\n",
       "    <tr style=\"text-align: right;\">\n",
       "      <th></th>\n",
       "      <th>pid</th>\n",
       "      <th>pname</th>\n",
       "      <th>pcost</th>\n",
       "    </tr>\n",
       "  </thead>\n",
       "  <tbody>\n",
       "    <tr>\n",
       "      <th>0</th>\n",
       "      <td>101</td>\n",
       "      <td>pA</td>\n",
       "      <td>1000</td>\n",
       "    </tr>\n",
       "    <tr>\n",
       "      <th>1</th>\n",
       "      <td>102</td>\n",
       "      <td>pB</td>\n",
       "      <td>2000</td>\n",
       "    </tr>\n",
       "    <tr>\n",
       "      <th>2</th>\n",
       "      <td>103</td>\n",
       "      <td>pC</td>\n",
       "      <td>3000</td>\n",
       "    </tr>\n",
       "  </tbody>\n",
       "</table>\n",
       "</div>"
      ],
      "text/plain": [
       "   pid pname  pcost\n",
       "0  101    pA   1000\n",
       "1  102    pB   2000\n",
       "2  103    pC   3000"
      ]
     },
     "execution_count": 42,
     "metadata": {},
     "output_type": "execute_result"
    }
   ],
   "source": [
    "pd.DataFrame(products)"
   ]
  },
  {
   "cell_type": "code",
   "execution_count": 43,
   "id": "5cdfdd4a-b15c-4d19-a974-5d85ab1e2b96",
   "metadata": {},
   "outputs": [
    {
     "name": "stdout",
     "output_type": "stream",
     "text": [
      "<class 'pandas.core.frame.DataFrame'>\n",
      "RangeIndex: 3 entries, 0 to 2\n",
      "Data columns (total 3 columns):\n",
      " #   Column  Non-Null Count  Dtype \n",
      "---  ------  --------------  ----- \n",
      " 0   pid     3 non-null      int64 \n",
      " 1   pname   3 non-null      object\n",
      " 2   pcost   3 non-null      int64 \n",
      "dtypes: int64(2), object(1)\n",
      "memory usage: 204.0+ bytes\n"
     ]
    }
   ],
   "source": [
    "df1 = pd.DataFrame(products)\n",
    "df1.info()"
   ]
  },
  {
   "cell_type": "code",
   "execution_count": 44,
   "id": "b974d282-71d3-4012-88e4-2a35d9e2e2a4",
   "metadata": {},
   "outputs": [
    {
     "data": {
      "text/plain": [
       "RangeIndex(start=0, stop=3, step=1)"
      ]
     },
     "execution_count": 44,
     "metadata": {},
     "output_type": "execute_result"
    }
   ],
   "source": [
    "df1.index"
   ]
  },
  {
   "cell_type": "code",
   "execution_count": 45,
   "id": "b5e2a61f-d8e4-4c73-9bf2-b8d00087096c",
   "metadata": {},
   "outputs": [
    {
     "data": {
      "text/plain": [
       "Index(['pid', 'pname', 'pcost'], dtype='object')"
      ]
     },
     "execution_count": 45,
     "metadata": {},
     "output_type": "execute_result"
    }
   ],
   "source": [
    "df1.columns"
   ]
  },
  {
   "cell_type": "code",
   "execution_count": 46,
   "id": "1abfe159-64b2-4a18-8429-57037a8e1495",
   "metadata": {},
   "outputs": [
    {
     "data": {
      "text/plain": [
       "3"
      ]
     },
     "execution_count": 46,
     "metadata": {},
     "output_type": "execute_result"
    }
   ],
   "source": [
    "len(df1.columns)"
   ]
  },
  {
   "cell_type": "code",
   "execution_count": 47,
   "id": "7cbaab85-d373-4a02-b9cd-17bfc9db3e94",
   "metadata": {},
   "outputs": [
    {
     "data": {
      "text/html": [
       "<div>\n",
       "<style scoped>\n",
       "    .dataframe tbody tr th:only-of-type {\n",
       "        vertical-align: middle;\n",
       "    }\n",
       "\n",
       "    .dataframe tbody tr th {\n",
       "        vertical-align: top;\n",
       "    }\n",
       "\n",
       "    .dataframe thead th {\n",
       "        text-align: right;\n",
       "    }\n",
       "</style>\n",
       "<table border=\"1\" class=\"dataframe\">\n",
       "  <thead>\n",
       "    <tr style=\"text-align: right;\">\n",
       "      <th></th>\n",
       "      <th>pid</th>\n",
       "      <th>pname</th>\n",
       "      <th>pcost</th>\n",
       "    </tr>\n",
       "  </thead>\n",
       "  <tbody>\n",
       "    <tr>\n",
       "      <th>0</th>\n",
       "      <td>101</td>\n",
       "      <td>pA</td>\n",
       "      <td>1000</td>\n",
       "    </tr>\n",
       "    <tr>\n",
       "      <th>1</th>\n",
       "      <td>102</td>\n",
       "      <td>pB</td>\n",
       "      <td>2000</td>\n",
       "    </tr>\n",
       "    <tr>\n",
       "      <th>2</th>\n",
       "      <td>103</td>\n",
       "      <td>pC</td>\n",
       "      <td>3000</td>\n",
       "    </tr>\n",
       "  </tbody>\n",
       "</table>\n",
       "</div>"
      ],
      "text/plain": [
       "   pid pname  pcost\n",
       "0  101    pA   1000\n",
       "1  102    pB   2000\n",
       "2  103    pC   3000"
      ]
     },
     "execution_count": 47,
     "metadata": {},
     "output_type": "execute_result"
    }
   ],
   "source": [
    "df1"
   ]
  },
  {
   "cell_type": "code",
   "execution_count": 48,
   "id": "d8da6986-804d-45dc-89d9-4ae9e61a5c27",
   "metadata": {},
   "outputs": [
    {
     "data": {
      "text/plain": [
       "pid       102\n",
       "pname      pB\n",
       "pcost    2000\n",
       "Name: 1, dtype: object"
      ]
     },
     "execution_count": 48,
     "metadata": {},
     "output_type": "execute_result"
    }
   ],
   "source": [
    "df1.loc[1] # row based access"
   ]
  },
  {
   "cell_type": "code",
   "execution_count": 49,
   "id": "d5d49664-6588-42ab-a5a6-7aca01dd4d9b",
   "metadata": {},
   "outputs": [
    {
     "data": {
      "text/plain": [
       "0    pA\n",
       "1    pB\n",
       "2    pC\n",
       "Name: pname, dtype: object"
      ]
     },
     "execution_count": 49,
     "metadata": {},
     "output_type": "execute_result"
    }
   ],
   "source": [
    "df1['pname'] # column based access"
   ]
  },
  {
   "cell_type": "code",
   "execution_count": 50,
   "id": "7273e3ec-fb0e-4229-a588-2cedcddaaadf",
   "metadata": {},
   "outputs": [
    {
     "data": {
      "text/plain": [
       "0    101\n",
       "1    102\n",
       "2    103\n",
       "Name: pid, dtype: int64"
      ]
     },
     "execution_count": 50,
     "metadata": {},
     "output_type": "execute_result"
    }
   ],
   "source": [
    "df1['pid']"
   ]
  },
  {
   "cell_type": "code",
   "execution_count": 51,
   "id": "cd3b5dc4-0d57-4838-a791-0214e899f038",
   "metadata": {},
   "outputs": [
    {
     "data": {
      "text/plain": [
       "'pB'"
      ]
     },
     "execution_count": 51,
     "metadata": {},
     "output_type": "execute_result"
    }
   ],
   "source": [
    "df1.loc[1]['pname'] # Row X Column ->data"
   ]
  },
  {
   "cell_type": "code",
   "execution_count": 52,
   "id": "431380fb-9bbd-4b36-bae5-98246660af3d",
   "metadata": {},
   "outputs": [],
   "source": [
    "products = {}\n",
    "products['pid'] = [101,102,103]\n",
    "products['pname'] = ['pA','pB','pC']\n",
    "products['pcost'] = [1000,2000,3000]\n"
   ]
  },
  {
   "cell_type": "code",
   "execution_count": 53,
   "id": "56e91421-253e-4550-b3e9-5dbf730f45c6",
   "metadata": {},
   "outputs": [
    {
     "data": {
      "text/plain": [
       "{'pid': [101, 102, 103, 104, 105, 106],\n",
       " 'pname': ['pA', 'pB', 'pC', 'pD', 'pE', 'pE'],\n",
       " 'pcost': [1000, 2000, 3000, 4000, 5000, 5000]}"
      ]
     },
     "execution_count": 53,
     "metadata": {},
     "output_type": "execute_result"
    }
   ],
   "source": [
    "products['pid'].append(104)\n",
    "products['pname'].append('pD')\n",
    "products['pcost'].append(4000)\n",
    "\n",
    "products['pid'].append(105)\n",
    "products['pname'].append('pE')\n",
    "products['pcost'].append(5000)\n",
    "\n",
    "products['pid'].append(106)\n",
    "products['pname'].append('pE')\n",
    "products['pcost'].append(5000)\n",
    "products"
   ]
  },
  {
   "cell_type": "code",
   "execution_count": 54,
   "id": "bd5a6e02-c4f3-4cd6-9984-92ba6490103a",
   "metadata": {},
   "outputs": [
    {
     "name": "stdout",
     "output_type": "stream",
     "text": [
      "<class 'pandas.core.frame.DataFrame'>\n",
      "RangeIndex: 6 entries, 0 to 5\n",
      "Data columns (total 3 columns):\n",
      " #   Column  Non-Null Count  Dtype \n",
      "---  ------  --------------  ----- \n",
      " 0   pid     6 non-null      int64 \n",
      " 1   pname   6 non-null      object\n",
      " 2   pcost   6 non-null      int64 \n",
      "dtypes: int64(2), object(1)\n",
      "memory usage: 276.0+ bytes\n"
     ]
    }
   ],
   "source": [
    "df2 = pd.DataFrame(products)\n",
    "df2.info()"
   ]
  },
  {
   "cell_type": "code",
   "execution_count": 55,
   "id": "ae843558-bc62-4105-8de4-2433ef5250a7",
   "metadata": {},
   "outputs": [
    {
     "data": {
      "text/html": [
       "<div>\n",
       "<style scoped>\n",
       "    .dataframe tbody tr th:only-of-type {\n",
       "        vertical-align: middle;\n",
       "    }\n",
       "\n",
       "    .dataframe tbody tr th {\n",
       "        vertical-align: top;\n",
       "    }\n",
       "\n",
       "    .dataframe thead th {\n",
       "        text-align: right;\n",
       "    }\n",
       "</style>\n",
       "<table border=\"1\" class=\"dataframe\">\n",
       "  <thead>\n",
       "    <tr style=\"text-align: right;\">\n",
       "      <th></th>\n",
       "      <th>pid</th>\n",
       "      <th>pname</th>\n",
       "      <th>pcost</th>\n",
       "    </tr>\n",
       "  </thead>\n",
       "  <tbody>\n",
       "    <tr>\n",
       "      <th>0</th>\n",
       "      <td>101</td>\n",
       "      <td>pA</td>\n",
       "      <td>1000</td>\n",
       "    </tr>\n",
       "    <tr>\n",
       "      <th>1</th>\n",
       "      <td>102</td>\n",
       "      <td>pB</td>\n",
       "      <td>2000</td>\n",
       "    </tr>\n",
       "    <tr>\n",
       "      <th>2</th>\n",
       "      <td>103</td>\n",
       "      <td>pC</td>\n",
       "      <td>3000</td>\n",
       "    </tr>\n",
       "    <tr>\n",
       "      <th>3</th>\n",
       "      <td>104</td>\n",
       "      <td>pD</td>\n",
       "      <td>4000</td>\n",
       "    </tr>\n",
       "    <tr>\n",
       "      <th>4</th>\n",
       "      <td>105</td>\n",
       "      <td>pE</td>\n",
       "      <td>5000</td>\n",
       "    </tr>\n",
       "    <tr>\n",
       "      <th>5</th>\n",
       "      <td>106</td>\n",
       "      <td>pE</td>\n",
       "      <td>5000</td>\n",
       "    </tr>\n",
       "  </tbody>\n",
       "</table>\n",
       "</div>"
      ],
      "text/plain": [
       "   pid pname  pcost\n",
       "0  101    pA   1000\n",
       "1  102    pB   2000\n",
       "2  103    pC   3000\n",
       "3  104    pD   4000\n",
       "4  105    pE   5000\n",
       "5  106    pE   5000"
      ]
     },
     "execution_count": 55,
     "metadata": {},
     "output_type": "execute_result"
    }
   ],
   "source": [
    "df2"
   ]
  },
  {
   "cell_type": "code",
   "execution_count": 56,
   "id": "1acf6728-f686-40b7-aa1e-ee872693716b",
   "metadata": {},
   "outputs": [
    {
     "data": {
      "text/plain": [
       "pid       102\n",
       "pname      pB\n",
       "pcost    2000\n",
       "Name: 1, dtype: object"
      ]
     },
     "execution_count": 56,
     "metadata": {},
     "output_type": "execute_result"
    }
   ],
   "source": [
    "df2.loc[1]"
   ]
  },
  {
   "cell_type": "code",
   "execution_count": 57,
   "id": "dcb1a4f1-6163-47ca-ba88-7edd5d4dc2b0",
   "metadata": {},
   "outputs": [
    {
     "data": {
      "text/html": [
       "<div>\n",
       "<style scoped>\n",
       "    .dataframe tbody tr th:only-of-type {\n",
       "        vertical-align: middle;\n",
       "    }\n",
       "\n",
       "    .dataframe tbody tr th {\n",
       "        vertical-align: top;\n",
       "    }\n",
       "\n",
       "    .dataframe thead th {\n",
       "        text-align: right;\n",
       "    }\n",
       "</style>\n",
       "<table border=\"1\" class=\"dataframe\">\n",
       "  <thead>\n",
       "    <tr style=\"text-align: right;\">\n",
       "      <th></th>\n",
       "      <th>pid</th>\n",
       "      <th>pname</th>\n",
       "      <th>pcost</th>\n",
       "    </tr>\n",
       "  </thead>\n",
       "  <tbody>\n",
       "    <tr>\n",
       "      <th>2</th>\n",
       "      <td>103</td>\n",
       "      <td>pC</td>\n",
       "      <td>3000</td>\n",
       "    </tr>\n",
       "    <tr>\n",
       "      <th>3</th>\n",
       "      <td>104</td>\n",
       "      <td>pD</td>\n",
       "      <td>4000</td>\n",
       "    </tr>\n",
       "    <tr>\n",
       "      <th>4</th>\n",
       "      <td>105</td>\n",
       "      <td>pE</td>\n",
       "      <td>5000</td>\n",
       "    </tr>\n",
       "    <tr>\n",
       "      <th>5</th>\n",
       "      <td>106</td>\n",
       "      <td>pE</td>\n",
       "      <td>5000</td>\n",
       "    </tr>\n",
       "  </tbody>\n",
       "</table>\n",
       "</div>"
      ],
      "text/plain": [
       "   pid pname  pcost\n",
       "2  103    pC   3000\n",
       "3  104    pD   4000\n",
       "4  105    pE   5000\n",
       "5  106    pE   5000"
      ]
     },
     "execution_count": 57,
     "metadata": {},
     "output_type": "execute_result"
    }
   ],
   "source": [
    "df2.loc[2:] # from 2nd row to list of all - slicing "
   ]
  },
  {
   "cell_type": "code",
   "execution_count": 58,
   "id": "949782ae-b988-4fe5-8cc5-ea6b3747fcd9",
   "metadata": {},
   "outputs": [
    {
     "data": {
      "text/html": [
       "<div>\n",
       "<style scoped>\n",
       "    .dataframe tbody tr th:only-of-type {\n",
       "        vertical-align: middle;\n",
       "    }\n",
       "\n",
       "    .dataframe tbody tr th {\n",
       "        vertical-align: top;\n",
       "    }\n",
       "\n",
       "    .dataframe thead th {\n",
       "        text-align: right;\n",
       "    }\n",
       "</style>\n",
       "<table border=\"1\" class=\"dataframe\">\n",
       "  <thead>\n",
       "    <tr style=\"text-align: right;\">\n",
       "      <th></th>\n",
       "      <th>pid</th>\n",
       "      <th>pname</th>\n",
       "      <th>pcost</th>\n",
       "    </tr>\n",
       "  </thead>\n",
       "  <tbody>\n",
       "    <tr>\n",
       "      <th>2</th>\n",
       "      <td>103</td>\n",
       "      <td>pC</td>\n",
       "      <td>3000</td>\n",
       "    </tr>\n",
       "    <tr>\n",
       "      <th>3</th>\n",
       "      <td>104</td>\n",
       "      <td>pD</td>\n",
       "      <td>4000</td>\n",
       "    </tr>\n",
       "    <tr>\n",
       "      <th>4</th>\n",
       "      <td>105</td>\n",
       "      <td>pE</td>\n",
       "      <td>5000</td>\n",
       "    </tr>\n",
       "  </tbody>\n",
       "</table>\n",
       "</div>"
      ],
      "text/plain": [
       "   pid pname  pcost\n",
       "2  103    pC   3000\n",
       "3  104    pD   4000\n",
       "4  105    pE   5000"
      ]
     },
     "execution_count": 58,
     "metadata": {},
     "output_type": "execute_result"
    }
   ],
   "source": [
    "df2.loc[2:4] # from 2nd row to 4th row"
   ]
  },
  {
   "cell_type": "code",
   "execution_count": 59,
   "id": "caaf0be4-3f30-43e5-9d8a-66c7146e8386",
   "metadata": {},
   "outputs": [
    {
     "data": {
      "text/plain": [
       "2    pC\n",
       "3    pD\n",
       "4    pE\n",
       "Name: pname, dtype: object"
      ]
     },
     "execution_count": 59,
     "metadata": {},
     "output_type": "execute_result"
    }
   ],
   "source": [
    "df2.loc[2:4]['pname']"
   ]
  },
  {
   "cell_type": "code",
   "execution_count": 60,
   "id": "2592346b-4ea9-4670-b43d-f882d03c4143",
   "metadata": {},
   "outputs": [
    {
     "data": {
      "text/plain": [
       "pname      pC\n",
       "pcost    3000\n",
       "Name: 2, dtype: object"
      ]
     },
     "execution_count": 60,
     "metadata": {},
     "output_type": "execute_result"
    }
   ],
   "source": [
    "df2.loc[2][['pname','pcost']]"
   ]
  },
  {
   "cell_type": "code",
   "execution_count": 61,
   "id": "567616f6-51b1-48ba-b315-212468ebef82",
   "metadata": {},
   "outputs": [
    {
     "data": {
      "text/html": [
       "<div>\n",
       "<style scoped>\n",
       "    .dataframe tbody tr th:only-of-type {\n",
       "        vertical-align: middle;\n",
       "    }\n",
       "\n",
       "    .dataframe tbody tr th {\n",
       "        vertical-align: top;\n",
       "    }\n",
       "\n",
       "    .dataframe thead th {\n",
       "        text-align: right;\n",
       "    }\n",
       "</style>\n",
       "<table border=\"1\" class=\"dataframe\">\n",
       "  <thead>\n",
       "    <tr style=\"text-align: right;\">\n",
       "      <th></th>\n",
       "      <th>pname</th>\n",
       "      <th>pcost</th>\n",
       "    </tr>\n",
       "  </thead>\n",
       "  <tbody>\n",
       "    <tr>\n",
       "      <th>2</th>\n",
       "      <td>pC</td>\n",
       "      <td>3000</td>\n",
       "    </tr>\n",
       "    <tr>\n",
       "      <th>3</th>\n",
       "      <td>pD</td>\n",
       "      <td>4000</td>\n",
       "    </tr>\n",
       "    <tr>\n",
       "      <th>4</th>\n",
       "      <td>pE</td>\n",
       "      <td>5000</td>\n",
       "    </tr>\n",
       "  </tbody>\n",
       "</table>\n",
       "</div>"
      ],
      "text/plain": [
       "  pname  pcost\n",
       "2    pC   3000\n",
       "3    pD   4000\n",
       "4    pE   5000"
      ]
     },
     "execution_count": 61,
     "metadata": {},
     "output_type": "execute_result"
    }
   ],
   "source": [
    "df2.loc[2:4][['pname','pcost']]"
   ]
  },
  {
   "cell_type": "code",
   "execution_count": 62,
   "id": "5ce19880-07c2-46cd-a3b4-151819e6b0f6",
   "metadata": {},
   "outputs": [
    {
     "data": {
      "text/plain": [
       "0    1000\n",
       "1    2000\n",
       "2    3000\n",
       "3    4000\n",
       "4    5000\n",
       "5    5000\n",
       "Name: pcost, dtype: int64"
      ]
     },
     "execution_count": 62,
     "metadata": {},
     "output_type": "execute_result"
    }
   ],
   "source": [
    "\n",
    "df2['pcost']"
   ]
  },
  {
   "cell_type": "code",
   "execution_count": 63,
   "id": "a28d0d4d-54a9-41ba-a5e8-f16bd7dbb01a",
   "metadata": {},
   "outputs": [
    {
     "data": {
      "text/plain": [
       "0    False\n",
       "1    False\n",
       "2     True\n",
       "3     True\n",
       "4     True\n",
       "5     True\n",
       "Name: pcost, dtype: bool"
      ]
     },
     "execution_count": 63,
     "metadata": {},
     "output_type": "execute_result"
    }
   ],
   "source": [
    "df2['pcost'] >2800"
   ]
  },
  {
   "cell_type": "code",
   "execution_count": 64,
   "id": "7eb6c459-ca94-4c78-b192-8a3d32977b7c",
   "metadata": {},
   "outputs": [
    {
     "data": {
      "text/html": [
       "<div>\n",
       "<style scoped>\n",
       "    .dataframe tbody tr th:only-of-type {\n",
       "        vertical-align: middle;\n",
       "    }\n",
       "\n",
       "    .dataframe tbody tr th {\n",
       "        vertical-align: top;\n",
       "    }\n",
       "\n",
       "    .dataframe thead th {\n",
       "        text-align: right;\n",
       "    }\n",
       "</style>\n",
       "<table border=\"1\" class=\"dataframe\">\n",
       "  <thead>\n",
       "    <tr style=\"text-align: right;\">\n",
       "      <th></th>\n",
       "      <th>pid</th>\n",
       "      <th>pname</th>\n",
       "      <th>pcost</th>\n",
       "    </tr>\n",
       "  </thead>\n",
       "  <tbody>\n",
       "    <tr>\n",
       "      <th>2</th>\n",
       "      <td>103</td>\n",
       "      <td>pC</td>\n",
       "      <td>3000</td>\n",
       "    </tr>\n",
       "    <tr>\n",
       "      <th>3</th>\n",
       "      <td>104</td>\n",
       "      <td>pD</td>\n",
       "      <td>4000</td>\n",
       "    </tr>\n",
       "    <tr>\n",
       "      <th>4</th>\n",
       "      <td>105</td>\n",
       "      <td>pE</td>\n",
       "      <td>5000</td>\n",
       "    </tr>\n",
       "    <tr>\n",
       "      <th>5</th>\n",
       "      <td>106</td>\n",
       "      <td>pE</td>\n",
       "      <td>5000</td>\n",
       "    </tr>\n",
       "  </tbody>\n",
       "</table>\n",
       "</div>"
      ],
      "text/plain": [
       "   pid pname  pcost\n",
       "2  103    pC   3000\n",
       "3  104    pD   4000\n",
       "4  105    pE   5000\n",
       "5  106    pE   5000"
      ]
     },
     "execution_count": 64,
     "metadata": {},
     "output_type": "execute_result"
    }
   ],
   "source": [
    "df2[df2['pcost'] >2800] # supports boolen index"
   ]
  },
  {
   "cell_type": "code",
   "execution_count": null,
   "id": "a7b3d568-0945-403a-b6d0-efb66c6a89a7",
   "metadata": {},
   "outputs": [],
   "source": [
    "# In pandas DF - mutable - inplace=True  <== modified input dataframe"
   ]
  },
  {
   "cell_type": "code",
   "execution_count": 65,
   "id": "35229ab8-29ea-4c78-830d-481a022864ee",
   "metadata": {},
   "outputs": [
    {
     "data": {
      "text/html": [
       "<div>\n",
       "<style scoped>\n",
       "    .dataframe tbody tr th:only-of-type {\n",
       "        vertical-align: middle;\n",
       "    }\n",
       "\n",
       "    .dataframe tbody tr th {\n",
       "        vertical-align: top;\n",
       "    }\n",
       "\n",
       "    .dataframe thead th {\n",
       "        text-align: right;\n",
       "    }\n",
       "</style>\n",
       "<table border=\"1\" class=\"dataframe\">\n",
       "  <thead>\n",
       "    <tr style=\"text-align: right;\">\n",
       "      <th></th>\n",
       "      <th>pid</th>\n",
       "      <th>pname</th>\n",
       "      <th>pcost</th>\n",
       "    </tr>\n",
       "  </thead>\n",
       "  <tbody>\n",
       "    <tr>\n",
       "      <th>0</th>\n",
       "      <td>101</td>\n",
       "      <td>pA</td>\n",
       "      <td>1000</td>\n",
       "    </tr>\n",
       "    <tr>\n",
       "      <th>1</th>\n",
       "      <td>102</td>\n",
       "      <td>pB</td>\n",
       "      <td>2000</td>\n",
       "    </tr>\n",
       "    <tr>\n",
       "      <th>2</th>\n",
       "      <td>103</td>\n",
       "      <td>pC</td>\n",
       "      <td>3000</td>\n",
       "    </tr>\n",
       "    <tr>\n",
       "      <th>3</th>\n",
       "      <td>104</td>\n",
       "      <td>pD</td>\n",
       "      <td>4000</td>\n",
       "    </tr>\n",
       "    <tr>\n",
       "      <th>4</th>\n",
       "      <td>105</td>\n",
       "      <td>pE</td>\n",
       "      <td>5000</td>\n",
       "    </tr>\n",
       "    <tr>\n",
       "      <th>5</th>\n",
       "      <td>106</td>\n",
       "      <td>pE</td>\n",
       "      <td>5000</td>\n",
       "    </tr>\n",
       "  </tbody>\n",
       "</table>\n",
       "</div>"
      ],
      "text/plain": [
       "   pid pname  pcost\n",
       "0  101    pA   1000\n",
       "1  102    pB   2000\n",
       "2  103    pC   3000\n",
       "3  104    pD   4000\n",
       "4  105    pE   5000\n",
       "5  106    pE   5000"
      ]
     },
     "execution_count": 65,
     "metadata": {},
     "output_type": "execute_result"
    }
   ],
   "source": [
    "df2"
   ]
  },
  {
   "cell_type": "code",
   "execution_count": 66,
   "id": "65eb675f-4bfb-44d8-bb5a-d0e5cf46dbe5",
   "metadata": {},
   "outputs": [
    {
     "data": {
      "text/html": [
       "<div>\n",
       "<style scoped>\n",
       "    .dataframe tbody tr th:only-of-type {\n",
       "        vertical-align: middle;\n",
       "    }\n",
       "\n",
       "    .dataframe tbody tr th {\n",
       "        vertical-align: top;\n",
       "    }\n",
       "\n",
       "    .dataframe thead th {\n",
       "        text-align: right;\n",
       "    }\n",
       "</style>\n",
       "<table border=\"1\" class=\"dataframe\">\n",
       "  <thead>\n",
       "    <tr style=\"text-align: right;\">\n",
       "      <th></th>\n",
       "      <th>pid</th>\n",
       "      <th>pname</th>\n",
       "      <th>pcost</th>\n",
       "    </tr>\n",
       "  </thead>\n",
       "  <tbody>\n",
       "    <tr>\n",
       "      <th>0</th>\n",
       "      <td>101</td>\n",
       "      <td>pA</td>\n",
       "      <td>1000</td>\n",
       "    </tr>\n",
       "    <tr>\n",
       "      <th>1</th>\n",
       "      <td>102</td>\n",
       "      <td>pB</td>\n",
       "      <td>2000</td>\n",
       "    </tr>\n",
       "    <tr>\n",
       "      <th>2</th>\n",
       "      <td>103</td>\n",
       "      <td>pC</td>\n",
       "      <td>3000</td>\n",
       "    </tr>\n",
       "    <tr>\n",
       "      <th>4</th>\n",
       "      <td>105</td>\n",
       "      <td>pE</td>\n",
       "      <td>5000</td>\n",
       "    </tr>\n",
       "    <tr>\n",
       "      <th>5</th>\n",
       "      <td>106</td>\n",
       "      <td>pE</td>\n",
       "      <td>5000</td>\n",
       "    </tr>\n",
       "  </tbody>\n",
       "</table>\n",
       "</div>"
      ],
      "text/plain": [
       "   pid pname  pcost\n",
       "0  101    pA   1000\n",
       "1  102    pB   2000\n",
       "2  103    pC   3000\n",
       "4  105    pE   5000\n",
       "5  106    pE   5000"
      ]
     },
     "execution_count": 66,
     "metadata": {},
     "output_type": "execute_result"
    }
   ],
   "source": [
    "# To delete a particular row/record \n",
    "# df.drop(rowIndex)\n",
    "df2.drop(3)"
   ]
  },
  {
   "cell_type": "code",
   "execution_count": 67,
   "id": "9c95382b-9951-4a54-8869-d8e1c72a7e58",
   "metadata": {},
   "outputs": [
    {
     "data": {
      "text/html": [
       "<div>\n",
       "<style scoped>\n",
       "    .dataframe tbody tr th:only-of-type {\n",
       "        vertical-align: middle;\n",
       "    }\n",
       "\n",
       "    .dataframe tbody tr th {\n",
       "        vertical-align: top;\n",
       "    }\n",
       "\n",
       "    .dataframe thead th {\n",
       "        text-align: right;\n",
       "    }\n",
       "</style>\n",
       "<table border=\"1\" class=\"dataframe\">\n",
       "  <thead>\n",
       "    <tr style=\"text-align: right;\">\n",
       "      <th></th>\n",
       "      <th>pid</th>\n",
       "      <th>pname</th>\n",
       "      <th>pcost</th>\n",
       "    </tr>\n",
       "  </thead>\n",
       "  <tbody>\n",
       "    <tr>\n",
       "      <th>0</th>\n",
       "      <td>101</td>\n",
       "      <td>pA</td>\n",
       "      <td>1000</td>\n",
       "    </tr>\n",
       "    <tr>\n",
       "      <th>1</th>\n",
       "      <td>102</td>\n",
       "      <td>pB</td>\n",
       "      <td>2000</td>\n",
       "    </tr>\n",
       "    <tr>\n",
       "      <th>2</th>\n",
       "      <td>103</td>\n",
       "      <td>pC</td>\n",
       "      <td>3000</td>\n",
       "    </tr>\n",
       "    <tr>\n",
       "      <th>3</th>\n",
       "      <td>104</td>\n",
       "      <td>pD</td>\n",
       "      <td>4000</td>\n",
       "    </tr>\n",
       "    <tr>\n",
       "      <th>4</th>\n",
       "      <td>105</td>\n",
       "      <td>pE</td>\n",
       "      <td>5000</td>\n",
       "    </tr>\n",
       "    <tr>\n",
       "      <th>5</th>\n",
       "      <td>106</td>\n",
       "      <td>pE</td>\n",
       "      <td>5000</td>\n",
       "    </tr>\n",
       "  </tbody>\n",
       "</table>\n",
       "</div>"
      ],
      "text/plain": [
       "   pid pname  pcost\n",
       "0  101    pA   1000\n",
       "1  102    pB   2000\n",
       "2  103    pC   3000\n",
       "3  104    pD   4000\n",
       "4  105    pE   5000\n",
       "5  106    pE   5000"
      ]
     },
     "execution_count": 67,
     "metadata": {},
     "output_type": "execute_result"
    }
   ],
   "source": [
    "df2"
   ]
  },
  {
   "cell_type": "code",
   "execution_count": 68,
   "id": "4bdd7a01-c78a-47c3-b50e-96aa019932a7",
   "metadata": {},
   "outputs": [
    {
     "data": {
      "text/html": [
       "<div>\n",
       "<style scoped>\n",
       "    .dataframe tbody tr th:only-of-type {\n",
       "        vertical-align: middle;\n",
       "    }\n",
       "\n",
       "    .dataframe tbody tr th {\n",
       "        vertical-align: top;\n",
       "    }\n",
       "\n",
       "    .dataframe thead th {\n",
       "        text-align: right;\n",
       "    }\n",
       "</style>\n",
       "<table border=\"1\" class=\"dataframe\">\n",
       "  <thead>\n",
       "    <tr style=\"text-align: right;\">\n",
       "      <th></th>\n",
       "      <th>pid</th>\n",
       "      <th>pname</th>\n",
       "      <th>pcost</th>\n",
       "    </tr>\n",
       "  </thead>\n",
       "  <tbody>\n",
       "    <tr>\n",
       "      <th>0</th>\n",
       "      <td>101</td>\n",
       "      <td>pA</td>\n",
       "      <td>1000</td>\n",
       "    </tr>\n",
       "    <tr>\n",
       "      <th>1</th>\n",
       "      <td>102</td>\n",
       "      <td>pB</td>\n",
       "      <td>2000</td>\n",
       "    </tr>\n",
       "    <tr>\n",
       "      <th>2</th>\n",
       "      <td>103</td>\n",
       "      <td>pC</td>\n",
       "      <td>3000</td>\n",
       "    </tr>\n",
       "    <tr>\n",
       "      <th>4</th>\n",
       "      <td>105</td>\n",
       "      <td>pE</td>\n",
       "      <td>5000</td>\n",
       "    </tr>\n",
       "    <tr>\n",
       "      <th>5</th>\n",
       "      <td>106</td>\n",
       "      <td>pE</td>\n",
       "      <td>5000</td>\n",
       "    </tr>\n",
       "  </tbody>\n",
       "</table>\n",
       "</div>"
      ],
      "text/plain": [
       "   pid pname  pcost\n",
       "0  101    pA   1000\n",
       "1  102    pB   2000\n",
       "2  103    pC   3000\n",
       "4  105    pE   5000\n",
       "5  106    pE   5000"
      ]
     },
     "execution_count": 68,
     "metadata": {},
     "output_type": "execute_result"
    }
   ],
   "source": [
    "df3 = df2.drop(3)\n",
    "df3"
   ]
  },
  {
   "cell_type": "code",
   "execution_count": 69,
   "id": "8a140fef-bbed-4f53-b5fa-02a72784b203",
   "metadata": {},
   "outputs": [
    {
     "data": {
      "text/html": [
       "<div>\n",
       "<style scoped>\n",
       "    .dataframe tbody tr th:only-of-type {\n",
       "        vertical-align: middle;\n",
       "    }\n",
       "\n",
       "    .dataframe tbody tr th {\n",
       "        vertical-align: top;\n",
       "    }\n",
       "\n",
       "    .dataframe thead th {\n",
       "        text-align: right;\n",
       "    }\n",
       "</style>\n",
       "<table border=\"1\" class=\"dataframe\">\n",
       "  <thead>\n",
       "    <tr style=\"text-align: right;\">\n",
       "      <th></th>\n",
       "      <th>pid</th>\n",
       "      <th>pname</th>\n",
       "      <th>pcost</th>\n",
       "    </tr>\n",
       "  </thead>\n",
       "  <tbody>\n",
       "    <tr>\n",
       "      <th>0</th>\n",
       "      <td>101</td>\n",
       "      <td>pA</td>\n",
       "      <td>1000</td>\n",
       "    </tr>\n",
       "    <tr>\n",
       "      <th>1</th>\n",
       "      <td>102</td>\n",
       "      <td>pB</td>\n",
       "      <td>2000</td>\n",
       "    </tr>\n",
       "    <tr>\n",
       "      <th>2</th>\n",
       "      <td>103</td>\n",
       "      <td>pC</td>\n",
       "      <td>3000</td>\n",
       "    </tr>\n",
       "    <tr>\n",
       "      <th>3</th>\n",
       "      <td>104</td>\n",
       "      <td>pD</td>\n",
       "      <td>4000</td>\n",
       "    </tr>\n",
       "    <tr>\n",
       "      <th>4</th>\n",
       "      <td>105</td>\n",
       "      <td>pE</td>\n",
       "      <td>5000</td>\n",
       "    </tr>\n",
       "    <tr>\n",
       "      <th>5</th>\n",
       "      <td>106</td>\n",
       "      <td>pE</td>\n",
       "      <td>5000</td>\n",
       "    </tr>\n",
       "  </tbody>\n",
       "</table>\n",
       "</div>"
      ],
      "text/plain": [
       "   pid pname  pcost\n",
       "0  101    pA   1000\n",
       "1  102    pB   2000\n",
       "2  103    pC   3000\n",
       "3  104    pD   4000\n",
       "4  105    pE   5000\n",
       "5  106    pE   5000"
      ]
     },
     "execution_count": 69,
     "metadata": {},
     "output_type": "execute_result"
    }
   ],
   "source": [
    "df2"
   ]
  },
  {
   "cell_type": "code",
   "execution_count": 70,
   "id": "633b5fc4-879f-4365-9037-c976e3f9d67f",
   "metadata": {},
   "outputs": [
    {
     "data": {
      "text/plain": [
       "Index([0, 1, 2, 4, 5], dtype='int64')"
      ]
     },
     "execution_count": 70,
     "metadata": {},
     "output_type": "execute_result"
    }
   ],
   "source": [
    "df3.index"
   ]
  },
  {
   "cell_type": "code",
   "execution_count": 71,
   "id": "842cc31e-fbfc-4d2d-aad1-dd9403da602a",
   "metadata": {},
   "outputs": [],
   "source": [
    "df3.drop(4,inplace=True) # ->None but dataframe is updated "
   ]
  },
  {
   "cell_type": "code",
   "execution_count": 72,
   "id": "5220964d-cc51-425a-a50d-c0d07ed5f291",
   "metadata": {},
   "outputs": [
    {
     "data": {
      "text/html": [
       "<div>\n",
       "<style scoped>\n",
       "    .dataframe tbody tr th:only-of-type {\n",
       "        vertical-align: middle;\n",
       "    }\n",
       "\n",
       "    .dataframe tbody tr th {\n",
       "        vertical-align: top;\n",
       "    }\n",
       "\n",
       "    .dataframe thead th {\n",
       "        text-align: right;\n",
       "    }\n",
       "</style>\n",
       "<table border=\"1\" class=\"dataframe\">\n",
       "  <thead>\n",
       "    <tr style=\"text-align: right;\">\n",
       "      <th></th>\n",
       "      <th>pid</th>\n",
       "      <th>pname</th>\n",
       "      <th>pcost</th>\n",
       "    </tr>\n",
       "  </thead>\n",
       "  <tbody>\n",
       "    <tr>\n",
       "      <th>0</th>\n",
       "      <td>101</td>\n",
       "      <td>pA</td>\n",
       "      <td>1000</td>\n",
       "    </tr>\n",
       "    <tr>\n",
       "      <th>1</th>\n",
       "      <td>102</td>\n",
       "      <td>pB</td>\n",
       "      <td>2000</td>\n",
       "    </tr>\n",
       "    <tr>\n",
       "      <th>2</th>\n",
       "      <td>103</td>\n",
       "      <td>pC</td>\n",
       "      <td>3000</td>\n",
       "    </tr>\n",
       "    <tr>\n",
       "      <th>5</th>\n",
       "      <td>106</td>\n",
       "      <td>pE</td>\n",
       "      <td>5000</td>\n",
       "    </tr>\n",
       "  </tbody>\n",
       "</table>\n",
       "</div>"
      ],
      "text/plain": [
       "   pid pname  pcost\n",
       "0  101    pA   1000\n",
       "1  102    pB   2000\n",
       "2  103    pC   3000\n",
       "5  106    pE   5000"
      ]
     },
     "execution_count": 72,
     "metadata": {},
     "output_type": "execute_result"
    }
   ],
   "source": [
    "df3"
   ]
  },
  {
   "cell_type": "code",
   "execution_count": 73,
   "id": "3078d063-c8bd-4581-8580-8f9adbb423dd",
   "metadata": {},
   "outputs": [
    {
     "data": {
      "text/html": [
       "<div>\n",
       "<style scoped>\n",
       "    .dataframe tbody tr th:only-of-type {\n",
       "        vertical-align: middle;\n",
       "    }\n",
       "\n",
       "    .dataframe tbody tr th {\n",
       "        vertical-align: top;\n",
       "    }\n",
       "\n",
       "    .dataframe thead th {\n",
       "        text-align: right;\n",
       "    }\n",
       "</style>\n",
       "<table border=\"1\" class=\"dataframe\">\n",
       "  <thead>\n",
       "    <tr style=\"text-align: right;\">\n",
       "      <th></th>\n",
       "      <th>pid</th>\n",
       "      <th>pcost</th>\n",
       "    </tr>\n",
       "  </thead>\n",
       "  <tbody>\n",
       "    <tr>\n",
       "      <th>0</th>\n",
       "      <td>101</td>\n",
       "      <td>1000</td>\n",
       "    </tr>\n",
       "    <tr>\n",
       "      <th>1</th>\n",
       "      <td>102</td>\n",
       "      <td>2000</td>\n",
       "    </tr>\n",
       "    <tr>\n",
       "      <th>2</th>\n",
       "      <td>103</td>\n",
       "      <td>3000</td>\n",
       "    </tr>\n",
       "    <tr>\n",
       "      <th>5</th>\n",
       "      <td>106</td>\n",
       "      <td>5000</td>\n",
       "    </tr>\n",
       "  </tbody>\n",
       "</table>\n",
       "</div>"
      ],
      "text/plain": [
       "   pid  pcost\n",
       "0  101   1000\n",
       "1  102   2000\n",
       "2  103   3000\n",
       "5  106   5000"
      ]
     },
     "execution_count": 73,
     "metadata": {},
     "output_type": "execute_result"
    }
   ],
   "source": [
    "# To drop columns\n",
    "df3.drop(columns='pname')"
   ]
  },
  {
   "cell_type": "code",
   "execution_count": 74,
   "id": "68ea5420-28f0-4c97-9206-21ddede144ca",
   "metadata": {},
   "outputs": [
    {
     "data": {
      "text/html": [
       "<div>\n",
       "<style scoped>\n",
       "    .dataframe tbody tr th:only-of-type {\n",
       "        vertical-align: middle;\n",
       "    }\n",
       "\n",
       "    .dataframe tbody tr th {\n",
       "        vertical-align: top;\n",
       "    }\n",
       "\n",
       "    .dataframe thead th {\n",
       "        text-align: right;\n",
       "    }\n",
       "</style>\n",
       "<table border=\"1\" class=\"dataframe\">\n",
       "  <thead>\n",
       "    <tr style=\"text-align: right;\">\n",
       "      <th></th>\n",
       "      <th>pid</th>\n",
       "      <th>pname</th>\n",
       "      <th>pcost</th>\n",
       "    </tr>\n",
       "  </thead>\n",
       "  <tbody>\n",
       "    <tr>\n",
       "      <th>0</th>\n",
       "      <td>101</td>\n",
       "      <td>pA</td>\n",
       "      <td>1000</td>\n",
       "    </tr>\n",
       "    <tr>\n",
       "      <th>1</th>\n",
       "      <td>102</td>\n",
       "      <td>pB</td>\n",
       "      <td>2000</td>\n",
       "    </tr>\n",
       "    <tr>\n",
       "      <th>2</th>\n",
       "      <td>103</td>\n",
       "      <td>pC</td>\n",
       "      <td>3000</td>\n",
       "    </tr>\n",
       "    <tr>\n",
       "      <th>5</th>\n",
       "      <td>106</td>\n",
       "      <td>pE</td>\n",
       "      <td>5000</td>\n",
       "    </tr>\n",
       "  </tbody>\n",
       "</table>\n",
       "</div>"
      ],
      "text/plain": [
       "   pid pname  pcost\n",
       "0  101    pA   1000\n",
       "1  102    pB   2000\n",
       "2  103    pC   3000\n",
       "5  106    pE   5000"
      ]
     },
     "execution_count": 74,
     "metadata": {},
     "output_type": "execute_result"
    }
   ],
   "source": [
    "df3"
   ]
  },
  {
   "cell_type": "code",
   "execution_count": 75,
   "id": "b6242036-4716-4087-af42-19948fae6dc7",
   "metadata": {},
   "outputs": [
    {
     "data": {
      "text/html": [
       "<div>\n",
       "<style scoped>\n",
       "    .dataframe tbody tr th:only-of-type {\n",
       "        vertical-align: middle;\n",
       "    }\n",
       "\n",
       "    .dataframe tbody tr th {\n",
       "        vertical-align: top;\n",
       "    }\n",
       "\n",
       "    .dataframe thead th {\n",
       "        text-align: right;\n",
       "    }\n",
       "</style>\n",
       "<table border=\"1\" class=\"dataframe\">\n",
       "  <thead>\n",
       "    <tr style=\"text-align: right;\">\n",
       "      <th></th>\n",
       "      <th>pid</th>\n",
       "    </tr>\n",
       "  </thead>\n",
       "  <tbody>\n",
       "    <tr>\n",
       "      <th>0</th>\n",
       "      <td>101</td>\n",
       "    </tr>\n",
       "    <tr>\n",
       "      <th>1</th>\n",
       "      <td>102</td>\n",
       "    </tr>\n",
       "    <tr>\n",
       "      <th>2</th>\n",
       "      <td>103</td>\n",
       "    </tr>\n",
       "    <tr>\n",
       "      <th>5</th>\n",
       "      <td>106</td>\n",
       "    </tr>\n",
       "  </tbody>\n",
       "</table>\n",
       "</div>"
      ],
      "text/plain": [
       "   pid\n",
       "0  101\n",
       "1  102\n",
       "2  103\n",
       "5  106"
      ]
     },
     "execution_count": 75,
     "metadata": {},
     "output_type": "execute_result"
    }
   ],
   "source": [
    "df3.drop(columns=['pname','pcost'])"
   ]
  },
  {
   "cell_type": "code",
   "execution_count": 76,
   "id": "f62270eb-d272-48dd-8af7-61491db59c69",
   "metadata": {},
   "outputs": [
    {
     "data": {
      "text/html": [
       "<div>\n",
       "<style scoped>\n",
       "    .dataframe tbody tr th:only-of-type {\n",
       "        vertical-align: middle;\n",
       "    }\n",
       "\n",
       "    .dataframe tbody tr th {\n",
       "        vertical-align: top;\n",
       "    }\n",
       "\n",
       "    .dataframe thead th {\n",
       "        text-align: right;\n",
       "    }\n",
       "</style>\n",
       "<table border=\"1\" class=\"dataframe\">\n",
       "  <thead>\n",
       "    <tr style=\"text-align: right;\">\n",
       "      <th></th>\n",
       "      <th>pid</th>\n",
       "      <th>pname</th>\n",
       "      <th>pcost</th>\n",
       "    </tr>\n",
       "  </thead>\n",
       "  <tbody>\n",
       "    <tr>\n",
       "      <th>0</th>\n",
       "      <td>101</td>\n",
       "      <td>pA</td>\n",
       "      <td>1000</td>\n",
       "    </tr>\n",
       "    <tr>\n",
       "      <th>1</th>\n",
       "      <td>102</td>\n",
       "      <td>pB</td>\n",
       "      <td>2000</td>\n",
       "    </tr>\n",
       "    <tr>\n",
       "      <th>2</th>\n",
       "      <td>103</td>\n",
       "      <td>pC</td>\n",
       "      <td>3000</td>\n",
       "    </tr>\n",
       "    <tr>\n",
       "      <th>5</th>\n",
       "      <td>106</td>\n",
       "      <td>pE</td>\n",
       "      <td>5000</td>\n",
       "    </tr>\n",
       "  </tbody>\n",
       "</table>\n",
       "</div>"
      ],
      "text/plain": [
       "   pid pname  pcost\n",
       "0  101    pA   1000\n",
       "1  102    pB   2000\n",
       "2  103    pC   3000\n",
       "5  106    pE   5000"
      ]
     },
     "execution_count": 76,
     "metadata": {},
     "output_type": "execute_result"
    }
   ],
   "source": [
    "df3"
   ]
  },
  {
   "cell_type": "code",
   "execution_count": 77,
   "id": "73f2ea3d-f0b3-42b9-a574-76b9168b114e",
   "metadata": {},
   "outputs": [
    {
     "data": {
      "text/plain": [
       "Index(['K1', 'K2', 'Field 3'], dtype='object')"
      ]
     },
     "execution_count": 77,
     "metadata": {},
     "output_type": "execute_result"
    }
   ],
   "source": [
    "# rename columns\n",
    "# -------------------\n",
    "# {'oldColumnName':'newColumn'}\n",
    "\n",
    "d={'K1':[1,2,3],'K2':[4,3,1],'Field 3':[10,23,34]}\n",
    "\n",
    "df4 = pd.DataFrame(d)\n",
    "df4.columns"
   ]
  },
  {
   "cell_type": "code",
   "execution_count": 78,
   "id": "9c6bde65-fa73-4f4e-b441-c3f379a451ce",
   "metadata": {},
   "outputs": [
    {
     "data": {
      "text/html": [
       "<div>\n",
       "<style scoped>\n",
       "    .dataframe tbody tr th:only-of-type {\n",
       "        vertical-align: middle;\n",
       "    }\n",
       "\n",
       "    .dataframe tbody tr th {\n",
       "        vertical-align: top;\n",
       "    }\n",
       "\n",
       "    .dataframe thead th {\n",
       "        text-align: right;\n",
       "    }\n",
       "</style>\n",
       "<table border=\"1\" class=\"dataframe\">\n",
       "  <thead>\n",
       "    <tr style=\"text-align: right;\">\n",
       "      <th></th>\n",
       "      <th>K1</th>\n",
       "      <th>K2</th>\n",
       "      <th>Field 3</th>\n",
       "    </tr>\n",
       "  </thead>\n",
       "  <tbody>\n",
       "    <tr>\n",
       "      <th>0</th>\n",
       "      <td>1</td>\n",
       "      <td>4</td>\n",
       "      <td>10</td>\n",
       "    </tr>\n",
       "    <tr>\n",
       "      <th>1</th>\n",
       "      <td>2</td>\n",
       "      <td>3</td>\n",
       "      <td>23</td>\n",
       "    </tr>\n",
       "    <tr>\n",
       "      <th>2</th>\n",
       "      <td>3</td>\n",
       "      <td>1</td>\n",
       "      <td>34</td>\n",
       "    </tr>\n",
       "  </tbody>\n",
       "</table>\n",
       "</div>"
      ],
      "text/plain": [
       "   K1  K2  Field 3\n",
       "0   1   4       10\n",
       "1   2   3       23\n",
       "2   3   1       34"
      ]
     },
     "execution_count": 78,
     "metadata": {},
     "output_type": "execute_result"
    }
   ],
   "source": [
    "df4"
   ]
  },
  {
   "cell_type": "code",
   "execution_count": 79,
   "id": "8bf5c445-0620-469b-a2cc-8143022448a2",
   "metadata": {},
   "outputs": [
    {
     "data": {
      "text/html": [
       "<div>\n",
       "<style scoped>\n",
       "    .dataframe tbody tr th:only-of-type {\n",
       "        vertical-align: middle;\n",
       "    }\n",
       "\n",
       "    .dataframe tbody tr th {\n",
       "        vertical-align: top;\n",
       "    }\n",
       "\n",
       "    .dataframe thead th {\n",
       "        text-align: right;\n",
       "    }\n",
       "</style>\n",
       "<table border=\"1\" class=\"dataframe\">\n",
       "  <thead>\n",
       "    <tr style=\"text-align: right;\">\n",
       "      <th></th>\n",
       "      <th>K1</th>\n",
       "      <th>K2</th>\n",
       "      <th>K3</th>\n",
       "    </tr>\n",
       "  </thead>\n",
       "  <tbody>\n",
       "    <tr>\n",
       "      <th>0</th>\n",
       "      <td>1</td>\n",
       "      <td>4</td>\n",
       "      <td>10</td>\n",
       "    </tr>\n",
       "    <tr>\n",
       "      <th>1</th>\n",
       "      <td>2</td>\n",
       "      <td>3</td>\n",
       "      <td>23</td>\n",
       "    </tr>\n",
       "    <tr>\n",
       "      <th>2</th>\n",
       "      <td>3</td>\n",
       "      <td>1</td>\n",
       "      <td>34</td>\n",
       "    </tr>\n",
       "  </tbody>\n",
       "</table>\n",
       "</div>"
      ],
      "text/plain": [
       "   K1  K2  K3\n",
       "0   1   4  10\n",
       "1   2   3  23\n",
       "2   3   1  34"
      ]
     },
     "execution_count": 79,
     "metadata": {},
     "output_type": "execute_result"
    }
   ],
   "source": [
    "df4.rename(columns={'Field 3':'K3'})"
   ]
  },
  {
   "cell_type": "code",
   "execution_count": 80,
   "id": "998e226b-c5dc-4de3-91ef-256fd0cdc8fb",
   "metadata": {},
   "outputs": [],
   "source": [
    "df4.rename(columns={'Field 3':'K3'},inplace=True)"
   ]
  },
  {
   "cell_type": "code",
   "execution_count": 81,
   "id": "78d4e6b6-8947-4345-8d9d-0316b3421080",
   "metadata": {},
   "outputs": [
    {
     "data": {
      "text/plain": [
       "Index(['K1', 'K2', 'K3'], dtype='object')"
      ]
     },
     "execution_count": 81,
     "metadata": {},
     "output_type": "execute_result"
    }
   ],
   "source": [
    "df4.columns"
   ]
  },
  {
   "cell_type": "code",
   "execution_count": 82,
   "id": "09ea584f-e29e-488a-a2f9-143ffbf72dee",
   "metadata": {},
   "outputs": [
    {
     "data": {
      "text/html": [
       "<div>\n",
       "<style scoped>\n",
       "    .dataframe tbody tr th:only-of-type {\n",
       "        vertical-align: middle;\n",
       "    }\n",
       "\n",
       "    .dataframe tbody tr th {\n",
       "        vertical-align: top;\n",
       "    }\n",
       "\n",
       "    .dataframe thead th {\n",
       "        text-align: right;\n",
       "    }\n",
       "</style>\n",
       "<table border=\"1\" class=\"dataframe\">\n",
       "  <thead>\n",
       "    <tr style=\"text-align: right;\">\n",
       "      <th></th>\n",
       "      <th>K1</th>\n",
       "      <th>K2</th>\n",
       "      <th>K3</th>\n",
       "    </tr>\n",
       "  </thead>\n",
       "  <tbody>\n",
       "    <tr>\n",
       "      <th>0</th>\n",
       "      <td>10.0</td>\n",
       "      <td>15.0</td>\n",
       "      <td>NaN</td>\n",
       "    </tr>\n",
       "    <tr>\n",
       "      <th>1</th>\n",
       "      <td>20.0</td>\n",
       "      <td>NaN</td>\n",
       "      <td>11.0</td>\n",
       "    </tr>\n",
       "    <tr>\n",
       "      <th>2</th>\n",
       "      <td>NaN</td>\n",
       "      <td>NaN</td>\n",
       "      <td>NaN</td>\n",
       "    </tr>\n",
       "  </tbody>\n",
       "</table>\n",
       "</div>"
      ],
      "text/plain": [
       "     K1    K2    K3\n",
       "0  10.0  15.0   NaN\n",
       "1  20.0   NaN  11.0\n",
       "2   NaN   NaN   NaN"
      ]
     },
     "execution_count": 82,
     "metadata": {},
     "output_type": "execute_result"
    }
   ],
   "source": [
    "d={}\n",
    "d['K1']=[10,20,None]\n",
    "d['K2']=[15,None,None]\n",
    "d['K3']=[None,11,None]\n",
    "pd.DataFrame(d)"
   ]
  },
  {
   "cell_type": "code",
   "execution_count": 83,
   "id": "052de4c0-1445-488a-ab4b-41455e9ca954",
   "metadata": {},
   "outputs": [
    {
     "name": "stdout",
     "output_type": "stream",
     "text": [
      "<class 'pandas.core.frame.DataFrame'>\n",
      "RangeIndex: 3 entries, 0 to 2\n",
      "Data columns (total 3 columns):\n",
      " #   Column  Non-Null Count  Dtype  \n",
      "---  ------  --------------  -----  \n",
      " 0   K1      2 non-null      float64\n",
      " 1   K2      1 non-null      float64\n",
      " 2   K3      1 non-null      float64\n",
      "dtypes: float64(3)\n",
      "memory usage: 204.0 bytes\n"
     ]
    }
   ],
   "source": [
    "df5 = pd.DataFrame(d)\n",
    "df5.info()"
   ]
  },
  {
   "cell_type": "code",
   "execution_count": 84,
   "id": "4ec3a271-30a2-4e17-8af6-39882368cd7d",
   "metadata": {},
   "outputs": [
    {
     "data": {
      "text/html": [
       "<div>\n",
       "<style scoped>\n",
       "    .dataframe tbody tr th:only-of-type {\n",
       "        vertical-align: middle;\n",
       "    }\n",
       "\n",
       "    .dataframe tbody tr th {\n",
       "        vertical-align: top;\n",
       "    }\n",
       "\n",
       "    .dataframe thead th {\n",
       "        text-align: right;\n",
       "    }\n",
       "</style>\n",
       "<table border=\"1\" class=\"dataframe\">\n",
       "  <thead>\n",
       "    <tr style=\"text-align: right;\">\n",
       "      <th></th>\n",
       "      <th>K1</th>\n",
       "      <th>K2</th>\n",
       "      <th>K3</th>\n",
       "    </tr>\n",
       "  </thead>\n",
       "  <tbody>\n",
       "    <tr>\n",
       "      <th>0</th>\n",
       "      <td>False</td>\n",
       "      <td>False</td>\n",
       "      <td>True</td>\n",
       "    </tr>\n",
       "    <tr>\n",
       "      <th>1</th>\n",
       "      <td>False</td>\n",
       "      <td>True</td>\n",
       "      <td>False</td>\n",
       "    </tr>\n",
       "    <tr>\n",
       "      <th>2</th>\n",
       "      <td>True</td>\n",
       "      <td>True</td>\n",
       "      <td>True</td>\n",
       "    </tr>\n",
       "  </tbody>\n",
       "</table>\n",
       "</div>"
      ],
      "text/plain": [
       "      K1     K2     K3\n",
       "0  False  False   True\n",
       "1  False   True  False\n",
       "2   True   True   True"
      ]
     },
     "execution_count": 84,
     "metadata": {},
     "output_type": "execute_result"
    }
   ],
   "source": [
    "df5.isnull()"
   ]
  },
  {
   "cell_type": "code",
   "execution_count": 85,
   "id": "94c68123-d601-42ef-ad9e-177f3c72d1d2",
   "metadata": {},
   "outputs": [
    {
     "data": {
      "text/plain": [
       "K1    1\n",
       "K2    2\n",
       "K3    2\n",
       "dtype: int64"
      ]
     },
     "execution_count": 85,
     "metadata": {},
     "output_type": "execute_result"
    }
   ],
   "source": [
    "df5.isnull().sum()"
   ]
  },
  {
   "cell_type": "code",
   "execution_count": 86,
   "id": "63f553ac-c4d4-4e23-b2b2-4026ec56aad6",
   "metadata": {},
   "outputs": [
    {
     "data": {
      "text/html": [
       "<div>\n",
       "<style scoped>\n",
       "    .dataframe tbody tr th:only-of-type {\n",
       "        vertical-align: middle;\n",
       "    }\n",
       "\n",
       "    .dataframe tbody tr th {\n",
       "        vertical-align: top;\n",
       "    }\n",
       "\n",
       "    .dataframe thead th {\n",
       "        text-align: right;\n",
       "    }\n",
       "</style>\n",
       "<table border=\"1\" class=\"dataframe\">\n",
       "  <thead>\n",
       "    <tr style=\"text-align: right;\">\n",
       "      <th></th>\n",
       "      <th>K1</th>\n",
       "      <th>K2</th>\n",
       "      <th>K3</th>\n",
       "    </tr>\n",
       "  </thead>\n",
       "  <tbody>\n",
       "    <tr>\n",
       "      <th>0</th>\n",
       "      <td>10.0</td>\n",
       "      <td>15.0</td>\n",
       "      <td>Testdata</td>\n",
       "    </tr>\n",
       "    <tr>\n",
       "      <th>1</th>\n",
       "      <td>20.0</td>\n",
       "      <td>Testdata</td>\n",
       "      <td>11.0</td>\n",
       "    </tr>\n",
       "    <tr>\n",
       "      <th>2</th>\n",
       "      <td>Testdata</td>\n",
       "      <td>Testdata</td>\n",
       "      <td>Testdata</td>\n",
       "    </tr>\n",
       "  </tbody>\n",
       "</table>\n",
       "</div>"
      ],
      "text/plain": [
       "         K1        K2        K3\n",
       "0      10.0      15.0  Testdata\n",
       "1      20.0  Testdata      11.0\n",
       "2  Testdata  Testdata  Testdata"
      ]
     },
     "execution_count": 86,
     "metadata": {},
     "output_type": "execute_result"
    }
   ],
   "source": [
    "# To replace NaN value => fillna(<replacementValue>)\n",
    "\n",
    "df5.fillna('Testdata')"
   ]
  },
  {
   "cell_type": "code",
   "execution_count": 87,
   "id": "8273b2e8-e814-4fc4-824c-b73c9fde7fc3",
   "metadata": {},
   "outputs": [
    {
     "data": {
      "text/html": [
       "<div>\n",
       "<style scoped>\n",
       "    .dataframe tbody tr th:only-of-type {\n",
       "        vertical-align: middle;\n",
       "    }\n",
       "\n",
       "    .dataframe tbody tr th {\n",
       "        vertical-align: top;\n",
       "    }\n",
       "\n",
       "    .dataframe thead th {\n",
       "        text-align: right;\n",
       "    }\n",
       "</style>\n",
       "<table border=\"1\" class=\"dataframe\">\n",
       "  <thead>\n",
       "    <tr style=\"text-align: right;\">\n",
       "      <th></th>\n",
       "      <th>K1</th>\n",
       "      <th>K2</th>\n",
       "      <th>K3</th>\n",
       "    </tr>\n",
       "  </thead>\n",
       "  <tbody>\n",
       "    <tr>\n",
       "      <th>0</th>\n",
       "      <td>10.0</td>\n",
       "      <td>15.0</td>\n",
       "      <td>45.0</td>\n",
       "    </tr>\n",
       "    <tr>\n",
       "      <th>1</th>\n",
       "      <td>20.0</td>\n",
       "      <td>45.0</td>\n",
       "      <td>11.0</td>\n",
       "    </tr>\n",
       "    <tr>\n",
       "      <th>2</th>\n",
       "      <td>45.0</td>\n",
       "      <td>45.0</td>\n",
       "      <td>45.0</td>\n",
       "    </tr>\n",
       "  </tbody>\n",
       "</table>\n",
       "</div>"
      ],
      "text/plain": [
       "     K1    K2    K3\n",
       "0  10.0  15.0  45.0\n",
       "1  20.0  45.0  11.0\n",
       "2  45.0  45.0  45.0"
      ]
     },
     "execution_count": 87,
     "metadata": {},
     "output_type": "execute_result"
    }
   ],
   "source": [
    "df5.fillna(45)"
   ]
  },
  {
   "cell_type": "code",
   "execution_count": 89,
   "id": "a99b41a7-356c-476d-8b91-8618a2a7dc5d",
   "metadata": {},
   "outputs": [
    {
     "data": {
      "text/plain": [
       "0    10.0\n",
       "1    20.0\n",
       "2     NaN\n",
       "Name: K1, dtype: float64"
      ]
     },
     "execution_count": 89,
     "metadata": {},
     "output_type": "execute_result"
    }
   ],
   "source": [
    "df5['K1']"
   ]
  },
  {
   "cell_type": "code",
   "execution_count": 90,
   "id": "5d150490-0e32-4e29-b767-5e09756e3ea0",
   "metadata": {},
   "outputs": [
    {
     "data": {
      "text/plain": [
       "0    10.0\n",
       "1    20.0\n",
       "2    45.0\n",
       "Name: K1, dtype: float64"
      ]
     },
     "execution_count": 90,
     "metadata": {},
     "output_type": "execute_result"
    }
   ],
   "source": [
    "df5['K1'].fillna(45)"
   ]
  },
  {
   "cell_type": "code",
   "execution_count": 91,
   "id": "cc6793ba-6e9c-4901-9e71-eaf833bc1d90",
   "metadata": {},
   "outputs": [
    {
     "data": {
      "text/html": [
       "<div>\n",
       "<style scoped>\n",
       "    .dataframe tbody tr th:only-of-type {\n",
       "        vertical-align: middle;\n",
       "    }\n",
       "\n",
       "    .dataframe tbody tr th {\n",
       "        vertical-align: top;\n",
       "    }\n",
       "\n",
       "    .dataframe thead th {\n",
       "        text-align: right;\n",
       "    }\n",
       "</style>\n",
       "<table border=\"1\" class=\"dataframe\">\n",
       "  <thead>\n",
       "    <tr style=\"text-align: right;\">\n",
       "      <th></th>\n",
       "      <th>K2</th>\n",
       "      <th>K3</th>\n",
       "    </tr>\n",
       "  </thead>\n",
       "  <tbody>\n",
       "    <tr>\n",
       "      <th>0</th>\n",
       "      <td>15.00</td>\n",
       "      <td>56.31</td>\n",
       "    </tr>\n",
       "    <tr>\n",
       "      <th>1</th>\n",
       "      <td>56.31</td>\n",
       "      <td>11.00</td>\n",
       "    </tr>\n",
       "    <tr>\n",
       "      <th>2</th>\n",
       "      <td>56.31</td>\n",
       "      <td>56.31</td>\n",
       "    </tr>\n",
       "  </tbody>\n",
       "</table>\n",
       "</div>"
      ],
      "text/plain": [
       "      K2     K3\n",
       "0  15.00  56.31\n",
       "1  56.31  11.00\n",
       "2  56.31  56.31"
      ]
     },
     "execution_count": 91,
     "metadata": {},
     "output_type": "execute_result"
    }
   ],
   "source": [
    "df5[['K2','K3']].fillna(56.31)"
   ]
  },
  {
   "cell_type": "code",
   "execution_count": 94,
   "id": "bb775ebe-a24e-4b5a-b91c-69d439d29705",
   "metadata": {},
   "outputs": [],
   "source": [
    "df5.fillna(56.31,inplace=True)"
   ]
  },
  {
   "cell_type": "code",
   "execution_count": 95,
   "id": "6948d732-4f20-442f-90bf-0f3fb01149c1",
   "metadata": {},
   "outputs": [
    {
     "data": {
      "text/html": [
       "<div>\n",
       "<style scoped>\n",
       "    .dataframe tbody tr th:only-of-type {\n",
       "        vertical-align: middle;\n",
       "    }\n",
       "\n",
       "    .dataframe tbody tr th {\n",
       "        vertical-align: top;\n",
       "    }\n",
       "\n",
       "    .dataframe thead th {\n",
       "        text-align: right;\n",
       "    }\n",
       "</style>\n",
       "<table border=\"1\" class=\"dataframe\">\n",
       "  <thead>\n",
       "    <tr style=\"text-align: right;\">\n",
       "      <th></th>\n",
       "      <th>K1</th>\n",
       "      <th>K2</th>\n",
       "      <th>K3</th>\n",
       "    </tr>\n",
       "  </thead>\n",
       "  <tbody>\n",
       "    <tr>\n",
       "      <th>0</th>\n",
       "      <td>10.00</td>\n",
       "      <td>15.00</td>\n",
       "      <td>56.31</td>\n",
       "    </tr>\n",
       "    <tr>\n",
       "      <th>1</th>\n",
       "      <td>20.00</td>\n",
       "      <td>56.31</td>\n",
       "      <td>11.00</td>\n",
       "    </tr>\n",
       "    <tr>\n",
       "      <th>2</th>\n",
       "      <td>56.31</td>\n",
       "      <td>56.31</td>\n",
       "      <td>56.31</td>\n",
       "    </tr>\n",
       "  </tbody>\n",
       "</table>\n",
       "</div>"
      ],
      "text/plain": [
       "      K1     K2     K3\n",
       "0  10.00  15.00  56.31\n",
       "1  20.00  56.31  11.00\n",
       "2  56.31  56.31  56.31"
      ]
     },
     "execution_count": 95,
     "metadata": {},
     "output_type": "execute_result"
    }
   ],
   "source": [
    "df5"
   ]
  },
  {
   "cell_type": "code",
   "execution_count": 96,
   "id": "08b92558-c480-4b3d-8c13-3650e56213c0",
   "metadata": {},
   "outputs": [
    {
     "data": {
      "text/plain": [
       "K1    0\n",
       "K2    0\n",
       "K3    0\n",
       "dtype: int64"
      ]
     },
     "execution_count": 96,
     "metadata": {},
     "output_type": "execute_result"
    }
   ],
   "source": [
    "df5.isnull().sum()"
   ]
  },
  {
   "cell_type": "code",
   "execution_count": 97,
   "id": "27c60ca6-852a-47d4-bbcb-aa407384032d",
   "metadata": {},
   "outputs": [
    {
     "data": {
      "text/plain": [
       "0    False\n",
       "1    False\n",
       "2    False\n",
       "dtype: bool"
      ]
     },
     "execution_count": 97,
     "metadata": {},
     "output_type": "execute_result"
    }
   ],
   "source": [
    "df5.duplicated()"
   ]
  },
  {
   "cell_type": "code",
   "execution_count": 98,
   "id": "1ffeb716-c77e-416a-a6e1-e0cf86b62b3f",
   "metadata": {},
   "outputs": [
    {
     "data": {
      "text/plain": [
       "np.int64(0)"
      ]
     },
     "execution_count": 98,
     "metadata": {},
     "output_type": "execute_result"
    }
   ],
   "source": [
    "df5.duplicated().sum()"
   ]
  },
  {
   "cell_type": "code",
   "execution_count": 100,
   "id": "b32f6a61-a6f0-468a-a1db-0e1f4afeeddc",
   "metadata": {},
   "outputs": [
    {
     "data": {
      "text/plain": [
       "np.int64(1)"
      ]
     },
     "execution_count": 100,
     "metadata": {},
     "output_type": "execute_result"
    }
   ],
   "source": [
    "d={'K1':[10,10,30],'K2':[10,10,30],'K3':[10,10,30]}\n",
    "df6 = pd.DataFrame(d)\n",
    "df6.duplicated().sum()"
   ]
  },
  {
   "cell_type": "code",
   "execution_count": 102,
   "id": "e2b7c41e-cef1-4116-a4f9-2973c3136f1b",
   "metadata": {},
   "outputs": [
    {
     "data": {
      "text/plain": [
       "0    False\n",
       "1     True\n",
       "2    False\n",
       "dtype: bool"
      ]
     },
     "execution_count": 102,
     "metadata": {},
     "output_type": "execute_result"
    }
   ],
   "source": [
    "df6.duplicated()"
   ]
  },
  {
   "cell_type": "code",
   "execution_count": 103,
   "id": "32c08393-1796-4662-8fbe-a8d7a11fd932",
   "metadata": {},
   "outputs": [
    {
     "data": {
      "text/html": [
       "<div>\n",
       "<style scoped>\n",
       "    .dataframe tbody tr th:only-of-type {\n",
       "        vertical-align: middle;\n",
       "    }\n",
       "\n",
       "    .dataframe tbody tr th {\n",
       "        vertical-align: top;\n",
       "    }\n",
       "\n",
       "    .dataframe thead th {\n",
       "        text-align: right;\n",
       "    }\n",
       "</style>\n",
       "<table border=\"1\" class=\"dataframe\">\n",
       "  <thead>\n",
       "    <tr style=\"text-align: right;\">\n",
       "      <th></th>\n",
       "      <th>K1</th>\n",
       "      <th>K2</th>\n",
       "      <th>K3</th>\n",
       "    </tr>\n",
       "  </thead>\n",
       "  <tbody>\n",
       "    <tr>\n",
       "      <th>0</th>\n",
       "      <td>10</td>\n",
       "      <td>10</td>\n",
       "      <td>10</td>\n",
       "    </tr>\n",
       "    <tr>\n",
       "      <th>1</th>\n",
       "      <td>10</td>\n",
       "      <td>10</td>\n",
       "      <td>10</td>\n",
       "    </tr>\n",
       "    <tr>\n",
       "      <th>2</th>\n",
       "      <td>30</td>\n",
       "      <td>30</td>\n",
       "      <td>30</td>\n",
       "    </tr>\n",
       "  </tbody>\n",
       "</table>\n",
       "</div>"
      ],
      "text/plain": [
       "   K1  K2  K3\n",
       "0  10  10  10\n",
       "1  10  10  10\n",
       "2  30  30  30"
      ]
     },
     "execution_count": 103,
     "metadata": {},
     "output_type": "execute_result"
    }
   ],
   "source": [
    "df6"
   ]
  },
  {
   "cell_type": "code",
   "execution_count": 104,
   "id": "a863fde6-2d36-477e-8261-912c275a8373",
   "metadata": {},
   "outputs": [
    {
     "data": {
      "text/html": [
       "<div>\n",
       "<style scoped>\n",
       "    .dataframe tbody tr th:only-of-type {\n",
       "        vertical-align: middle;\n",
       "    }\n",
       "\n",
       "    .dataframe tbody tr th {\n",
       "        vertical-align: top;\n",
       "    }\n",
       "\n",
       "    .dataframe thead th {\n",
       "        text-align: right;\n",
       "    }\n",
       "</style>\n",
       "<table border=\"1\" class=\"dataframe\">\n",
       "  <thead>\n",
       "    <tr style=\"text-align: right;\">\n",
       "      <th></th>\n",
       "      <th>K1</th>\n",
       "      <th>K2</th>\n",
       "      <th>K3</th>\n",
       "    </tr>\n",
       "  </thead>\n",
       "  <tbody>\n",
       "    <tr>\n",
       "      <th>0</th>\n",
       "      <td>10</td>\n",
       "      <td>10</td>\n",
       "      <td>10</td>\n",
       "    </tr>\n",
       "    <tr>\n",
       "      <th>2</th>\n",
       "      <td>30</td>\n",
       "      <td>30</td>\n",
       "      <td>30</td>\n",
       "    </tr>\n",
       "  </tbody>\n",
       "</table>\n",
       "</div>"
      ],
      "text/plain": [
       "   K1  K2  K3\n",
       "0  10  10  10\n",
       "2  30  30  30"
      ]
     },
     "execution_count": 104,
     "metadata": {},
     "output_type": "execute_result"
    }
   ],
   "source": [
    "df6.drop_duplicates()"
   ]
  },
  {
   "cell_type": "code",
   "execution_count": 105,
   "id": "14cd71c2-8593-44a0-95b7-27a107a6f0b8",
   "metadata": {},
   "outputs": [],
   "source": [
    "df6.drop_duplicates(inplace=True)"
   ]
  },
  {
   "cell_type": "code",
   "execution_count": 106,
   "id": "ed43f3de-f182-4d40-804a-d6c40cf87057",
   "metadata": {},
   "outputs": [
    {
     "data": {
      "text/html": [
       "<div>\n",
       "<style scoped>\n",
       "    .dataframe tbody tr th:only-of-type {\n",
       "        vertical-align: middle;\n",
       "    }\n",
       "\n",
       "    .dataframe tbody tr th {\n",
       "        vertical-align: top;\n",
       "    }\n",
       "\n",
       "    .dataframe thead th {\n",
       "        text-align: right;\n",
       "    }\n",
       "</style>\n",
       "<table border=\"1\" class=\"dataframe\">\n",
       "  <thead>\n",
       "    <tr style=\"text-align: right;\">\n",
       "      <th></th>\n",
       "      <th>K1</th>\n",
       "      <th>K2</th>\n",
       "      <th>K3</th>\n",
       "    </tr>\n",
       "  </thead>\n",
       "  <tbody>\n",
       "    <tr>\n",
       "      <th>0</th>\n",
       "      <td>10</td>\n",
       "      <td>10</td>\n",
       "      <td>10</td>\n",
       "    </tr>\n",
       "    <tr>\n",
       "      <th>2</th>\n",
       "      <td>30</td>\n",
       "      <td>30</td>\n",
       "      <td>30</td>\n",
       "    </tr>\n",
       "  </tbody>\n",
       "</table>\n",
       "</div>"
      ],
      "text/plain": [
       "   K1  K2  K3\n",
       "0  10  10  10\n",
       "2  30  30  30"
      ]
     },
     "execution_count": 106,
     "metadata": {},
     "output_type": "execute_result"
    }
   ],
   "source": [
    "df6"
   ]
  },
  {
   "cell_type": "code",
   "execution_count": 108,
   "id": "bd3d7fbc-6d30-4804-ac41-ae1322a31665",
   "metadata": {},
   "outputs": [
    {
     "name": "stdout",
     "output_type": "stream",
     "text": [
      "   K1    K2    K3  K4\n",
      "0  10  15.0  45.0  11\n",
      "1  20   NaN  15.0  12\n",
      "2  30   NaN   NaN  13\n"
     ]
    },
    {
     "data": {
      "text/html": [
       "<div>\n",
       "<style scoped>\n",
       "    .dataframe tbody tr th:only-of-type {\n",
       "        vertical-align: middle;\n",
       "    }\n",
       "\n",
       "    .dataframe tbody tr th {\n",
       "        vertical-align: top;\n",
       "    }\n",
       "\n",
       "    .dataframe thead th {\n",
       "        text-align: right;\n",
       "    }\n",
       "</style>\n",
       "<table border=\"1\" class=\"dataframe\">\n",
       "  <thead>\n",
       "    <tr style=\"text-align: right;\">\n",
       "      <th></th>\n",
       "      <th>K1</th>\n",
       "      <th>K2</th>\n",
       "      <th>K3</th>\n",
       "      <th>K4</th>\n",
       "    </tr>\n",
       "  </thead>\n",
       "  <tbody>\n",
       "    <tr>\n",
       "      <th>0</th>\n",
       "      <td>10</td>\n",
       "      <td>15.0</td>\n",
       "      <td>45.0</td>\n",
       "      <td>11</td>\n",
       "    </tr>\n",
       "  </tbody>\n",
       "</table>\n",
       "</div>"
      ],
      "text/plain": [
       "   K1    K2    K3  K4\n",
       "0  10  15.0  45.0  11"
      ]
     },
     "execution_count": 108,
     "metadata": {},
     "output_type": "execute_result"
    }
   ],
   "source": [
    "d={'K1':[10,20,30],'K2':[15,None,None],'K3':[45,15,None],'K4':[11,12,13]}\n",
    "df6 = pd.DataFrame(d)\n",
    "print(df6)\n",
    "df6.dropna()"
   ]
  },
  {
   "cell_type": "code",
   "execution_count": 110,
   "id": "7d9916e2-3686-4b2e-9529-51d04dbd943a",
   "metadata": {},
   "outputs": [
    {
     "data": {
      "text/html": [
       "<div>\n",
       "<style scoped>\n",
       "    .dataframe tbody tr th:only-of-type {\n",
       "        vertical-align: middle;\n",
       "    }\n",
       "\n",
       "    .dataframe tbody tr th {\n",
       "        vertical-align: top;\n",
       "    }\n",
       "\n",
       "    .dataframe thead th {\n",
       "        text-align: right;\n",
       "    }\n",
       "</style>\n",
       "<table border=\"1\" class=\"dataframe\">\n",
       "  <thead>\n",
       "    <tr style=\"text-align: right;\">\n",
       "      <th></th>\n",
       "      <th>K1</th>\n",
       "      <th>K4</th>\n",
       "    </tr>\n",
       "  </thead>\n",
       "  <tbody>\n",
       "    <tr>\n",
       "      <th>0</th>\n",
       "      <td>10</td>\n",
       "      <td>11</td>\n",
       "    </tr>\n",
       "    <tr>\n",
       "      <th>1</th>\n",
       "      <td>20</td>\n",
       "      <td>12</td>\n",
       "    </tr>\n",
       "    <tr>\n",
       "      <th>2</th>\n",
       "      <td>30</td>\n",
       "      <td>13</td>\n",
       "    </tr>\n",
       "  </tbody>\n",
       "</table>\n",
       "</div>"
      ],
      "text/plain": [
       "   K1  K4\n",
       "0  10  11\n",
       "1  20  12\n",
       "2  30  13"
      ]
     },
     "execution_count": 110,
     "metadata": {},
     "output_type": "execute_result"
    }
   ],
   "source": [
    "df6.dropna(axis=1) # drop column with any NaN value"
   ]
  },
  {
   "cell_type": "code",
   "execution_count": 112,
   "id": "a52d359b-bcc6-4651-83ff-b9cb5332211f",
   "metadata": {},
   "outputs": [],
   "source": [
    "# help(df6.dropna)"
   ]
  },
  {
   "cell_type": "code",
   "execution_count": 113,
   "id": "819a3215-a718-49b2-9420-a94bfa1a89c4",
   "metadata": {},
   "outputs": [
    {
     "data": {
      "text/plain": [
       "{'K1': [10, 20, 30],\n",
       " 'K2': [15, None, None],\n",
       " 'K3': [45, 11, None],\n",
       " 'K4': [1, 2, 3],\n",
       " 'K5': [10, None, None]}"
      ]
     },
     "execution_count": 113,
     "metadata": {},
     "output_type": "execute_result"
    }
   ],
   "source": [
    "d={}\n",
    "d['K1']=[10,20,30]\n",
    "d['K2']=[15,None,None]\n",
    "d['K3']=[45,11,None]\n",
    "d['K4']=[1,2,3]\n",
    "d['K5']=[10,None,None]\n",
    "d"
   ]
  },
  {
   "cell_type": "code",
   "execution_count": 114,
   "id": "eee39e5d-d0d6-4630-ade2-74ce30ad985d",
   "metadata": {},
   "outputs": [
    {
     "data": {
      "text/html": [
       "<div>\n",
       "<style scoped>\n",
       "    .dataframe tbody tr th:only-of-type {\n",
       "        vertical-align: middle;\n",
       "    }\n",
       "\n",
       "    .dataframe tbody tr th {\n",
       "        vertical-align: top;\n",
       "    }\n",
       "\n",
       "    .dataframe thead th {\n",
       "        text-align: right;\n",
       "    }\n",
       "</style>\n",
       "<table border=\"1\" class=\"dataframe\">\n",
       "  <thead>\n",
       "    <tr style=\"text-align: right;\">\n",
       "      <th></th>\n",
       "      <th>K1</th>\n",
       "      <th>K2</th>\n",
       "      <th>K3</th>\n",
       "      <th>K4</th>\n",
       "      <th>K5</th>\n",
       "    </tr>\n",
       "  </thead>\n",
       "  <tbody>\n",
       "    <tr>\n",
       "      <th>0</th>\n",
       "      <td>10</td>\n",
       "      <td>15.0</td>\n",
       "      <td>45.0</td>\n",
       "      <td>1</td>\n",
       "      <td>10.0</td>\n",
       "    </tr>\n",
       "    <tr>\n",
       "      <th>1</th>\n",
       "      <td>20</td>\n",
       "      <td>NaN</td>\n",
       "      <td>11.0</td>\n",
       "      <td>2</td>\n",
       "      <td>NaN</td>\n",
       "    </tr>\n",
       "  </tbody>\n",
       "</table>\n",
       "</div>"
      ],
      "text/plain": [
       "   K1    K2    K3  K4    K5\n",
       "0  10  15.0  45.0   1  10.0\n",
       "1  20   NaN  11.0   2   NaN"
      ]
     },
     "execution_count": 114,
     "metadata": {},
     "output_type": "execute_result"
    }
   ],
   "source": [
    "df7 = pd.DataFrame(d)\n",
    "df7.dropna(thresh=3)"
   ]
  },
  {
   "cell_type": "code",
   "execution_count": 115,
   "id": "d53d647c-432b-47af-b96f-566afc7d0da1",
   "metadata": {},
   "outputs": [
    {
     "data": {
      "text/html": [
       "<div>\n",
       "<style scoped>\n",
       "    .dataframe tbody tr th:only-of-type {\n",
       "        vertical-align: middle;\n",
       "    }\n",
       "\n",
       "    .dataframe tbody tr th {\n",
       "        vertical-align: top;\n",
       "    }\n",
       "\n",
       "    .dataframe thead th {\n",
       "        text-align: right;\n",
       "    }\n",
       "</style>\n",
       "<table border=\"1\" class=\"dataframe\">\n",
       "  <thead>\n",
       "    <tr style=\"text-align: right;\">\n",
       "      <th></th>\n",
       "      <th>K1</th>\n",
       "      <th>K4</th>\n",
       "    </tr>\n",
       "  </thead>\n",
       "  <tbody>\n",
       "    <tr>\n",
       "      <th>0</th>\n",
       "      <td>10</td>\n",
       "      <td>1</td>\n",
       "    </tr>\n",
       "    <tr>\n",
       "      <th>1</th>\n",
       "      <td>20</td>\n",
       "      <td>2</td>\n",
       "    </tr>\n",
       "    <tr>\n",
       "      <th>2</th>\n",
       "      <td>30</td>\n",
       "      <td>3</td>\n",
       "    </tr>\n",
       "  </tbody>\n",
       "</table>\n",
       "</div>"
      ],
      "text/plain": [
       "   K1  K4\n",
       "0  10   1\n",
       "1  20   2\n",
       "2  30   3"
      ]
     },
     "execution_count": 115,
     "metadata": {},
     "output_type": "execute_result"
    }
   ],
   "source": [
    "df7.dropna(axis='columns',thresh=3)"
   ]
  },
  {
   "cell_type": "code",
   "execution_count": 116,
   "id": "b69860b9-87ab-4adc-bf41-b36750029c7b",
   "metadata": {},
   "outputs": [
    {
     "data": {
      "text/html": [
       "<div>\n",
       "<style scoped>\n",
       "    .dataframe tbody tr th:only-of-type {\n",
       "        vertical-align: middle;\n",
       "    }\n",
       "\n",
       "    .dataframe tbody tr th {\n",
       "        vertical-align: top;\n",
       "    }\n",
       "\n",
       "    .dataframe thead th {\n",
       "        text-align: right;\n",
       "    }\n",
       "</style>\n",
       "<table border=\"1\" class=\"dataframe\">\n",
       "  <thead>\n",
       "    <tr style=\"text-align: right;\">\n",
       "      <th></th>\n",
       "      <th>pid</th>\n",
       "      <th>pname</th>\n",
       "      <th>pcost</th>\n",
       "    </tr>\n",
       "  </thead>\n",
       "  <tbody>\n",
       "    <tr>\n",
       "      <th>0</th>\n",
       "      <td>101</td>\n",
       "      <td>pA</td>\n",
       "      <td>1000</td>\n",
       "    </tr>\n",
       "    <tr>\n",
       "      <th>1</th>\n",
       "      <td>102</td>\n",
       "      <td>pB</td>\n",
       "      <td>2000</td>\n",
       "    </tr>\n",
       "    <tr>\n",
       "      <th>2</th>\n",
       "      <td>103</td>\n",
       "      <td>pC</td>\n",
       "      <td>3000</td>\n",
       "    </tr>\n",
       "  </tbody>\n",
       "</table>\n",
       "</div>"
      ],
      "text/plain": [
       "   pid pname  pcost\n",
       "0  101    pA   1000\n",
       "1  102    pB   2000\n",
       "2  103    pC   3000"
      ]
     },
     "execution_count": 116,
     "metadata": {},
     "output_type": "execute_result"
    }
   ],
   "source": [
    "df1"
   ]
  },
  {
   "cell_type": "code",
   "execution_count": 117,
   "id": "3beed225-9395-43cf-a742-6b4ba0842186",
   "metadata": {},
   "outputs": [
    {
     "data": {
      "text/plain": [
       "np.int64(2000)"
      ]
     },
     "execution_count": 117,
     "metadata": {},
     "output_type": "execute_result"
    }
   ],
   "source": [
    "df1.loc[1]['pcost']"
   ]
  },
  {
   "cell_type": "code",
   "execution_count": null,
   "id": "42c987b4-5c80-437c-b3d8-afc4c62403f2",
   "metadata": {},
   "outputs": [],
   "source": [
    "# To modify nth cell\n",
    "# df.at[rowIndex,columnIndex] = updatedvalue ->None"
   ]
  },
  {
   "cell_type": "code",
   "execution_count": 118,
   "id": "cc31d49d-161a-4157-baa2-e4038b7a5eee",
   "metadata": {},
   "outputs": [
    {
     "data": {
      "text/html": [
       "<div>\n",
       "<style scoped>\n",
       "    .dataframe tbody tr th:only-of-type {\n",
       "        vertical-align: middle;\n",
       "    }\n",
       "\n",
       "    .dataframe tbody tr th {\n",
       "        vertical-align: top;\n",
       "    }\n",
       "\n",
       "    .dataframe thead th {\n",
       "        text-align: right;\n",
       "    }\n",
       "</style>\n",
       "<table border=\"1\" class=\"dataframe\">\n",
       "  <thead>\n",
       "    <tr style=\"text-align: right;\">\n",
       "      <th></th>\n",
       "      <th>pid</th>\n",
       "      <th>pname</th>\n",
       "      <th>pcost</th>\n",
       "    </tr>\n",
       "  </thead>\n",
       "  <tbody>\n",
       "    <tr>\n",
       "      <th>0</th>\n",
       "      <td>101</td>\n",
       "      <td>pA</td>\n",
       "      <td>1000</td>\n",
       "    </tr>\n",
       "    <tr>\n",
       "      <th>1</th>\n",
       "      <td>102</td>\n",
       "      <td>pB</td>\n",
       "      <td>2000</td>\n",
       "    </tr>\n",
       "    <tr>\n",
       "      <th>2</th>\n",
       "      <td>103</td>\n",
       "      <td>pC</td>\n",
       "      <td>3000</td>\n",
       "    </tr>\n",
       "  </tbody>\n",
       "</table>\n",
       "</div>"
      ],
      "text/plain": [
       "   pid pname  pcost\n",
       "0  101    pA   1000\n",
       "1  102    pB   2000\n",
       "2  103    pC   3000"
      ]
     },
     "execution_count": 118,
     "metadata": {},
     "output_type": "execute_result"
    }
   ],
   "source": [
    "df1"
   ]
  },
  {
   "cell_type": "code",
   "execution_count": 119,
   "id": "dbfbb561-4243-4e69-b6f8-f4e0edb034f3",
   "metadata": {},
   "outputs": [
    {
     "name": "stderr",
     "output_type": "stream",
     "text": [
      "C:\\Users\\karth\\AppData\\Local\\Temp\\ipykernel_29236\\1321374637.py:1: FutureWarning: Setting an item of incompatible dtype is deprecated and will raise an error in a future version of pandas. Value '3489.31' has dtype incompatible with int64, please explicitly cast to a compatible dtype first.\n",
      "  df1.at[1,'pcost'] = 3489.31\n"
     ]
    }
   ],
   "source": [
    "df1.at[1,'pcost'] = 3489.31"
   ]
  },
  {
   "cell_type": "code",
   "execution_count": 120,
   "id": "f286da7d-1396-42ba-b440-15f132de127e",
   "metadata": {},
   "outputs": [
    {
     "data": {
      "text/html": [
       "<div>\n",
       "<style scoped>\n",
       "    .dataframe tbody tr th:only-of-type {\n",
       "        vertical-align: middle;\n",
       "    }\n",
       "\n",
       "    .dataframe tbody tr th {\n",
       "        vertical-align: top;\n",
       "    }\n",
       "\n",
       "    .dataframe thead th {\n",
       "        text-align: right;\n",
       "    }\n",
       "</style>\n",
       "<table border=\"1\" class=\"dataframe\">\n",
       "  <thead>\n",
       "    <tr style=\"text-align: right;\">\n",
       "      <th></th>\n",
       "      <th>pid</th>\n",
       "      <th>pname</th>\n",
       "      <th>pcost</th>\n",
       "    </tr>\n",
       "  </thead>\n",
       "  <tbody>\n",
       "    <tr>\n",
       "      <th>0</th>\n",
       "      <td>101</td>\n",
       "      <td>pA</td>\n",
       "      <td>1000.00</td>\n",
       "    </tr>\n",
       "    <tr>\n",
       "      <th>1</th>\n",
       "      <td>102</td>\n",
       "      <td>pB</td>\n",
       "      <td>3489.31</td>\n",
       "    </tr>\n",
       "    <tr>\n",
       "      <th>2</th>\n",
       "      <td>103</td>\n",
       "      <td>pC</td>\n",
       "      <td>3000.00</td>\n",
       "    </tr>\n",
       "  </tbody>\n",
       "</table>\n",
       "</div>"
      ],
      "text/plain": [
       "   pid pname    pcost\n",
       "0  101    pA  1000.00\n",
       "1  102    pB  3489.31\n",
       "2  103    pC  3000.00"
      ]
     },
     "execution_count": 120,
     "metadata": {},
     "output_type": "execute_result"
    }
   ],
   "source": [
    "df1"
   ]
  },
  {
   "cell_type": "code",
   "execution_count": 122,
   "id": "f0d8f849-eab7-4e4a-bcbd-b1e463565b0e",
   "metadata": {},
   "outputs": [
    {
     "data": {
      "text/plain": [
       "(2, 4)"
      ]
     },
     "execution_count": 122,
     "metadata": {},
     "output_type": "execute_result"
    }
   ],
   "source": [
    "import numpy as np\n",
    "np.array([[10,20,30,40],[50,60,70,80]]).shape"
   ]
  },
  {
   "cell_type": "code",
   "execution_count": 129,
   "id": "738fd49e-7824-4b2b-a67d-32e3ceeb42b2",
   "metadata": {},
   "outputs": [
    {
     "name": "stdout",
     "output_type": "stream",
     "text": [
      "40\n"
     ]
    }
   ],
   "source": [
    "arr = np.array([[10,20,30,40],[50,60,70,80]])\n",
    "print(arr[0][3])"
   ]
  },
  {
   "cell_type": "code",
   "execution_count": 128,
   "id": "0c1bcda2-5032-405d-aee0-d3dac3290777",
   "metadata": {},
   "outputs": [
    {
     "name": "stdout",
     "output_type": "stream",
     "text": [
      "40\n"
     ]
    }
   ],
   "source": [
    "print(arr[0,3])"
   ]
  },
  {
   "cell_type": "code",
   "execution_count": 133,
   "id": "cb9d3d2a-0dd2-4548-bc5d-a167281396b0",
   "metadata": {},
   "outputs": [],
   "source": [
    "df6\n",
    "df6.to_csv('r1.csv')"
   ]
  },
  {
   "cell_type": "code",
   "execution_count": 134,
   "id": "f1817e8a-5e9a-4910-925d-1075f4756641",
   "metadata": {},
   "outputs": [
    {
     "data": {
      "text/html": [
       "<div>\n",
       "<style scoped>\n",
       "    .dataframe tbody tr th:only-of-type {\n",
       "        vertical-align: middle;\n",
       "    }\n",
       "\n",
       "    .dataframe tbody tr th {\n",
       "        vertical-align: top;\n",
       "    }\n",
       "\n",
       "    .dataframe thead th {\n",
       "        text-align: right;\n",
       "    }\n",
       "</style>\n",
       "<table border=\"1\" class=\"dataframe\">\n",
       "  <thead>\n",
       "    <tr style=\"text-align: right;\">\n",
       "      <th></th>\n",
       "      <th>Unnamed: 0</th>\n",
       "      <th>K1</th>\n",
       "      <th>K2</th>\n",
       "      <th>K3</th>\n",
       "      <th>K4</th>\n",
       "    </tr>\n",
       "  </thead>\n",
       "  <tbody>\n",
       "    <tr>\n",
       "      <th>0</th>\n",
       "      <td>0</td>\n",
       "      <td>10</td>\n",
       "      <td>15.0</td>\n",
       "      <td>45.0</td>\n",
       "      <td>11</td>\n",
       "    </tr>\n",
       "    <tr>\n",
       "      <th>1</th>\n",
       "      <td>1</td>\n",
       "      <td>20</td>\n",
       "      <td>NaN</td>\n",
       "      <td>15.0</td>\n",
       "      <td>12</td>\n",
       "    </tr>\n",
       "    <tr>\n",
       "      <th>2</th>\n",
       "      <td>2</td>\n",
       "      <td>30</td>\n",
       "      <td>NaN</td>\n",
       "      <td>NaN</td>\n",
       "      <td>13</td>\n",
       "    </tr>\n",
       "  </tbody>\n",
       "</table>\n",
       "</div>"
      ],
      "text/plain": [
       "   Unnamed: 0  K1    K2    K3  K4\n",
       "0           0  10  15.0  45.0  11\n",
       "1           1  20   NaN  15.0  12\n",
       "2           2  30   NaN   NaN  13"
      ]
     },
     "execution_count": 134,
     "metadata": {},
     "output_type": "execute_result"
    }
   ],
   "source": [
    "pd.read_csv('r1.csv')"
   ]
  },
  {
   "cell_type": "code",
   "execution_count": 135,
   "id": "c44888e3-1d2a-4bca-b322-b12bd6a4a703",
   "metadata": {},
   "outputs": [
    {
     "data": {
      "text/html": [
       "<div>\n",
       "<style scoped>\n",
       "    .dataframe tbody tr th:only-of-type {\n",
       "        vertical-align: middle;\n",
       "    }\n",
       "\n",
       "    .dataframe tbody tr th {\n",
       "        vertical-align: top;\n",
       "    }\n",
       "\n",
       "    .dataframe thead th {\n",
       "        text-align: right;\n",
       "    }\n",
       "</style>\n",
       "<table border=\"1\" class=\"dataframe\">\n",
       "  <thead>\n",
       "    <tr style=\"text-align: right;\">\n",
       "      <th></th>\n",
       "      <th>K1</th>\n",
       "      <th>K2</th>\n",
       "      <th>K3</th>\n",
       "      <th>K4</th>\n",
       "    </tr>\n",
       "  </thead>\n",
       "  <tbody>\n",
       "    <tr>\n",
       "      <th>0</th>\n",
       "      <td>10</td>\n",
       "      <td>15.0</td>\n",
       "      <td>45.0</td>\n",
       "      <td>11</td>\n",
       "    </tr>\n",
       "    <tr>\n",
       "      <th>1</th>\n",
       "      <td>20</td>\n",
       "      <td>NaN</td>\n",
       "      <td>15.0</td>\n",
       "      <td>12</td>\n",
       "    </tr>\n",
       "    <tr>\n",
       "      <th>2</th>\n",
       "      <td>30</td>\n",
       "      <td>NaN</td>\n",
       "      <td>NaN</td>\n",
       "      <td>13</td>\n",
       "    </tr>\n",
       "  </tbody>\n",
       "</table>\n",
       "</div>"
      ],
      "text/plain": [
       "   K1    K2    K3  K4\n",
       "0  10  15.0  45.0  11\n",
       "1  20   NaN  15.0  12\n",
       "2  30   NaN   NaN  13"
      ]
     },
     "execution_count": 135,
     "metadata": {},
     "output_type": "execute_result"
    }
   ],
   "source": [
    "df6.to_csv('r1.csv',index=False)\n",
    "pd.read_csv('r1.csv')"
   ]
  },
  {
   "cell_type": "code",
   "execution_count": 130,
   "id": "cfd5ab06-e366-4b08-9dd8-3f985d7cf00e",
   "metadata": {},
   "outputs": [
    {
     "data": {
      "text/html": [
       "<div>\n",
       "<style scoped>\n",
       "    .dataframe tbody tr th:only-of-type {\n",
       "        vertical-align: middle;\n",
       "    }\n",
       "\n",
       "    .dataframe tbody tr th {\n",
       "        vertical-align: top;\n",
       "    }\n",
       "\n",
       "    .dataframe thead th {\n",
       "        text-align: right;\n",
       "    }\n",
       "</style>\n",
       "<table border=\"1\" class=\"dataframe\">\n",
       "  <thead>\n",
       "    <tr style=\"text-align: right;\">\n",
       "      <th></th>\n",
       "      <th>eid</th>\n",
       "      <th>ename</th>\n",
       "      <th>edept</th>\n",
       "      <th>ecity</th>\n",
       "      <th>ecost</th>\n",
       "    </tr>\n",
       "  </thead>\n",
       "  <tbody>\n",
       "    <tr>\n",
       "      <th>0</th>\n",
       "      <td>101</td>\n",
       "      <td>raj</td>\n",
       "      <td>sales</td>\n",
       "      <td>pune</td>\n",
       "      <td>1000</td>\n",
       "    </tr>\n",
       "    <tr>\n",
       "      <th>1</th>\n",
       "      <td>102</td>\n",
       "      <td>leo</td>\n",
       "      <td>prod</td>\n",
       "      <td>bglore</td>\n",
       "      <td>2301</td>\n",
       "    </tr>\n",
       "    <tr>\n",
       "      <th>2</th>\n",
       "      <td>230</td>\n",
       "      <td>raj</td>\n",
       "      <td>prod</td>\n",
       "      <td>pune</td>\n",
       "      <td>2300</td>\n",
       "    </tr>\n",
       "    <tr>\n",
       "      <th>3</th>\n",
       "      <td>450</td>\n",
       "      <td>shan</td>\n",
       "      <td>sales</td>\n",
       "      <td>bglore</td>\n",
       "      <td>3401</td>\n",
       "    </tr>\n",
       "    <tr>\n",
       "      <th>4</th>\n",
       "      <td>542</td>\n",
       "      <td>anu</td>\n",
       "      <td>HR</td>\n",
       "      <td>mumbai</td>\n",
       "      <td>4590</td>\n",
       "    </tr>\n",
       "    <tr>\n",
       "      <th>5</th>\n",
       "      <td>321</td>\n",
       "      <td>bibu</td>\n",
       "      <td>sales</td>\n",
       "      <td>hyd</td>\n",
       "      <td>5419</td>\n",
       "    </tr>\n",
       "    <tr>\n",
       "      <th>6</th>\n",
       "      <td>651</td>\n",
       "      <td>ram</td>\n",
       "      <td>hr</td>\n",
       "      <td>bglore</td>\n",
       "      <td>3130</td>\n",
       "    </tr>\n",
       "    <tr>\n",
       "      <th>7</th>\n",
       "      <td>541</td>\n",
       "      <td>leo</td>\n",
       "      <td>admin</td>\n",
       "      <td>chennai</td>\n",
       "      <td>4913</td>\n",
       "    </tr>\n",
       "    <tr>\n",
       "      <th>8</th>\n",
       "      <td>652</td>\n",
       "      <td>karthik</td>\n",
       "      <td>sales</td>\n",
       "      <td>bglore</td>\n",
       "      <td>3405</td>\n",
       "    </tr>\n",
       "  </tbody>\n",
       "</table>\n",
       "</div>"
      ],
      "text/plain": [
       "   eid    ename  edept    ecity  ecost\n",
       "0  101      raj  sales     pune   1000\n",
       "1  102      leo   prod   bglore   2301\n",
       "2  230      raj   prod     pune   2300\n",
       "3  450     shan  sales   bglore   3401\n",
       "4  542      anu     HR   mumbai   4590\n",
       "5  321     bibu  sales      hyd   5419\n",
       "6  651      ram     hr   bglore   3130\n",
       "7  541      leo  admin  chennai   4913\n",
       "8  652  karthik  sales   bglore   3405"
      ]
     },
     "execution_count": 130,
     "metadata": {},
     "output_type": "execute_result"
    }
   ],
   "source": [
    "# pd.read_csv(<inputFile>) Vs pd.DataFrame(<DataStructure>) \n",
    "\n",
    "pd.read_csv('emp.csv')"
   ]
  },
  {
   "cell_type": "code",
   "execution_count": 131,
   "id": "07127b0e-b387-47c4-a2e0-e1ca19a08892",
   "metadata": {},
   "outputs": [
    {
     "name": "stdout",
     "output_type": "stream",
     "text": [
      "<class 'pandas.core.frame.DataFrame'>\n",
      "RangeIndex: 9 entries, 0 to 8\n",
      "Data columns (total 5 columns):\n",
      " #   Column  Non-Null Count  Dtype \n",
      "---  ------  --------------  ----- \n",
      " 0   eid     9 non-null      int64 \n",
      " 1   ename   9 non-null      object\n",
      " 2   edept   9 non-null      object\n",
      " 3   ecity   9 non-null      object\n",
      " 4   ecost   9 non-null      int64 \n",
      "dtypes: int64(2), object(3)\n",
      "memory usage: 492.0+ bytes\n"
     ]
    }
   ],
   "source": [
    "df_csv = pd.read_csv('emp.csv')\n",
    "df_csv.info()"
   ]
  },
  {
   "cell_type": "code",
   "execution_count": 136,
   "id": "8dbe6a61-5982-48fc-bc93-b7c540b9d78e",
   "metadata": {},
   "outputs": [
    {
     "name": "stdout",
     "output_type": "stream",
     "text": [
      "<class 'pandas.core.frame.DataFrame'>\n",
      "RangeIndex: 9 entries, 0 to 8\n",
      "Data columns (total 5 columns):\n",
      " #   Column  Non-Null Count  Dtype \n",
      "---  ------  --------------  ----- \n",
      " 0   eid     9 non-null      int64 \n",
      " 1   ename   9 non-null      object\n",
      " 2   edept   9 non-null      object\n",
      " 3   ecity   9 non-null      object\n",
      " 4   ecost   9 non-null      int64 \n",
      "dtypes: int64(2), object(3)\n",
      "memory usage: 492.0+ bytes\n",
      "RangeIndex(start=0, stop=9, step=1)\n",
      "Index(['eid', 'ename', 'edept', 'ecity', 'ecost'], dtype='object')\n",
      "(9, 5)\n"
     ]
    }
   ],
   "source": [
    "# 1. Load emp.csv file content to pandas ->df\n",
    "df_csv = pd.read_csv('emp.csv')\n",
    "# 2. get info about loaded DataFrame\n",
    "df_csv.info()\n",
    "# 3. List of row index and column index\n",
    "print(df_csv.index)\n",
    "print(df_csv.columns)\n",
    "# 4. display shape of the data - Row X Col\n",
    "print(df_csv.shape)\n"
   ]
  },
  {
   "cell_type": "code",
   "execution_count": 138,
   "id": "cb1c099f-cab4-413e-9db9-b7e85e929cc4",
   "metadata": {},
   "outputs": [
    {
     "data": {
      "text/plain": [
       "np.int64(0)"
      ]
     },
     "execution_count": 138,
     "metadata": {},
     "output_type": "execute_result"
    }
   ],
   "source": [
    "# 5. Test - any duplicated values are exists ->drop duplicated update to inputdataframe\n",
    "df_csv.duplicated()\n",
    "df_csv.duplicated().sum()\n",
    "df_csv.drop_duplicates(inplace=True)"
   ]
  },
  {
   "cell_type": "code",
   "execution_count": 139,
   "id": "1d7bf04d-8035-48d9-a287-df7a82076a6d",
   "metadata": {},
   "outputs": [
    {
     "data": {
      "text/plain": [
       "eid      0\n",
       "ename    0\n",
       "edept    0\n",
       "ecity    0\n",
       "ecost    0\n",
       "dtype: int64"
      ]
     },
     "execution_count": 139,
     "metadata": {},
     "output_type": "execute_result"
    }
   ],
   "source": [
    "# 6. Test - any NaN values ->drop NaN index based and Column based\n",
    "df_csv.isnull().sum()\n",
    "# 7. Test - any NaN => replace NaN - row/column/ (or) global replacement\n",
    "df_csv.dropna() # default rowbased\n",
    "df_csv.dropna(axis=1) # columnbased\n",
    "df_csv.fillna('sampledata') # global replacement\n",
    "df_csv['edept'].fillna('Common_dept') # specific column based replacement"
   ]
  },
  {
   "cell_type": "code",
   "execution_count": 143,
   "id": "e1a32b1f-8c28-4392-aaf8-6c359ab7626c",
   "metadata": {},
   "outputs": [
    {
     "name": "stdout",
     "output_type": "stream",
     "text": [
      "Index(['eid', 'ename', 'edept', 'ecity', 'ecost'], dtype='object')\n",
      "Index(['eid', 'ename', 'EDEPT', 'ecity', 'Amount'], dtype='object')\n"
     ]
    }
   ],
   "source": [
    "# 8. Rename some selective columns - modified input data frame\n",
    "print(df_csv.columns)\n",
    "df_csv.rename(columns={'edept':'EDEPT','ecost':'Amount'},inplace=True)\n",
    "print(df_csv.columns)\n"
   ]
  },
  {
   "cell_type": "code",
   "execution_count": 144,
   "id": "986bb4b8-077d-43ae-9c50-250ffd357dba",
   "metadata": {},
   "outputs": [
    {
     "data": {
      "text/html": [
       "<div>\n",
       "<style scoped>\n",
       "    .dataframe tbody tr th:only-of-type {\n",
       "        vertical-align: middle;\n",
       "    }\n",
       "\n",
       "    .dataframe tbody tr th {\n",
       "        vertical-align: top;\n",
       "    }\n",
       "\n",
       "    .dataframe thead th {\n",
       "        text-align: right;\n",
       "    }\n",
       "</style>\n",
       "<table border=\"1\" class=\"dataframe\">\n",
       "  <thead>\n",
       "    <tr style=\"text-align: right;\">\n",
       "      <th></th>\n",
       "      <th>ename</th>\n",
       "      <th>EDEPT</th>\n",
       "      <th>Amount</th>\n",
       "    </tr>\n",
       "  </thead>\n",
       "  <tbody>\n",
       "    <tr>\n",
       "      <th>0</th>\n",
       "      <td>raj</td>\n",
       "      <td>sales</td>\n",
       "      <td>1000</td>\n",
       "    </tr>\n",
       "    <tr>\n",
       "      <th>1</th>\n",
       "      <td>leo</td>\n",
       "      <td>prod</td>\n",
       "      <td>2301</td>\n",
       "    </tr>\n",
       "    <tr>\n",
       "      <th>2</th>\n",
       "      <td>raj</td>\n",
       "      <td>prod</td>\n",
       "      <td>2300</td>\n",
       "    </tr>\n",
       "    <tr>\n",
       "      <th>3</th>\n",
       "      <td>shan</td>\n",
       "      <td>sales</td>\n",
       "      <td>3401</td>\n",
       "    </tr>\n",
       "    <tr>\n",
       "      <th>4</th>\n",
       "      <td>anu</td>\n",
       "      <td>HR</td>\n",
       "      <td>4590</td>\n",
       "    </tr>\n",
       "    <tr>\n",
       "      <th>5</th>\n",
       "      <td>bibu</td>\n",
       "      <td>sales</td>\n",
       "      <td>5419</td>\n",
       "    </tr>\n",
       "    <tr>\n",
       "      <th>6</th>\n",
       "      <td>ram</td>\n",
       "      <td>hr</td>\n",
       "      <td>3130</td>\n",
       "    </tr>\n",
       "    <tr>\n",
       "      <th>7</th>\n",
       "      <td>leo</td>\n",
       "      <td>admin</td>\n",
       "      <td>4913</td>\n",
       "    </tr>\n",
       "    <tr>\n",
       "      <th>8</th>\n",
       "      <td>karthik</td>\n",
       "      <td>sales</td>\n",
       "      <td>3405</td>\n",
       "    </tr>\n",
       "  </tbody>\n",
       "</table>\n",
       "</div>"
      ],
      "text/plain": [
       "     ename  EDEPT  Amount\n",
       "0      raj  sales    1000\n",
       "1      leo   prod    2301\n",
       "2      raj   prod    2300\n",
       "3     shan  sales    3401\n",
       "4      anu     HR    4590\n",
       "5     bibu  sales    5419\n",
       "6      ram     hr    3130\n",
       "7      leo  admin    4913\n",
       "8  karthik  sales    3405"
      ]
     },
     "execution_count": 144,
     "metadata": {},
     "output_type": "execute_result"
    }
   ],
   "source": [
    "# 9. drop some selective columns\n",
    "df_csv.drop(columns=['eid','ecity'])\n"
   ]
  },
  {
   "cell_type": "code",
   "execution_count": 145,
   "id": "2fa1c00d-c6ed-4dd6-b484-6207ecf14d13",
   "metadata": {},
   "outputs": [],
   "source": [
    "# 10. Write DataFrame ->external file\n",
    "df_csv.to_csv('r1.csv',index=False)"
   ]
  },
  {
   "cell_type": "code",
   "execution_count": 146,
   "id": "4434c621-3212-49ed-8d27-32ccca2f2310",
   "metadata": {},
   "outputs": [
    {
     "data": {
      "text/html": [
       "<div>\n",
       "<style scoped>\n",
       "    .dataframe tbody tr th:only-of-type {\n",
       "        vertical-align: middle;\n",
       "    }\n",
       "\n",
       "    .dataframe tbody tr th {\n",
       "        vertical-align: top;\n",
       "    }\n",
       "\n",
       "    .dataframe thead th {\n",
       "        text-align: right;\n",
       "    }\n",
       "</style>\n",
       "<table border=\"1\" class=\"dataframe\">\n",
       "  <thead>\n",
       "    <tr style=\"text-align: right;\">\n",
       "      <th></th>\n",
       "      <th>eid</th>\n",
       "      <th>ename</th>\n",
       "      <th>EDEPT</th>\n",
       "      <th>ecity</th>\n",
       "      <th>Amount</th>\n",
       "    </tr>\n",
       "  </thead>\n",
       "  <tbody>\n",
       "    <tr>\n",
       "      <th>0</th>\n",
       "      <td>101</td>\n",
       "      <td>raj</td>\n",
       "      <td>sales</td>\n",
       "      <td>pune</td>\n",
       "      <td>1000</td>\n",
       "    </tr>\n",
       "    <tr>\n",
       "      <th>1</th>\n",
       "      <td>102</td>\n",
       "      <td>leo</td>\n",
       "      <td>prod</td>\n",
       "      <td>bglore</td>\n",
       "      <td>2301</td>\n",
       "    </tr>\n",
       "    <tr>\n",
       "      <th>2</th>\n",
       "      <td>230</td>\n",
       "      <td>raj</td>\n",
       "      <td>prod</td>\n",
       "      <td>pune</td>\n",
       "      <td>2300</td>\n",
       "    </tr>\n",
       "    <tr>\n",
       "      <th>3</th>\n",
       "      <td>450</td>\n",
       "      <td>shan</td>\n",
       "      <td>sales</td>\n",
       "      <td>bglore</td>\n",
       "      <td>3401</td>\n",
       "    </tr>\n",
       "    <tr>\n",
       "      <th>4</th>\n",
       "      <td>542</td>\n",
       "      <td>anu</td>\n",
       "      <td>HR</td>\n",
       "      <td>mumbai</td>\n",
       "      <td>4590</td>\n",
       "    </tr>\n",
       "    <tr>\n",
       "      <th>5</th>\n",
       "      <td>321</td>\n",
       "      <td>bibu</td>\n",
       "      <td>sales</td>\n",
       "      <td>hyd</td>\n",
       "      <td>5419</td>\n",
       "    </tr>\n",
       "    <tr>\n",
       "      <th>6</th>\n",
       "      <td>651</td>\n",
       "      <td>ram</td>\n",
       "      <td>hr</td>\n",
       "      <td>bglore</td>\n",
       "      <td>3130</td>\n",
       "    </tr>\n",
       "    <tr>\n",
       "      <th>7</th>\n",
       "      <td>541</td>\n",
       "      <td>leo</td>\n",
       "      <td>admin</td>\n",
       "      <td>chennai</td>\n",
       "      <td>4913</td>\n",
       "    </tr>\n",
       "    <tr>\n",
       "      <th>8</th>\n",
       "      <td>652</td>\n",
       "      <td>karthik</td>\n",
       "      <td>sales</td>\n",
       "      <td>bglore</td>\n",
       "      <td>3405</td>\n",
       "    </tr>\n",
       "  </tbody>\n",
       "</table>\n",
       "</div>"
      ],
      "text/plain": [
       "   eid    ename  EDEPT    ecity  Amount\n",
       "0  101      raj  sales     pune    1000\n",
       "1  102      leo   prod   bglore    2301\n",
       "2  230      raj   prod     pune    2300\n",
       "3  450     shan  sales   bglore    3401\n",
       "4  542      anu     HR   mumbai    4590\n",
       "5  321     bibu  sales      hyd    5419\n",
       "6  651      ram     hr   bglore    3130\n",
       "7  541      leo  admin  chennai    4913\n",
       "8  652  karthik  sales   bglore    3405"
      ]
     },
     "execution_count": 146,
     "metadata": {},
     "output_type": "execute_result"
    }
   ],
   "source": [
    "pd.read_csv('r1.csv')"
   ]
  },
  {
   "cell_type": "code",
   "execution_count": 148,
   "id": "962bf8da-9d8e-4f18-a635-2e3a5003c4d9",
   "metadata": {},
   "outputs": [
    {
     "data": {
      "text/plain": [
       "9"
      ]
     },
     "execution_count": 148,
     "metadata": {},
     "output_type": "execute_result"
    }
   ],
   "source": [
    "len(df_csv.index)"
   ]
  },
  {
   "cell_type": "code",
   "execution_count": 152,
   "id": "8e6b5098-9330-4bc9-a0fe-b7644b43edd0",
   "metadata": {},
   "outputs": [
    {
     "name": "stdout",
     "output_type": "stream",
     "text": [
      "1 2 3 4 5 6 7 8 9 "
     ]
    }
   ],
   "source": [
    "for var in range(1,len(df_csv.index)+1):\n",
    "    print(var,end=' ')"
   ]
  },
  {
   "cell_type": "code",
   "execution_count": 154,
   "id": "c04a478f-9c98-40a0-99af-1534e814d838",
   "metadata": {},
   "outputs": [],
   "source": [
    "df_csv.index = [var for var in range(1,len(df_csv.index)+1)]"
   ]
  },
  {
   "cell_type": "code",
   "execution_count": 155,
   "id": "d6fce816-102f-4786-9187-117366840716",
   "metadata": {},
   "outputs": [
    {
     "data": {
      "text/plain": [
       "Index([1, 2, 3, 4, 5, 6, 7, 8, 9], dtype='int64')"
      ]
     },
     "execution_count": 155,
     "metadata": {},
     "output_type": "execute_result"
    }
   ],
   "source": [
    "df_csv.index"
   ]
  },
  {
   "cell_type": "code",
   "execution_count": 156,
   "id": "7bd3c7fc-3615-4497-9f06-481dcd84982d",
   "metadata": {},
   "outputs": [
    {
     "data": {
      "text/html": [
       "<div>\n",
       "<style scoped>\n",
       "    .dataframe tbody tr th:only-of-type {\n",
       "        vertical-align: middle;\n",
       "    }\n",
       "\n",
       "    .dataframe tbody tr th {\n",
       "        vertical-align: top;\n",
       "    }\n",
       "\n",
       "    .dataframe thead th {\n",
       "        text-align: right;\n",
       "    }\n",
       "</style>\n",
       "<table border=\"1\" class=\"dataframe\">\n",
       "  <thead>\n",
       "    <tr style=\"text-align: right;\">\n",
       "      <th></th>\n",
       "      <th>eid</th>\n",
       "      <th>ename</th>\n",
       "      <th>EDEPT</th>\n",
       "      <th>ecity</th>\n",
       "      <th>Amount</th>\n",
       "    </tr>\n",
       "  </thead>\n",
       "  <tbody>\n",
       "    <tr>\n",
       "      <th>1</th>\n",
       "      <td>101</td>\n",
       "      <td>raj</td>\n",
       "      <td>sales</td>\n",
       "      <td>pune</td>\n",
       "      <td>1000</td>\n",
       "    </tr>\n",
       "    <tr>\n",
       "      <th>2</th>\n",
       "      <td>102</td>\n",
       "      <td>leo</td>\n",
       "      <td>prod</td>\n",
       "      <td>bglore</td>\n",
       "      <td>2301</td>\n",
       "    </tr>\n",
       "    <tr>\n",
       "      <th>3</th>\n",
       "      <td>230</td>\n",
       "      <td>raj</td>\n",
       "      <td>prod</td>\n",
       "      <td>pune</td>\n",
       "      <td>2300</td>\n",
       "    </tr>\n",
       "    <tr>\n",
       "      <th>4</th>\n",
       "      <td>450</td>\n",
       "      <td>shan</td>\n",
       "      <td>sales</td>\n",
       "      <td>bglore</td>\n",
       "      <td>3401</td>\n",
       "    </tr>\n",
       "    <tr>\n",
       "      <th>5</th>\n",
       "      <td>542</td>\n",
       "      <td>anu</td>\n",
       "      <td>HR</td>\n",
       "      <td>mumbai</td>\n",
       "      <td>4590</td>\n",
       "    </tr>\n",
       "    <tr>\n",
       "      <th>6</th>\n",
       "      <td>321</td>\n",
       "      <td>bibu</td>\n",
       "      <td>sales</td>\n",
       "      <td>hyd</td>\n",
       "      <td>5419</td>\n",
       "    </tr>\n",
       "    <tr>\n",
       "      <th>7</th>\n",
       "      <td>651</td>\n",
       "      <td>ram</td>\n",
       "      <td>hr</td>\n",
       "      <td>bglore</td>\n",
       "      <td>3130</td>\n",
       "    </tr>\n",
       "    <tr>\n",
       "      <th>8</th>\n",
       "      <td>541</td>\n",
       "      <td>leo</td>\n",
       "      <td>admin</td>\n",
       "      <td>chennai</td>\n",
       "      <td>4913</td>\n",
       "    </tr>\n",
       "    <tr>\n",
       "      <th>9</th>\n",
       "      <td>652</td>\n",
       "      <td>karthik</td>\n",
       "      <td>sales</td>\n",
       "      <td>bglore</td>\n",
       "      <td>3405</td>\n",
       "    </tr>\n",
       "  </tbody>\n",
       "</table>\n",
       "</div>"
      ],
      "text/plain": [
       "   eid    ename  EDEPT    ecity  Amount\n",
       "1  101      raj  sales     pune    1000\n",
       "2  102      leo   prod   bglore    2301\n",
       "3  230      raj   prod     pune    2300\n",
       "4  450     shan  sales   bglore    3401\n",
       "5  542      anu     HR   mumbai    4590\n",
       "6  321     bibu  sales      hyd    5419\n",
       "7  651      ram     hr   bglore    3130\n",
       "8  541      leo  admin  chennai    4913\n",
       "9  652  karthik  sales   bglore    3405"
      ]
     },
     "execution_count": 156,
     "metadata": {},
     "output_type": "execute_result"
    }
   ],
   "source": [
    "df_csv"
   ]
  },
  {
   "cell_type": "code",
   "execution_count": 159,
   "id": "d4ba4266-e435-4b7e-8952-bff09c62dd47",
   "metadata": {},
   "outputs": [
    {
     "data": {
      "text/plain": [
       "[120.0,\n",
       " 276.12,\n",
       " 276.0,\n",
       " 612.18,\n",
       " 826.1999999999999,\n",
       " 975.42,\n",
       " 563.4,\n",
       " 884.3399999999999,\n",
       " 612.9]"
      ]
     },
     "execution_count": 159,
     "metadata": {},
     "output_type": "execute_result"
    }
   ],
   "source": [
    "d={}\n",
    "\n",
    "d['Tax'] = [var*0.18 if var > 2500 else var * 0.12 for var in df_csv['Amount']]\n",
    "d['Tax']"
   ]
  },
  {
   "cell_type": "code",
   "execution_count": 160,
   "id": "83b6229a-793a-4063-8bf6-140306748d3a",
   "metadata": {},
   "outputs": [
    {
     "data": {
      "text/html": [
       "<div>\n",
       "<style scoped>\n",
       "    .dataframe tbody tr th:only-of-type {\n",
       "        vertical-align: middle;\n",
       "    }\n",
       "\n",
       "    .dataframe tbody tr th {\n",
       "        vertical-align: top;\n",
       "    }\n",
       "\n",
       "    .dataframe thead th {\n",
       "        text-align: right;\n",
       "    }\n",
       "</style>\n",
       "<table border=\"1\" class=\"dataframe\">\n",
       "  <thead>\n",
       "    <tr style=\"text-align: right;\">\n",
       "      <th></th>\n",
       "      <th>eid</th>\n",
       "      <th>ename</th>\n",
       "      <th>EDEPT</th>\n",
       "      <th>ecity</th>\n",
       "      <th>Amount</th>\n",
       "    </tr>\n",
       "  </thead>\n",
       "  <tbody>\n",
       "    <tr>\n",
       "      <th>1</th>\n",
       "      <td>101</td>\n",
       "      <td>raj</td>\n",
       "      <td>sales</td>\n",
       "      <td>pune</td>\n",
       "      <td>1000</td>\n",
       "    </tr>\n",
       "    <tr>\n",
       "      <th>2</th>\n",
       "      <td>102</td>\n",
       "      <td>leo</td>\n",
       "      <td>prod</td>\n",
       "      <td>bglore</td>\n",
       "      <td>2301</td>\n",
       "    </tr>\n",
       "    <tr>\n",
       "      <th>3</th>\n",
       "      <td>230</td>\n",
       "      <td>raj</td>\n",
       "      <td>prod</td>\n",
       "      <td>pune</td>\n",
       "      <td>2300</td>\n",
       "    </tr>\n",
       "    <tr>\n",
       "      <th>4</th>\n",
       "      <td>450</td>\n",
       "      <td>shan</td>\n",
       "      <td>sales</td>\n",
       "      <td>bglore</td>\n",
       "      <td>3401</td>\n",
       "    </tr>\n",
       "    <tr>\n",
       "      <th>5</th>\n",
       "      <td>542</td>\n",
       "      <td>anu</td>\n",
       "      <td>HR</td>\n",
       "      <td>mumbai</td>\n",
       "      <td>4590</td>\n",
       "    </tr>\n",
       "    <tr>\n",
       "      <th>6</th>\n",
       "      <td>321</td>\n",
       "      <td>bibu</td>\n",
       "      <td>sales</td>\n",
       "      <td>hyd</td>\n",
       "      <td>5419</td>\n",
       "    </tr>\n",
       "    <tr>\n",
       "      <th>7</th>\n",
       "      <td>651</td>\n",
       "      <td>ram</td>\n",
       "      <td>hr</td>\n",
       "      <td>bglore</td>\n",
       "      <td>3130</td>\n",
       "    </tr>\n",
       "    <tr>\n",
       "      <th>8</th>\n",
       "      <td>541</td>\n",
       "      <td>leo</td>\n",
       "      <td>admin</td>\n",
       "      <td>chennai</td>\n",
       "      <td>4913</td>\n",
       "    </tr>\n",
       "    <tr>\n",
       "      <th>9</th>\n",
       "      <td>652</td>\n",
       "      <td>karthik</td>\n",
       "      <td>sales</td>\n",
       "      <td>bglore</td>\n",
       "      <td>3405</td>\n",
       "    </tr>\n",
       "  </tbody>\n",
       "</table>\n",
       "</div>"
      ],
      "text/plain": [
       "   eid    ename  EDEPT    ecity  Amount\n",
       "1  101      raj  sales     pune    1000\n",
       "2  102      leo   prod   bglore    2301\n",
       "3  230      raj   prod     pune    2300\n",
       "4  450     shan  sales   bglore    3401\n",
       "5  542      anu     HR   mumbai    4590\n",
       "6  321     bibu  sales      hyd    5419\n",
       "7  651      ram     hr   bglore    3130\n",
       "8  541      leo  admin  chennai    4913\n",
       "9  652  karthik  sales   bglore    3405"
      ]
     },
     "execution_count": 160,
     "metadata": {},
     "output_type": "execute_result"
    }
   ],
   "source": [
    "df_csv.sort_index()"
   ]
  },
  {
   "cell_type": "code",
   "execution_count": 161,
   "id": "c833207a-5bfc-43dc-97b6-9204f7996e75",
   "metadata": {},
   "outputs": [
    {
     "data": {
      "text/html": [
       "<div>\n",
       "<style scoped>\n",
       "    .dataframe tbody tr th:only-of-type {\n",
       "        vertical-align: middle;\n",
       "    }\n",
       "\n",
       "    .dataframe tbody tr th {\n",
       "        vertical-align: top;\n",
       "    }\n",
       "\n",
       "    .dataframe thead th {\n",
       "        text-align: right;\n",
       "    }\n",
       "</style>\n",
       "<table border=\"1\" class=\"dataframe\">\n",
       "  <thead>\n",
       "    <tr style=\"text-align: right;\">\n",
       "      <th></th>\n",
       "      <th>eid</th>\n",
       "      <th>ename</th>\n",
       "      <th>EDEPT</th>\n",
       "      <th>ecity</th>\n",
       "      <th>Amount</th>\n",
       "    </tr>\n",
       "  </thead>\n",
       "  <tbody>\n",
       "    <tr>\n",
       "      <th>9</th>\n",
       "      <td>652</td>\n",
       "      <td>karthik</td>\n",
       "      <td>sales</td>\n",
       "      <td>bglore</td>\n",
       "      <td>3405</td>\n",
       "    </tr>\n",
       "    <tr>\n",
       "      <th>8</th>\n",
       "      <td>541</td>\n",
       "      <td>leo</td>\n",
       "      <td>admin</td>\n",
       "      <td>chennai</td>\n",
       "      <td>4913</td>\n",
       "    </tr>\n",
       "    <tr>\n",
       "      <th>7</th>\n",
       "      <td>651</td>\n",
       "      <td>ram</td>\n",
       "      <td>hr</td>\n",
       "      <td>bglore</td>\n",
       "      <td>3130</td>\n",
       "    </tr>\n",
       "    <tr>\n",
       "      <th>6</th>\n",
       "      <td>321</td>\n",
       "      <td>bibu</td>\n",
       "      <td>sales</td>\n",
       "      <td>hyd</td>\n",
       "      <td>5419</td>\n",
       "    </tr>\n",
       "    <tr>\n",
       "      <th>5</th>\n",
       "      <td>542</td>\n",
       "      <td>anu</td>\n",
       "      <td>HR</td>\n",
       "      <td>mumbai</td>\n",
       "      <td>4590</td>\n",
       "    </tr>\n",
       "    <tr>\n",
       "      <th>4</th>\n",
       "      <td>450</td>\n",
       "      <td>shan</td>\n",
       "      <td>sales</td>\n",
       "      <td>bglore</td>\n",
       "      <td>3401</td>\n",
       "    </tr>\n",
       "    <tr>\n",
       "      <th>3</th>\n",
       "      <td>230</td>\n",
       "      <td>raj</td>\n",
       "      <td>prod</td>\n",
       "      <td>pune</td>\n",
       "      <td>2300</td>\n",
       "    </tr>\n",
       "    <tr>\n",
       "      <th>2</th>\n",
       "      <td>102</td>\n",
       "      <td>leo</td>\n",
       "      <td>prod</td>\n",
       "      <td>bglore</td>\n",
       "      <td>2301</td>\n",
       "    </tr>\n",
       "    <tr>\n",
       "      <th>1</th>\n",
       "      <td>101</td>\n",
       "      <td>raj</td>\n",
       "      <td>sales</td>\n",
       "      <td>pune</td>\n",
       "      <td>1000</td>\n",
       "    </tr>\n",
       "  </tbody>\n",
       "</table>\n",
       "</div>"
      ],
      "text/plain": [
       "   eid    ename  EDEPT    ecity  Amount\n",
       "9  652  karthik  sales   bglore    3405\n",
       "8  541      leo  admin  chennai    4913\n",
       "7  651      ram     hr   bglore    3130\n",
       "6  321     bibu  sales      hyd    5419\n",
       "5  542      anu     HR   mumbai    4590\n",
       "4  450     shan  sales   bglore    3401\n",
       "3  230      raj   prod     pune    2300\n",
       "2  102      leo   prod   bglore    2301\n",
       "1  101      raj  sales     pune    1000"
      ]
     },
     "execution_count": 161,
     "metadata": {},
     "output_type": "execute_result"
    }
   ],
   "source": [
    "df_csv.sort_index(ascending=False)"
   ]
  },
  {
   "cell_type": "code",
   "execution_count": 162,
   "id": "f61097d0-f247-43a0-bfd0-dffd1c397037",
   "metadata": {},
   "outputs": [
    {
     "data": {
      "text/html": [
       "<div>\n",
       "<style scoped>\n",
       "    .dataframe tbody tr th:only-of-type {\n",
       "        vertical-align: middle;\n",
       "    }\n",
       "\n",
       "    .dataframe tbody tr th {\n",
       "        vertical-align: top;\n",
       "    }\n",
       "\n",
       "    .dataframe thead th {\n",
       "        text-align: right;\n",
       "    }\n",
       "</style>\n",
       "<table border=\"1\" class=\"dataframe\">\n",
       "  <thead>\n",
       "    <tr style=\"text-align: right;\">\n",
       "      <th></th>\n",
       "      <th>eid</th>\n",
       "      <th>ename</th>\n",
       "      <th>EDEPT</th>\n",
       "      <th>ecity</th>\n",
       "      <th>Amount</th>\n",
       "    </tr>\n",
       "  </thead>\n",
       "  <tbody>\n",
       "    <tr>\n",
       "      <th>5</th>\n",
       "      <td>542</td>\n",
       "      <td>anu</td>\n",
       "      <td>HR</td>\n",
       "      <td>mumbai</td>\n",
       "      <td>4590</td>\n",
       "    </tr>\n",
       "    <tr>\n",
       "      <th>6</th>\n",
       "      <td>321</td>\n",
       "      <td>bibu</td>\n",
       "      <td>sales</td>\n",
       "      <td>hyd</td>\n",
       "      <td>5419</td>\n",
       "    </tr>\n",
       "    <tr>\n",
       "      <th>9</th>\n",
       "      <td>652</td>\n",
       "      <td>karthik</td>\n",
       "      <td>sales</td>\n",
       "      <td>bglore</td>\n",
       "      <td>3405</td>\n",
       "    </tr>\n",
       "    <tr>\n",
       "      <th>2</th>\n",
       "      <td>102</td>\n",
       "      <td>leo</td>\n",
       "      <td>prod</td>\n",
       "      <td>bglore</td>\n",
       "      <td>2301</td>\n",
       "    </tr>\n",
       "    <tr>\n",
       "      <th>8</th>\n",
       "      <td>541</td>\n",
       "      <td>leo</td>\n",
       "      <td>admin</td>\n",
       "      <td>chennai</td>\n",
       "      <td>4913</td>\n",
       "    </tr>\n",
       "    <tr>\n",
       "      <th>1</th>\n",
       "      <td>101</td>\n",
       "      <td>raj</td>\n",
       "      <td>sales</td>\n",
       "      <td>pune</td>\n",
       "      <td>1000</td>\n",
       "    </tr>\n",
       "    <tr>\n",
       "      <th>3</th>\n",
       "      <td>230</td>\n",
       "      <td>raj</td>\n",
       "      <td>prod</td>\n",
       "      <td>pune</td>\n",
       "      <td>2300</td>\n",
       "    </tr>\n",
       "    <tr>\n",
       "      <th>7</th>\n",
       "      <td>651</td>\n",
       "      <td>ram</td>\n",
       "      <td>hr</td>\n",
       "      <td>bglore</td>\n",
       "      <td>3130</td>\n",
       "    </tr>\n",
       "    <tr>\n",
       "      <th>4</th>\n",
       "      <td>450</td>\n",
       "      <td>shan</td>\n",
       "      <td>sales</td>\n",
       "      <td>bglore</td>\n",
       "      <td>3401</td>\n",
       "    </tr>\n",
       "  </tbody>\n",
       "</table>\n",
       "</div>"
      ],
      "text/plain": [
       "   eid    ename  EDEPT    ecity  Amount\n",
       "5  542      anu     HR   mumbai    4590\n",
       "6  321     bibu  sales      hyd    5419\n",
       "9  652  karthik  sales   bglore    3405\n",
       "2  102      leo   prod   bglore    2301\n",
       "8  541      leo  admin  chennai    4913\n",
       "1  101      raj  sales     pune    1000\n",
       "3  230      raj   prod     pune    2300\n",
       "7  651      ram     hr   bglore    3130\n",
       "4  450     shan  sales   bglore    3401"
      ]
     },
     "execution_count": 162,
     "metadata": {},
     "output_type": "execute_result"
    }
   ],
   "source": [
    "df_csv.sort_values(by='ename')"
   ]
  },
  {
   "cell_type": "code",
   "execution_count": 167,
   "id": "90dedc5e-806e-4b9b-b29b-f1e89ca82b20",
   "metadata": {},
   "outputs": [
    {
     "data": {
      "text/html": [
       "<div>\n",
       "<style scoped>\n",
       "    .dataframe tbody tr th:only-of-type {\n",
       "        vertical-align: middle;\n",
       "    }\n",
       "\n",
       "    .dataframe tbody tr th {\n",
       "        vertical-align: top;\n",
       "    }\n",
       "\n",
       "    .dataframe thead th {\n",
       "        text-align: right;\n",
       "    }\n",
       "</style>\n",
       "<table border=\"1\" class=\"dataframe\">\n",
       "  <thead>\n",
       "    <tr style=\"text-align: right;\">\n",
       "      <th></th>\n",
       "      <th>eid</th>\n",
       "      <th>ename</th>\n",
       "      <th>EDEPT</th>\n",
       "      <th>ecity</th>\n",
       "      <th>Amount</th>\n",
       "    </tr>\n",
       "  </thead>\n",
       "  <tbody>\n",
       "    <tr>\n",
       "      <th>1</th>\n",
       "      <td>101</td>\n",
       "      <td>raj</td>\n",
       "      <td>sales</td>\n",
       "      <td>pune</td>\n",
       "      <td>1000</td>\n",
       "    </tr>\n",
       "    <tr>\n",
       "      <th>4</th>\n",
       "      <td>450</td>\n",
       "      <td>shan</td>\n",
       "      <td>sales</td>\n",
       "      <td>bglore</td>\n",
       "      <td>3401</td>\n",
       "    </tr>\n",
       "    <tr>\n",
       "      <th>6</th>\n",
       "      <td>321</td>\n",
       "      <td>bibu</td>\n",
       "      <td>sales</td>\n",
       "      <td>hyd</td>\n",
       "      <td>5419</td>\n",
       "    </tr>\n",
       "    <tr>\n",
       "      <th>9</th>\n",
       "      <td>652</td>\n",
       "      <td>karthik</td>\n",
       "      <td>sales</td>\n",
       "      <td>bglore</td>\n",
       "      <td>3405</td>\n",
       "    </tr>\n",
       "  </tbody>\n",
       "</table>\n",
       "</div>"
      ],
      "text/plain": [
       "   eid    ename  EDEPT   ecity  Amount\n",
       "1  101      raj  sales    pune    1000\n",
       "4  450     shan  sales  bglore    3401\n",
       "6  321     bibu  sales     hyd    5419\n",
       "9  652  karthik  sales  bglore    3405"
      ]
     },
     "execution_count": 167,
     "metadata": {},
     "output_type": "execute_result"
    }
   ],
   "source": [
    "df_csv['EDEPT']\n",
    "df_csv['EDEPT'] == 'sales'\n",
    "df_csv[df_csv['EDEPT'] == 'sales'] # bool index"
   ]
  },
  {
   "cell_type": "code",
   "execution_count": null,
   "id": "7278e8c7-78d0-4991-a0d7-b3da1efde61b",
   "metadata": {},
   "outputs": [],
   "source": [
    "Data Aggregation\n",
    "------------------------\n",
    "range of data//array ---->-- scalar data (single)\n",
    "np.max([1,123,145,424345,34]) -> 424345 \n",
    "       |___________________|     |____|\n",
    "             //array              //scalar - Single\n",
    "\n",
    "np.max()\n",
    "np.min()\n",
    "np.mean()\n",
    "np.sum()\n",
    "..\n",
    "df.groupby('field').sum()|max()|min()|mean()|count()|..."
   ]
  },
  {
   "cell_type": "code",
   "execution_count": 169,
   "id": "64d3fd21-3246-4de9-880a-05468354c348",
   "metadata": {},
   "outputs": [
    {
     "data": {
      "text/html": [
       "<div>\n",
       "<style scoped>\n",
       "    .dataframe tbody tr th:only-of-type {\n",
       "        vertical-align: middle;\n",
       "    }\n",
       "\n",
       "    .dataframe tbody tr th {\n",
       "        vertical-align: top;\n",
       "    }\n",
       "\n",
       "    .dataframe thead th {\n",
       "        text-align: right;\n",
       "    }\n",
       "</style>\n",
       "<table border=\"1\" class=\"dataframe\">\n",
       "  <thead>\n",
       "    <tr style=\"text-align: right;\">\n",
       "      <th></th>\n",
       "      <th>sales</th>\n",
       "    </tr>\n",
       "    <tr>\n",
       "      <th>pnames</th>\n",
       "      <th></th>\n",
       "    </tr>\n",
       "  </thead>\n",
       "  <tbody>\n",
       "    <tr>\n",
       "      <th>pA</th>\n",
       "      <td>220</td>\n",
       "    </tr>\n",
       "    <tr>\n",
       "      <th>pB</th>\n",
       "      <td>540</td>\n",
       "    </tr>\n",
       "    <tr>\n",
       "      <th>pC</th>\n",
       "      <td>250</td>\n",
       "    </tr>\n",
       "    <tr>\n",
       "      <th>pD</th>\n",
       "      <td>120</td>\n",
       "    </tr>\n",
       "  </tbody>\n",
       "</table>\n",
       "</div>"
      ],
      "text/plain": [
       "        sales\n",
       "pnames       \n",
       "pA        220\n",
       "pB        540\n",
       "pC        250\n",
       "pD        120"
      ]
     },
     "execution_count": 169,
     "metadata": {},
     "output_type": "execute_result"
    }
   ],
   "source": [
    "products={'pnames':['pA','pB','pC','pD','pC','pA','pB'],\n",
    "          'sales':[100,200,140,120,110,120,340]}\n",
    "\n",
    "df = pd.DataFrame(products)\n",
    "df.groupby('pnames').sum()"
   ]
  },
  {
   "cell_type": "code",
   "execution_count": 170,
   "id": "6f3444ac-e602-452f-9cba-0f93fd99e4d0",
   "metadata": {},
   "outputs": [
    {
     "data": {
      "text/html": [
       "<div>\n",
       "<style scoped>\n",
       "    .dataframe tbody tr th:only-of-type {\n",
       "        vertical-align: middle;\n",
       "    }\n",
       "\n",
       "    .dataframe tbody tr th {\n",
       "        vertical-align: top;\n",
       "    }\n",
       "\n",
       "    .dataframe thead th {\n",
       "        text-align: right;\n",
       "    }\n",
       "</style>\n",
       "<table border=\"1\" class=\"dataframe\">\n",
       "  <thead>\n",
       "    <tr style=\"text-align: right;\">\n",
       "      <th></th>\n",
       "      <th>sales</th>\n",
       "    </tr>\n",
       "    <tr>\n",
       "      <th>pnames</th>\n",
       "      <th></th>\n",
       "    </tr>\n",
       "  </thead>\n",
       "  <tbody>\n",
       "    <tr>\n",
       "      <th>pA</th>\n",
       "      <td>100</td>\n",
       "    </tr>\n",
       "    <tr>\n",
       "      <th>pB</th>\n",
       "      <td>200</td>\n",
       "    </tr>\n",
       "    <tr>\n",
       "      <th>pC</th>\n",
       "      <td>110</td>\n",
       "    </tr>\n",
       "    <tr>\n",
       "      <th>pD</th>\n",
       "      <td>120</td>\n",
       "    </tr>\n",
       "  </tbody>\n",
       "</table>\n",
       "</div>"
      ],
      "text/plain": [
       "        sales\n",
       "pnames       \n",
       "pA        100\n",
       "pB        200\n",
       "pC        110\n",
       "pD        120"
      ]
     },
     "execution_count": 170,
     "metadata": {},
     "output_type": "execute_result"
    }
   ],
   "source": [
    "df.groupby('pnames').min()"
   ]
  },
  {
   "cell_type": "code",
   "execution_count": 171,
   "id": "d02c4fba-19ae-4f71-86b7-3524ddd8c9a9",
   "metadata": {},
   "outputs": [
    {
     "data": {
      "text/html": [
       "<div>\n",
       "<style scoped>\n",
       "    .dataframe tbody tr th:only-of-type {\n",
       "        vertical-align: middle;\n",
       "    }\n",
       "\n",
       "    .dataframe tbody tr th {\n",
       "        vertical-align: top;\n",
       "    }\n",
       "\n",
       "    .dataframe thead th {\n",
       "        text-align: right;\n",
       "    }\n",
       "</style>\n",
       "<table border=\"1\" class=\"dataframe\">\n",
       "  <thead>\n",
       "    <tr style=\"text-align: right;\">\n",
       "      <th></th>\n",
       "      <th>sales</th>\n",
       "    </tr>\n",
       "    <tr>\n",
       "      <th>pnames</th>\n",
       "      <th></th>\n",
       "    </tr>\n",
       "  </thead>\n",
       "  <tbody>\n",
       "    <tr>\n",
       "      <th>pA</th>\n",
       "      <td>120</td>\n",
       "    </tr>\n",
       "    <tr>\n",
       "      <th>pB</th>\n",
       "      <td>340</td>\n",
       "    </tr>\n",
       "    <tr>\n",
       "      <th>pC</th>\n",
       "      <td>140</td>\n",
       "    </tr>\n",
       "    <tr>\n",
       "      <th>pD</th>\n",
       "      <td>120</td>\n",
       "    </tr>\n",
       "  </tbody>\n",
       "</table>\n",
       "</div>"
      ],
      "text/plain": [
       "        sales\n",
       "pnames       \n",
       "pA        120\n",
       "pB        340\n",
       "pC        140\n",
       "pD        120"
      ]
     },
     "execution_count": 171,
     "metadata": {},
     "output_type": "execute_result"
    }
   ],
   "source": [
    "df.groupby('pnames').max()"
   ]
  },
  {
   "cell_type": "code",
   "execution_count": 172,
   "id": "3622c9c5-4ab0-42c8-8774-f4eddee340af",
   "metadata": {},
   "outputs": [
    {
     "data": {
      "text/html": [
       "<div>\n",
       "<style scoped>\n",
       "    .dataframe tbody tr th:only-of-type {\n",
       "        vertical-align: middle;\n",
       "    }\n",
       "\n",
       "    .dataframe tbody tr th {\n",
       "        vertical-align: top;\n",
       "    }\n",
       "\n",
       "    .dataframe thead tr th {\n",
       "        text-align: left;\n",
       "    }\n",
       "\n",
       "    .dataframe thead tr:last-of-type th {\n",
       "        text-align: right;\n",
       "    }\n",
       "</style>\n",
       "<table border=\"1\" class=\"dataframe\">\n",
       "  <thead>\n",
       "    <tr>\n",
       "      <th></th>\n",
       "      <th colspan=\"2\" halign=\"left\">sales</th>\n",
       "    </tr>\n",
       "    <tr>\n",
       "      <th></th>\n",
       "      <th>min</th>\n",
       "      <th>max</th>\n",
       "    </tr>\n",
       "    <tr>\n",
       "      <th>pnames</th>\n",
       "      <th></th>\n",
       "      <th></th>\n",
       "    </tr>\n",
       "  </thead>\n",
       "  <tbody>\n",
       "    <tr>\n",
       "      <th>pA</th>\n",
       "      <td>100</td>\n",
       "      <td>120</td>\n",
       "    </tr>\n",
       "    <tr>\n",
       "      <th>pB</th>\n",
       "      <td>200</td>\n",
       "      <td>340</td>\n",
       "    </tr>\n",
       "    <tr>\n",
       "      <th>pC</th>\n",
       "      <td>110</td>\n",
       "      <td>140</td>\n",
       "    </tr>\n",
       "    <tr>\n",
       "      <th>pD</th>\n",
       "      <td>120</td>\n",
       "      <td>120</td>\n",
       "    </tr>\n",
       "  </tbody>\n",
       "</table>\n",
       "</div>"
      ],
      "text/plain": [
       "       sales     \n",
       "         min  max\n",
       "pnames           \n",
       "pA       100  120\n",
       "pB       200  340\n",
       "pC       110  140\n",
       "pD       120  120"
      ]
     },
     "execution_count": 172,
     "metadata": {},
     "output_type": "execute_result"
    }
   ],
   "source": [
    "df.groupby('pnames').agg(['min','max'])"
   ]
  },
  {
   "cell_type": "code",
   "execution_count": null,
   "id": "1c2f48b5-4c84-4bed-81f2-80f4ea60f4a8",
   "metadata": {},
   "outputs": [],
   "source": []
  },
  {
   "cell_type": "code",
   "execution_count": 167,
   "id": "f44ab6a8-22f1-4ce1-8914-e7e0e8d2c814",
   "metadata": {},
   "outputs": [
    {
     "data": {
      "text/html": [
       "<div>\n",
       "<style scoped>\n",
       "    .dataframe tbody tr th:only-of-type {\n",
       "        vertical-align: middle;\n",
       "    }\n",
       "\n",
       "    .dataframe tbody tr th {\n",
       "        vertical-align: top;\n",
       "    }\n",
       "\n",
       "    .dataframe thead th {\n",
       "        text-align: right;\n",
       "    }\n",
       "</style>\n",
       "<table border=\"1\" class=\"dataframe\">\n",
       "  <thead>\n",
       "    <tr style=\"text-align: right;\">\n",
       "      <th></th>\n",
       "      <th>eid</th>\n",
       "      <th>ename</th>\n",
       "      <th>EDEPT</th>\n",
       "      <th>ecity</th>\n",
       "      <th>Amount</th>\n",
       "    </tr>\n",
       "  </thead>\n",
       "  <tbody>\n",
       "    <tr>\n",
       "      <th>1</th>\n",
       "      <td>101</td>\n",
       "      <td>raj</td>\n",
       "      <td>sales</td>\n",
       "      <td>pune</td>\n",
       "      <td>1000</td>\n",
       "    </tr>\n",
       "    <tr>\n",
       "      <th>4</th>\n",
       "      <td>450</td>\n",
       "      <td>shan</td>\n",
       "      <td>sales</td>\n",
       "      <td>bglore</td>\n",
       "      <td>3401</td>\n",
       "    </tr>\n",
       "    <tr>\n",
       "      <th>6</th>\n",
       "      <td>321</td>\n",
       "      <td>bibu</td>\n",
       "      <td>sales</td>\n",
       "      <td>hyd</td>\n",
       "      <td>5419</td>\n",
       "    </tr>\n",
       "    <tr>\n",
       "      <th>9</th>\n",
       "      <td>652</td>\n",
       "      <td>karthik</td>\n",
       "      <td>sales</td>\n",
       "      <td>bglore</td>\n",
       "      <td>3405</td>\n",
       "    </tr>\n",
       "  </tbody>\n",
       "</table>\n",
       "</div>"
      ],
      "text/plain": [
       "   eid    ename  EDEPT   ecity  Amount\n",
       "1  101      raj  sales    pune    1000\n",
       "4  450     shan  sales  bglore    3401\n",
       "6  321     bibu  sales     hyd    5419\n",
       "9  652  karthik  sales  bglore    3405"
      ]
     },
     "execution_count": 167,
     "metadata": {},
     "output_type": "execute_result"
    }
   ],
   "source": [
    "df_csv['EDEPT']\n",
    "df_csv['EDEPT'] == 'sales'\n",
    "df_csv[df_csv['EDEPT'] == 'sales'] # bool index"
   ]
  },
  {
   "cell_type": "code",
   "execution_count": 179,
   "id": "01cf4047-215d-4ec6-828b-1ef2068d6aff",
   "metadata": {},
   "outputs": [
    {
     "name": "stdout",
     "output_type": "stream",
     "text": [
      "Index(['sales', 'prod', 'prod', 'sales', 'HR', 'sales', 'hr', 'admin',\n",
      "       'sales'],\n",
      "      dtype='object', name='edept')\n",
      "\n"
     ]
    },
    {
     "data": {
      "text/html": [
       "<div>\n",
       "<style scoped>\n",
       "    .dataframe tbody tr th:only-of-type {\n",
       "        vertical-align: middle;\n",
       "    }\n",
       "\n",
       "    .dataframe tbody tr th {\n",
       "        vertical-align: top;\n",
       "    }\n",
       "\n",
       "    .dataframe thead th {\n",
       "        text-align: right;\n",
       "    }\n",
       "</style>\n",
       "<table border=\"1\" class=\"dataframe\">\n",
       "  <thead>\n",
       "    <tr style=\"text-align: right;\">\n",
       "      <th></th>\n",
       "      <th>eid</th>\n",
       "      <th>ename</th>\n",
       "      <th>ecity</th>\n",
       "      <th>ecost</th>\n",
       "    </tr>\n",
       "    <tr>\n",
       "      <th>edept</th>\n",
       "      <th></th>\n",
       "      <th></th>\n",
       "      <th></th>\n",
       "      <th></th>\n",
       "    </tr>\n",
       "  </thead>\n",
       "  <tbody>\n",
       "    <tr>\n",
       "      <th>sales</th>\n",
       "      <td>101</td>\n",
       "      <td>raj</td>\n",
       "      <td>pune</td>\n",
       "      <td>1000</td>\n",
       "    </tr>\n",
       "    <tr>\n",
       "      <th>sales</th>\n",
       "      <td>450</td>\n",
       "      <td>shan</td>\n",
       "      <td>bglore</td>\n",
       "      <td>3401</td>\n",
       "    </tr>\n",
       "    <tr>\n",
       "      <th>sales</th>\n",
       "      <td>321</td>\n",
       "      <td>bibu</td>\n",
       "      <td>hyd</td>\n",
       "      <td>5419</td>\n",
       "    </tr>\n",
       "    <tr>\n",
       "      <th>sales</th>\n",
       "      <td>652</td>\n",
       "      <td>karthik</td>\n",
       "      <td>bglore</td>\n",
       "      <td>3405</td>\n",
       "    </tr>\n",
       "  </tbody>\n",
       "</table>\n",
       "</div>"
      ],
      "text/plain": [
       "       eid    ename   ecity  ecost\n",
       "edept                             \n",
       "sales  101      raj    pune   1000\n",
       "sales  450     shan  bglore   3401\n",
       "sales  321     bibu     hyd   5419\n",
       "sales  652  karthik  bglore   3405"
      ]
     },
     "execution_count": 179,
     "metadata": {},
     "output_type": "execute_result"
    }
   ],
   "source": [
    "df1_csv=pd.read_csv('emp.csv',index_col=2) # pd.read_csv('emp.csv',index_col='edept')\n",
    "print(df1_csv.index)\n",
    "print('')\n",
    "df1_csv.loc['sales']"
   ]
  },
  {
   "cell_type": "code",
   "execution_count": 181,
   "id": "8886ab76-bb6a-43f1-a55c-860a28b3201b",
   "metadata": {},
   "outputs": [],
   "source": [
    "df1_csv.to_csv('r2.csv')"
   ]
  },
  {
   "cell_type": "code",
   "execution_count": 182,
   "id": "84cc84cf-2122-4bca-af52-c72a371dd06f",
   "metadata": {},
   "outputs": [
    {
     "data": {
      "text/html": [
       "<div>\n",
       "<style scoped>\n",
       "    .dataframe tbody tr th:only-of-type {\n",
       "        vertical-align: middle;\n",
       "    }\n",
       "\n",
       "    .dataframe tbody tr th {\n",
       "        vertical-align: top;\n",
       "    }\n",
       "\n",
       "    .dataframe thead th {\n",
       "        text-align: right;\n",
       "    }\n",
       "</style>\n",
       "<table border=\"1\" class=\"dataframe\">\n",
       "  <thead>\n",
       "    <tr style=\"text-align: right;\">\n",
       "      <th></th>\n",
       "      <th>edept</th>\n",
       "      <th>eid</th>\n",
       "      <th>ename</th>\n",
       "      <th>ecity</th>\n",
       "      <th>ecost</th>\n",
       "    </tr>\n",
       "  </thead>\n",
       "  <tbody>\n",
       "    <tr>\n",
       "      <th>0</th>\n",
       "      <td>sales</td>\n",
       "      <td>101</td>\n",
       "      <td>raj</td>\n",
       "      <td>pune</td>\n",
       "      <td>1000</td>\n",
       "    </tr>\n",
       "    <tr>\n",
       "      <th>1</th>\n",
       "      <td>prod</td>\n",
       "      <td>102</td>\n",
       "      <td>leo</td>\n",
       "      <td>bglore</td>\n",
       "      <td>2301</td>\n",
       "    </tr>\n",
       "    <tr>\n",
       "      <th>2</th>\n",
       "      <td>prod</td>\n",
       "      <td>230</td>\n",
       "      <td>raj</td>\n",
       "      <td>pune</td>\n",
       "      <td>2300</td>\n",
       "    </tr>\n",
       "    <tr>\n",
       "      <th>3</th>\n",
       "      <td>sales</td>\n",
       "      <td>450</td>\n",
       "      <td>shan</td>\n",
       "      <td>bglore</td>\n",
       "      <td>3401</td>\n",
       "    </tr>\n",
       "    <tr>\n",
       "      <th>4</th>\n",
       "      <td>HR</td>\n",
       "      <td>542</td>\n",
       "      <td>anu</td>\n",
       "      <td>mumbai</td>\n",
       "      <td>4590</td>\n",
       "    </tr>\n",
       "    <tr>\n",
       "      <th>5</th>\n",
       "      <td>sales</td>\n",
       "      <td>321</td>\n",
       "      <td>bibu</td>\n",
       "      <td>hyd</td>\n",
       "      <td>5419</td>\n",
       "    </tr>\n",
       "    <tr>\n",
       "      <th>6</th>\n",
       "      <td>hr</td>\n",
       "      <td>651</td>\n",
       "      <td>ram</td>\n",
       "      <td>bglore</td>\n",
       "      <td>3130</td>\n",
       "    </tr>\n",
       "    <tr>\n",
       "      <th>7</th>\n",
       "      <td>admin</td>\n",
       "      <td>541</td>\n",
       "      <td>leo</td>\n",
       "      <td>chennai</td>\n",
       "      <td>4913</td>\n",
       "    </tr>\n",
       "    <tr>\n",
       "      <th>8</th>\n",
       "      <td>sales</td>\n",
       "      <td>652</td>\n",
       "      <td>karthik</td>\n",
       "      <td>bglore</td>\n",
       "      <td>3405</td>\n",
       "    </tr>\n",
       "  </tbody>\n",
       "</table>\n",
       "</div>"
      ],
      "text/plain": [
       "   edept  eid    ename    ecity  ecost\n",
       "0  sales  101      raj     pune   1000\n",
       "1   prod  102      leo   bglore   2301\n",
       "2   prod  230      raj     pune   2300\n",
       "3  sales  450     shan   bglore   3401\n",
       "4     HR  542      anu   mumbai   4590\n",
       "5  sales  321     bibu      hyd   5419\n",
       "6     hr  651      ram   bglore   3130\n",
       "7  admin  541      leo  chennai   4913\n",
       "8  sales  652  karthik   bglore   3405"
      ]
     },
     "execution_count": 182,
     "metadata": {},
     "output_type": "execute_result"
    }
   ],
   "source": [
    "pd.read_csv('r2.csv')"
   ]
  },
  {
   "cell_type": "code",
   "execution_count": 183,
   "id": "b04c3323-7764-4f87-9f86-4090136128a7",
   "metadata": {},
   "outputs": [],
   "source": [
    "df1_csv.to_csv('r1.log',sep=':')"
   ]
  },
  {
   "cell_type": "code",
   "execution_count": 184,
   "id": "77b0bea7-0ac5-4fb8-b277-5c25080838c9",
   "metadata": {},
   "outputs": [
    {
     "data": {
      "text/html": [
       "<div>\n",
       "<style scoped>\n",
       "    .dataframe tbody tr th:only-of-type {\n",
       "        vertical-align: middle;\n",
       "    }\n",
       "\n",
       "    .dataframe tbody tr th {\n",
       "        vertical-align: top;\n",
       "    }\n",
       "\n",
       "    .dataframe thead th {\n",
       "        text-align: right;\n",
       "    }\n",
       "</style>\n",
       "<table border=\"1\" class=\"dataframe\">\n",
       "  <thead>\n",
       "    <tr style=\"text-align: right;\">\n",
       "      <th></th>\n",
       "      <th>edept:eid:ename:ecity:ecost</th>\n",
       "    </tr>\n",
       "  </thead>\n",
       "  <tbody>\n",
       "    <tr>\n",
       "      <th>0</th>\n",
       "      <td>sales:101:raj:pune:1000</td>\n",
       "    </tr>\n",
       "    <tr>\n",
       "      <th>1</th>\n",
       "      <td>prod:102:leo:bglore:2301</td>\n",
       "    </tr>\n",
       "    <tr>\n",
       "      <th>2</th>\n",
       "      <td>prod:230:raj:pune:2300</td>\n",
       "    </tr>\n",
       "    <tr>\n",
       "      <th>3</th>\n",
       "      <td>sales:450:shan:bglore:3401</td>\n",
       "    </tr>\n",
       "    <tr>\n",
       "      <th>4</th>\n",
       "      <td>HR:542:anu:mumbai:4590</td>\n",
       "    </tr>\n",
       "    <tr>\n",
       "      <th>5</th>\n",
       "      <td>sales:321:bibu:hyd:5419</td>\n",
       "    </tr>\n",
       "    <tr>\n",
       "      <th>6</th>\n",
       "      <td>hr:651:ram:bglore:3130</td>\n",
       "    </tr>\n",
       "    <tr>\n",
       "      <th>7</th>\n",
       "      <td>admin:541:leo:chennai:4913</td>\n",
       "    </tr>\n",
       "    <tr>\n",
       "      <th>8</th>\n",
       "      <td>sales:652:karthik:bglore:3405</td>\n",
       "    </tr>\n",
       "  </tbody>\n",
       "</table>\n",
       "</div>"
      ],
      "text/plain": [
       "     edept:eid:ename:ecity:ecost\n",
       "0        sales:101:raj:pune:1000\n",
       "1       prod:102:leo:bglore:2301\n",
       "2         prod:230:raj:pune:2300\n",
       "3     sales:450:shan:bglore:3401\n",
       "4         HR:542:anu:mumbai:4590\n",
       "5        sales:321:bibu:hyd:5419\n",
       "6         hr:651:ram:bglore:3130\n",
       "7     admin:541:leo:chennai:4913\n",
       "8  sales:652:karthik:bglore:3405"
      ]
     },
     "execution_count": 184,
     "metadata": {},
     "output_type": "execute_result"
    }
   ],
   "source": [
    "pd.read_csv('r1.log')"
   ]
  },
  {
   "cell_type": "code",
   "execution_count": 185,
   "id": "4fac9014-3f94-42f4-9524-99e94f3dfedb",
   "metadata": {},
   "outputs": [
    {
     "data": {
      "text/html": [
       "<div>\n",
       "<style scoped>\n",
       "    .dataframe tbody tr th:only-of-type {\n",
       "        vertical-align: middle;\n",
       "    }\n",
       "\n",
       "    .dataframe tbody tr th {\n",
       "        vertical-align: top;\n",
       "    }\n",
       "\n",
       "    .dataframe thead th {\n",
       "        text-align: right;\n",
       "    }\n",
       "</style>\n",
       "<table border=\"1\" class=\"dataframe\">\n",
       "  <thead>\n",
       "    <tr style=\"text-align: right;\">\n",
       "      <th></th>\n",
       "      <th>edept</th>\n",
       "      <th>eid</th>\n",
       "      <th>ename</th>\n",
       "      <th>ecity</th>\n",
       "      <th>ecost</th>\n",
       "    </tr>\n",
       "  </thead>\n",
       "  <tbody>\n",
       "    <tr>\n",
       "      <th>0</th>\n",
       "      <td>sales</td>\n",
       "      <td>101</td>\n",
       "      <td>raj</td>\n",
       "      <td>pune</td>\n",
       "      <td>1000</td>\n",
       "    </tr>\n",
       "    <tr>\n",
       "      <th>1</th>\n",
       "      <td>prod</td>\n",
       "      <td>102</td>\n",
       "      <td>leo</td>\n",
       "      <td>bglore</td>\n",
       "      <td>2301</td>\n",
       "    </tr>\n",
       "    <tr>\n",
       "      <th>2</th>\n",
       "      <td>prod</td>\n",
       "      <td>230</td>\n",
       "      <td>raj</td>\n",
       "      <td>pune</td>\n",
       "      <td>2300</td>\n",
       "    </tr>\n",
       "    <tr>\n",
       "      <th>3</th>\n",
       "      <td>sales</td>\n",
       "      <td>450</td>\n",
       "      <td>shan</td>\n",
       "      <td>bglore</td>\n",
       "      <td>3401</td>\n",
       "    </tr>\n",
       "    <tr>\n",
       "      <th>4</th>\n",
       "      <td>HR</td>\n",
       "      <td>542</td>\n",
       "      <td>anu</td>\n",
       "      <td>mumbai</td>\n",
       "      <td>4590</td>\n",
       "    </tr>\n",
       "    <tr>\n",
       "      <th>5</th>\n",
       "      <td>sales</td>\n",
       "      <td>321</td>\n",
       "      <td>bibu</td>\n",
       "      <td>hyd</td>\n",
       "      <td>5419</td>\n",
       "    </tr>\n",
       "    <tr>\n",
       "      <th>6</th>\n",
       "      <td>hr</td>\n",
       "      <td>651</td>\n",
       "      <td>ram</td>\n",
       "      <td>bglore</td>\n",
       "      <td>3130</td>\n",
       "    </tr>\n",
       "    <tr>\n",
       "      <th>7</th>\n",
       "      <td>admin</td>\n",
       "      <td>541</td>\n",
       "      <td>leo</td>\n",
       "      <td>chennai</td>\n",
       "      <td>4913</td>\n",
       "    </tr>\n",
       "    <tr>\n",
       "      <th>8</th>\n",
       "      <td>sales</td>\n",
       "      <td>652</td>\n",
       "      <td>karthik</td>\n",
       "      <td>bglore</td>\n",
       "      <td>3405</td>\n",
       "    </tr>\n",
       "  </tbody>\n",
       "</table>\n",
       "</div>"
      ],
      "text/plain": [
       "   edept  eid    ename    ecity  ecost\n",
       "0  sales  101      raj     pune   1000\n",
       "1   prod  102      leo   bglore   2301\n",
       "2   prod  230      raj     pune   2300\n",
       "3  sales  450     shan   bglore   3401\n",
       "4     HR  542      anu   mumbai   4590\n",
       "5  sales  321     bibu      hyd   5419\n",
       "6     hr  651      ram   bglore   3130\n",
       "7  admin  541      leo  chennai   4913\n",
       "8  sales  652  karthik   bglore   3405"
      ]
     },
     "execution_count": 185,
     "metadata": {},
     "output_type": "execute_result"
    }
   ],
   "source": [
    "pd.read_csv('r1.log',sep=\":\")"
   ]
  },
  {
   "cell_type": "code",
   "execution_count": null,
   "id": "91c06383-3437-4c50-8518-b704b14fbcd0",
   "metadata": {},
   "outputs": [],
   "source": [
    "pd.read_excel('inputFile.xlsx')\n",
    "pd.read_excel('inputFile.xlsx',sheet_name='Sheet1')"
   ]
  },
  {
   "cell_type": "code",
   "execution_count": null,
   "id": "e28ec51f-5adf-476c-99c5-cd6fc5bc04a0",
   "metadata": {},
   "outputs": [],
   "source": [
    "def fx(a):\n",
    "    pass\n",
    "\n",
    "df.apply(fx) \n",
    "df.apply(lambda ...)"
   ]
  },
  {
   "cell_type": "code",
   "execution_count": 187,
   "id": "11463543-9454-431e-b86b-d219871235f7",
   "metadata": {},
   "outputs": [],
   "source": [
    "#help(df_csv.apply)\n",
    "# lambda => lambda <list of args>:<basicOperation> \n",
    "#                   =============="
   ]
  },
  {
   "cell_type": "code",
   "execution_count": null,
   "id": "424d4ee3-4ab2-4083-ad1c-f62df6371d74",
   "metadata": {},
   "outputs": [],
   "source": [
    "Python            <-----------DBModule---------->  DataBase\n",
    "DS                                            SQL\n",
    "'insert into .. values...' //str ------------->....\n",
    "                                              select *from ...\n",
    "  <-------------------------------list,tuple,list of tuple ..."
   ]
  },
  {
   "cell_type": "code",
   "execution_count": 188,
   "id": "9dad916e-996b-4072-8092-2179fad26b59",
   "metadata": {},
   "outputs": [
    {
     "name": "stdout",
     "output_type": "stream",
     "text": [
      "<sqlite3.Connection object at 0x000001E483B2B880>\n"
     ]
    }
   ],
   "source": [
    "import sqlite3\n",
    "print(sqlite3.connect('test1.db'))"
   ]
  },
  {
   "cell_type": "code",
   "execution_count": 191,
   "id": "05903927-7b07-4ac8-b601-e8b48ba1de8c",
   "metadata": {},
   "outputs": [
    {
     "data": {
      "text/plain": [
       "<sqlite3.Cursor at 0x1e487ca0b40>"
      ]
     },
     "execution_count": 191,
     "metadata": {},
     "output_type": "execute_result"
    }
   ],
   "source": [
    "conn = sqlite3.connect('test1.db')\n",
    "sth = conn.cursor()\n",
    "sth.execute('create table pn(id INTEGER,pname TEXT,pcost REAL)')"
   ]
  },
  {
   "cell_type": "code",
   "execution_count": 195,
   "id": "577cbd79-430e-4a17-bdc8-60bf88a6c0c6",
   "metadata": {},
   "outputs": [
    {
     "data": {
      "text/plain": [
       "<sqlite3.Cursor at 0x1e487ca0b40>"
      ]
     },
     "execution_count": 195,
     "metadata": {},
     "output_type": "execute_result"
    }
   ],
   "source": [
    "sth.execute(\"insert into pn(id,pname,pcost)values(101,'pA',1000)\")\n",
    "va = 102\n",
    "vb = 'pB'\n",
    "vc = 2000\n",
    "sth.execute(\"insert into pn(id,pname,pcost)values(?,?,?)\",(va,vb,vc))"
   ]
  },
  {
   "cell_type": "code",
   "execution_count": 196,
   "id": "c850ebd4-24d1-4810-bd4a-c382e088d3c8",
   "metadata": {},
   "outputs": [
    {
     "data": {
      "text/plain": [
       "<sqlite3.Cursor at 0x1e487ca0b40>"
      ]
     },
     "execution_count": 196,
     "metadata": {},
     "output_type": "execute_result"
    }
   ],
   "source": [
    "sth.execute('select *from pn')"
   ]
  },
  {
   "cell_type": "code",
   "execution_count": 197,
   "id": "f8722234-353c-4910-acc9-0859144ae651",
   "metadata": {},
   "outputs": [
    {
     "data": {
      "text/plain": [
       "[(101, 'pA', 1000.0), (101, 'pA', 1000.0), (102, 'pB', 2000.0)]"
      ]
     },
     "execution_count": 197,
     "metadata": {},
     "output_type": "execute_result"
    }
   ],
   "source": [
    "list(sth)"
   ]
  },
  {
   "cell_type": "code",
   "execution_count": 198,
   "id": "33db0de9-e0f6-42ee-a812-3bab9c94d3d5",
   "metadata": {},
   "outputs": [
    {
     "data": {
      "text/plain": [
       "[(101, 'pA', 1000.0), (101, 'pA', 1000.0), (102, 'pB', 2000.0)]"
      ]
     },
     "execution_count": 198,
     "metadata": {},
     "output_type": "execute_result"
    }
   ],
   "source": [
    "sth.execute('select *from pn')\n",
    "sth.fetchall()"
   ]
  },
  {
   "cell_type": "code",
   "execution_count": 199,
   "id": "d2ff223a-265b-49c5-a88a-4e769105740f",
   "metadata": {},
   "outputs": [
    {
     "data": {
      "text/plain": [
       "(101, 'pA', 1000.0)"
      ]
     },
     "execution_count": 199,
     "metadata": {},
     "output_type": "execute_result"
    }
   ],
   "source": [
    "sth.execute('select *from pn')\n",
    "sth.fetchone()"
   ]
  },
  {
   "cell_type": "code",
   "execution_count": 200,
   "id": "2b6ed575-3f0d-4a03-8970-f398fa921f2e",
   "metadata": {},
   "outputs": [
    {
     "data": {
      "text/plain": [
       "(101, 'pA', 1000.0)"
      ]
     },
     "execution_count": 200,
     "metadata": {},
     "output_type": "execute_result"
    }
   ],
   "source": [
    "sth.fetchone()"
   ]
  },
  {
   "cell_type": "code",
   "execution_count": 201,
   "id": "ab30af03-1155-4dbb-bf72-afb2980a187f",
   "metadata": {},
   "outputs": [
    {
     "data": {
      "text/plain": [
       "(102, 'pB', 2000.0)"
      ]
     },
     "execution_count": 201,
     "metadata": {},
     "output_type": "execute_result"
    }
   ],
   "source": [
    "sth.fetchone()"
   ]
  },
  {
   "cell_type": "code",
   "execution_count": 202,
   "id": "628dc616-1b68-415a-9ebd-12317e40c74a",
   "metadata": {},
   "outputs": [],
   "source": [
    "sth.fetchone()"
   ]
  },
  {
   "cell_type": "code",
   "execution_count": 203,
   "id": "cc6e9a89-e7d5-4da8-85a3-c5ee5909dff1",
   "metadata": {},
   "outputs": [],
   "source": [
    "conn.commit()"
   ]
  },
  {
   "cell_type": "code",
   "execution_count": 204,
   "id": "561bfc16-dd96-4dd3-b823-986311c44637",
   "metadata": {},
   "outputs": [],
   "source": [
    "conn.close()"
   ]
  },
  {
   "cell_type": "code",
   "execution_count": 205,
   "id": "a098b474-ec75-4e7d-87a7-47227206c9ab",
   "metadata": {},
   "outputs": [
    {
     "data": {
      "text/plain": [
       "[(101, 'pA', 1000.0), (101, 'pA', 1000.0), (102, 'pB', 2000.0)]"
      ]
     },
     "execution_count": 205,
     "metadata": {},
     "output_type": "execute_result"
    }
   ],
   "source": [
    "conn = sqlite3.connect('test1.db')\n",
    "sth = conn.cursor()\n",
    "sth.execute(\"Select *from pn\")\n",
    "list(sth) # generator "
   ]
  },
  {
   "cell_type": "code",
   "execution_count": 206,
   "id": "21b23416-b238-47b4-8cf2-dcef90e48ee3",
   "metadata": {},
   "outputs": [
    {
     "data": {
      "text/html": [
       "<div>\n",
       "<style scoped>\n",
       "    .dataframe tbody tr th:only-of-type {\n",
       "        vertical-align: middle;\n",
       "    }\n",
       "\n",
       "    .dataframe tbody tr th {\n",
       "        vertical-align: top;\n",
       "    }\n",
       "\n",
       "    .dataframe thead th {\n",
       "        text-align: right;\n",
       "    }\n",
       "</style>\n",
       "<table border=\"1\" class=\"dataframe\">\n",
       "  <thead>\n",
       "    <tr style=\"text-align: right;\">\n",
       "      <th></th>\n",
       "      <th>id</th>\n",
       "      <th>pname</th>\n",
       "      <th>pcost</th>\n",
       "    </tr>\n",
       "  </thead>\n",
       "  <tbody>\n",
       "    <tr>\n",
       "      <th>0</th>\n",
       "      <td>101</td>\n",
       "      <td>pA</td>\n",
       "      <td>1000.0</td>\n",
       "    </tr>\n",
       "    <tr>\n",
       "      <th>1</th>\n",
       "      <td>101</td>\n",
       "      <td>pA</td>\n",
       "      <td>1000.0</td>\n",
       "    </tr>\n",
       "    <tr>\n",
       "      <th>2</th>\n",
       "      <td>102</td>\n",
       "      <td>pB</td>\n",
       "      <td>2000.0</td>\n",
       "    </tr>\n",
       "  </tbody>\n",
       "</table>\n",
       "</div>"
      ],
      "text/plain": [
       "    id pname   pcost\n",
       "0  101    pA  1000.0\n",
       "1  101    pA  1000.0\n",
       "2  102    pB  2000.0"
      ]
     },
     "execution_count": 206,
     "metadata": {},
     "output_type": "execute_result"
    }
   ],
   "source": [
    "pd.read_sql_query(\"select *From pn\",conn)"
   ]
  },
  {
   "cell_type": "code",
   "execution_count": 207,
   "id": "9ca0c89e-993a-4393-9751-26dba7a03e12",
   "metadata": {},
   "outputs": [],
   "source": [
    "df_sql = pd.read_sql_query(\"select *From pn\",conn)\n",
    "df_sql.to_csv('r1.csv',index=False)"
   ]
  },
  {
   "cell_type": "code",
   "execution_count": 208,
   "id": "b7a9e8f7-fde5-4381-bd50-ed6b9efed3a5",
   "metadata": {},
   "outputs": [
    {
     "data": {
      "text/html": [
       "<div>\n",
       "<style scoped>\n",
       "    .dataframe tbody tr th:only-of-type {\n",
       "        vertical-align: middle;\n",
       "    }\n",
       "\n",
       "    .dataframe tbody tr th {\n",
       "        vertical-align: top;\n",
       "    }\n",
       "\n",
       "    .dataframe thead th {\n",
       "        text-align: right;\n",
       "    }\n",
       "</style>\n",
       "<table border=\"1\" class=\"dataframe\">\n",
       "  <thead>\n",
       "    <tr style=\"text-align: right;\">\n",
       "      <th></th>\n",
       "      <th>id</th>\n",
       "      <th>pname</th>\n",
       "      <th>pcost</th>\n",
       "    </tr>\n",
       "  </thead>\n",
       "  <tbody>\n",
       "    <tr>\n",
       "      <th>0</th>\n",
       "      <td>101</td>\n",
       "      <td>pA</td>\n",
       "      <td>1000.0</td>\n",
       "    </tr>\n",
       "    <tr>\n",
       "      <th>1</th>\n",
       "      <td>101</td>\n",
       "      <td>pA</td>\n",
       "      <td>1000.0</td>\n",
       "    </tr>\n",
       "    <tr>\n",
       "      <th>2</th>\n",
       "      <td>102</td>\n",
       "      <td>pB</td>\n",
       "      <td>2000.0</td>\n",
       "    </tr>\n",
       "  </tbody>\n",
       "</table>\n",
       "</div>"
      ],
      "text/plain": [
       "    id pname   pcost\n",
       "0  101    pA  1000.0\n",
       "1  101    pA  1000.0\n",
       "2  102    pB  2000.0"
      ]
     },
     "execution_count": 208,
     "metadata": {},
     "output_type": "execute_result"
    }
   ],
   "source": [
    "pd.read_csv('r1.csv')"
   ]
  },
  {
   "cell_type": "code",
   "execution_count": null,
   "id": "d9d3727a-d0ef-4f6e-8433-a56fe89526bb",
   "metadata": {},
   "outputs": [],
   "source": [
    "Extract-Transform-Load (ETL)\n",
    "=============================\n",
    "Data is Extracted from DataSource(File,API,DB,..) ==>Transformed(Clean;Aggregated) ==> Load \n",
    "Loaded to the target (Datawarehouse)\n",
    "\n",
    "Extract-Load-Transformed (ELT)\n",
    "=================================\n",
    "Data is Extracted from DataSource(File,API,DB,..) ==>Loaded first into the target system -->transformed\n",
    "inside the target"
   ]
  },
  {
   "cell_type": "code",
   "execution_count": null,
   "id": "b1ede47b-4588-402a-ac16-878ba88647b6",
   "metadata": {},
   "outputs": [],
   "source": []
  },
  {
   "cell_type": "code",
   "execution_count": 211,
   "id": "09981d05-6684-491b-8435-ed406571f224",
   "metadata": {},
   "outputs": [],
   "source": [
    "# Create products.csv file and write product details(pid,pname,pcost)\n",
    "products = {}\n",
    "products['pid']=[101,102,103,104,105]\n",
    "products['pname']=['pA','pB','pC','pD','pE']\n",
    "products['pcost']=[1000,2000,3000,4000,5000]\n",
    "\n",
    "df_product = pd.DataFrame(products)\n",
    "df_product.to_csv('products.csv')"
   ]
  },
  {
   "cell_type": "code",
   "execution_count": null,
   "id": "60468367-6079-484b-96e9-a34f434a6975",
   "metadata": {},
   "outputs": [],
   "source": [
    "## Extract -->Transform -->Load \n",
    "## ---------------------------------\n",
    "# products.csv  \n",
    "# ---------------\n",
    "# read the products.csv file # Extract\n",
    "#  with.respect to product_cost apply tax value # Transform\n",
    "#          --------------------------//df.apply(...) \n",
    "# load - create a new database file\n",
    "# df.to_sql() "
   ]
  },
  {
   "cell_type": "code",
   "execution_count": 224,
   "id": "e27d75a3-a473-406c-be90-31b9f06560cf",
   "metadata": {},
   "outputs": [
    {
     "name": "stdout",
     "output_type": "stream",
     "text": [
      "<class 'pandas.core.frame.DataFrame'>\n",
      "RangeIndex: 5 entries, 0 to 4\n",
      "Data columns (total 4 columns):\n",
      " #   Column      Non-Null Count  Dtype \n",
      "---  ------      --------------  ----- \n",
      " 0   Unnamed: 0  5 non-null      int64 \n",
      " 1   pid         5 non-null      int64 \n",
      " 2   pname       5 non-null      object\n",
      " 3   pcost       5 non-null      int64 \n",
      "dtypes: int64(3), object(1)\n",
      "memory usage: 292.0+ bytes\n"
     ]
    },
    {
     "data": {
      "text/plain": [
       "5"
      ]
     },
     "execution_count": 224,
     "metadata": {},
     "output_type": "execute_result"
    }
   ],
   "source": [
    "df_prod = pd.read_csv('products.csv') # Extract\n",
    "df_prod.info()\n",
    "\n",
    "\n",
    "## Transform\n",
    "df_prod['pcost'] = df_prod.apply(lambda a: a['pcost'] * 12.0 if a['pname'] == 'pC' else a['pcost'],axis=1)\n",
    "df_prod\n",
    "\n",
    "## Load \n",
    "con = sqlite3.connect('product_etl.db')\n",
    "df_prod.to_sql('product',con,if_exists='replace',index=False)"
   ]
  },
  {
   "cell_type": "code",
   "execution_count": 225,
   "id": "900ed791-eefb-4785-8a55-facdac6eba73",
   "metadata": {},
   "outputs": [
    {
     "name": "stdout",
     "output_type": "stream",
     "text": [
      "(0, 101, 'pA', 1000.0)\n",
      "(1, 102, 'pB', 2000.0)\n",
      "(2, 103, 'pC', 36000.0)\n",
      "(3, 104, 'pD', 4000.0)\n",
      "(4, 105, 'pE', 5000.0)\n"
     ]
    }
   ],
   "source": [
    "# Testing\n",
    "for var in con.execute('select *from product'):\n",
    "    print(var)"
   ]
  },
  {
   "cell_type": "code",
   "execution_count": 226,
   "id": "1fcd82aa-c829-4b38-b31f-33287dc51345",
   "metadata": {},
   "outputs": [],
   "source": [
    "con.close()"
   ]
  },
  {
   "cell_type": "code",
   "execution_count": 230,
   "id": "76cd95a9-22e3-4dc7-8768-6b74921a3b33",
   "metadata": {},
   "outputs": [
    {
     "data": {
      "text/plain": [
       "Index(['pid', 'pname', 'pcost'], dtype='object')"
      ]
     },
     "execution_count": 230,
     "metadata": {},
     "output_type": "execute_result"
    }
   ],
   "source": [
    "## ELT\n",
    "## 1. Extract product.csv data from file\n",
    "## 2. Load same product.csv data(raw data) \n",
    "## 3. Transform - use SQL query ..\n",
    "\n",
    "df_prod = pd.read_csv('products.csv') # Extract\n",
    "df_prod.drop(columns='Unnamed: 0',inplace=True)"
   ]
  },
  {
   "cell_type": "code",
   "execution_count": 231,
   "id": "8a4e7fbf-01c8-40c6-b4c7-cdbd43e121bd",
   "metadata": {},
   "outputs": [
    {
     "data": {
      "text/html": [
       "<div>\n",
       "<style scoped>\n",
       "    .dataframe tbody tr th:only-of-type {\n",
       "        vertical-align: middle;\n",
       "    }\n",
       "\n",
       "    .dataframe tbody tr th {\n",
       "        vertical-align: top;\n",
       "    }\n",
       "\n",
       "    .dataframe thead th {\n",
       "        text-align: right;\n",
       "    }\n",
       "</style>\n",
       "<table border=\"1\" class=\"dataframe\">\n",
       "  <thead>\n",
       "    <tr style=\"text-align: right;\">\n",
       "      <th></th>\n",
       "      <th>pid</th>\n",
       "      <th>pname</th>\n",
       "      <th>pcost</th>\n",
       "    </tr>\n",
       "  </thead>\n",
       "  <tbody>\n",
       "    <tr>\n",
       "      <th>0</th>\n",
       "      <td>101</td>\n",
       "      <td>pA</td>\n",
       "      <td>1000</td>\n",
       "    </tr>\n",
       "    <tr>\n",
       "      <th>1</th>\n",
       "      <td>102</td>\n",
       "      <td>pB</td>\n",
       "      <td>2000</td>\n",
       "    </tr>\n",
       "    <tr>\n",
       "      <th>2</th>\n",
       "      <td>103</td>\n",
       "      <td>pC</td>\n",
       "      <td>3000</td>\n",
       "    </tr>\n",
       "    <tr>\n",
       "      <th>3</th>\n",
       "      <td>104</td>\n",
       "      <td>pD</td>\n",
       "      <td>4000</td>\n",
       "    </tr>\n",
       "    <tr>\n",
       "      <th>4</th>\n",
       "      <td>105</td>\n",
       "      <td>pE</td>\n",
       "      <td>5000</td>\n",
       "    </tr>\n",
       "  </tbody>\n",
       "</table>\n",
       "</div>"
      ],
      "text/plain": [
       "   pid pname  pcost\n",
       "0  101    pA   1000\n",
       "1  102    pB   2000\n",
       "2  103    pC   3000\n",
       "3  104    pD   4000\n",
       "4  105    pE   5000"
      ]
     },
     "execution_count": 231,
     "metadata": {},
     "output_type": "execute_result"
    }
   ],
   "source": [
    "df_prod"
   ]
  },
  {
   "cell_type": "code",
   "execution_count": 232,
   "id": "9efcee1e-4cdc-4dcb-8ac1-96afec789cc3",
   "metadata": {},
   "outputs": [
    {
     "data": {
      "text/plain": [
       "5"
      ]
     },
     "execution_count": 232,
     "metadata": {},
     "output_type": "execute_result"
    }
   ],
   "source": [
    "# Load - Load raw data \n",
    "conn = sqlite3.connect('product_1.db')    \n",
    "df_prod.to_sql('product_raw',conn,if_exists='replace',index=False) "
   ]
  },
  {
   "cell_type": "code",
   "execution_count": 236,
   "id": "5916bf41-7f86-4fd9-8bb1-25f7a077fe57",
   "metadata": {},
   "outputs": [],
   "source": [
    "## Transform (inside the db) - inside the DB via SQL not using python programming \n",
    "conn.execute(\"\"\"create table product_final as \n",
    "                SELECT pid,\n",
    "                       pname,\n",
    "                       pcost,\n",
    "                       CASE \n",
    "                         when pname == 'pC' THEN pcost * 18 \n",
    "                         ELSE pcost \n",
    "                        END AS pcost\n",
    "                       FROM product_raw;\n",
    "                       \"\"\")\n",
    "conn.commit()"
   ]
  },
  {
   "cell_type": "code",
   "execution_count": 237,
   "id": "fb3d9c44-98c9-47b8-b877-46e5c45d36b1",
   "metadata": {},
   "outputs": [
    {
     "name": "stdout",
     "output_type": "stream",
     "text": [
      "(101, 'pA', 1000, 1000)\n",
      "(102, 'pB', 2000, 2000)\n",
      "(103, 'pC', 3000, 54000)\n",
      "(104, 'pD', 4000, 4000)\n",
      "(105, 'pE', 5000, 5000)\n"
     ]
    }
   ],
   "source": [
    "for var in conn.execute('select *from product_final'):\n",
    "    print(var)"
   ]
  },
  {
   "cell_type": "code",
   "execution_count": null,
   "id": "c5fac9f3-e8ad-4062-a232-0d2e0d469573",
   "metadata": {},
   "outputs": [],
   "source": [
    "JSON\n",
    "-----\n",
    " |->Stores and exchange data - between web Applications\n",
    "\n",
    "list <-->array\n",
    "dict <--->object"
   ]
  },
  {
   "cell_type": "code",
   "execution_count": 241,
   "id": "5e452f72-852c-400f-ae2c-a1d06dc248a9",
   "metadata": {},
   "outputs": [
    {
     "name": "stdout",
     "output_type": "stream",
     "text": [
      "{\n",
      "  \"K1\": [\n",
      "    10,\n",
      "    20,\n",
      "    30,\n",
      "    40\n",
      "  ],\n",
      "  \"K2\": {\n",
      "    \"K1\": [\n",
      "      \"URL1\",\n",
      "      \"URL2\"\n",
      "    ],\n",
      "    \"K3\": [\n",
      "      true,\n",
      "      false\n",
      "    ]\n",
      "  }\n",
      "}\n"
     ]
    }
   ],
   "source": [
    "import json\n",
    "d={'K1':[10,20,30,40],'K2':{'K1':['URL1','URL2'],'K3':[True,False]}}\n",
    "print(json.dumps(d,indent=2)) # from python -> convert to json"
   ]
  },
  {
   "cell_type": "code",
   "execution_count": 242,
   "id": "ff5aae3d-951d-4eb1-8c7a-ce8eacabac43",
   "metadata": {},
   "outputs": [
    {
     "data": {
      "text/plain": [
       "{'K1': [10, 20, 30, 40], 'K2': {'K1': ['URL1', 'URL2'], 'K3': [True, False]}}"
      ]
     },
     "execution_count": 242,
     "metadata": {},
     "output_type": "execute_result"
    }
   ],
   "source": [
    "json_data = json.dumps(d,indent=2)\n",
    "json.loads(json_data) #  from json convert to python"
   ]
  },
  {
   "cell_type": "code",
   "execution_count": 245,
   "id": "73336623-b956-4fc5-ab59-480af01c423e",
   "metadata": {},
   "outputs": [],
   "source": [
    "import json\n",
    "products = {}\n",
    "products['pid'] = [101,102,103]\n",
    "products['pname'] = ['pA','pB','pC']\n",
    "products['pcost'] = [1000,2000,3000]\n",
    "\n",
    "df = pd.DataFrame(products)\n",
    "\n",
    "df.to_json(\"product.json\",indent=4)"
   ]
  },
  {
   "cell_type": "code",
   "execution_count": 247,
   "id": "2d5eb503-5871-4db3-a4af-d4af1efb8886",
   "metadata": {},
   "outputs": [
    {
     "name": "stdout",
     "output_type": "stream",
     "text": [
      "[\n",
      "  {\n",
      "    \"pid\":101,\n",
      "    \"pname\":\"pA\",\n",
      "    \"pcost\":1000\n",
      "  },\n",
      "  {\n",
      "    \"pid\":102,\n",
      "    \"pname\":\"pB\",\n",
      "    \"pcost\":2000\n",
      "  },\n",
      "  {\n",
      "    \"pid\":103,\n",
      "    \"pname\":\"pC\",\n",
      "    \"pcost\":3000\n",
      "  }\n",
      "]\n"
     ]
    }
   ],
   "source": [
    "## View - preview the data \n",
    "print(df.to_json(orient=\"records\",indent=2)) # convert to json"
   ]
  },
  {
   "cell_type": "code",
   "execution_count": 248,
   "id": "33497b38-4467-4e40-9842-2d6c4b520984",
   "metadata": {},
   "outputs": [
    {
     "data": {
      "text/html": [
       "<div>\n",
       "<style scoped>\n",
       "    .dataframe tbody tr th:only-of-type {\n",
       "        vertical-align: middle;\n",
       "    }\n",
       "\n",
       "    .dataframe tbody tr th {\n",
       "        vertical-align: top;\n",
       "    }\n",
       "\n",
       "    .dataframe thead th {\n",
       "        text-align: right;\n",
       "    }\n",
       "</style>\n",
       "<table border=\"1\" class=\"dataframe\">\n",
       "  <thead>\n",
       "    <tr style=\"text-align: right;\">\n",
       "      <th></th>\n",
       "      <th>pid</th>\n",
       "      <th>pname</th>\n",
       "      <th>pcost</th>\n",
       "    </tr>\n",
       "  </thead>\n",
       "  <tbody>\n",
       "    <tr>\n",
       "      <th>0</th>\n",
       "      <td>101</td>\n",
       "      <td>pA</td>\n",
       "      <td>1000</td>\n",
       "    </tr>\n",
       "    <tr>\n",
       "      <th>1</th>\n",
       "      <td>102</td>\n",
       "      <td>pB</td>\n",
       "      <td>2000</td>\n",
       "    </tr>\n",
       "    <tr>\n",
       "      <th>2</th>\n",
       "      <td>103</td>\n",
       "      <td>pC</td>\n",
       "      <td>3000</td>\n",
       "    </tr>\n",
       "  </tbody>\n",
       "</table>\n",
       "</div>"
      ],
      "text/plain": [
       "   pid pname  pcost\n",
       "0  101    pA   1000\n",
       "1  102    pB   2000\n",
       "2  103    pC   3000"
      ]
     },
     "execution_count": 248,
     "metadata": {},
     "output_type": "execute_result"
    }
   ],
   "source": [
    "pd.read_json('product.json')"
   ]
  },
  {
   "cell_type": "code",
   "execution_count": 249,
   "id": "bc6a0468-d2f0-45fd-887b-c12adf7c111a",
   "metadata": {},
   "outputs": [],
   "source": [
    "python_data = []\n",
    "\n",
    "python_data.append({\n",
    "    \"login\": \"ggobi\",\n",
    "    \"id\": 423638,\n",
    "    \"node_id\": \"MDE\"\n",
    "  })\n",
    "python_data.append({\n",
    "    \"login\": \"root\",\n",
    "    \"id\": 34223,\n",
    "    \"node_id\": \"ABC\"\n",
    "  })\n",
    "python_data.append({\n",
    "    \"login\": \"userA\",\n",
    "    \"id\": 234423,\n",
    "    \"node_id\": \"IOR\"\n",
    "  })"
   ]
  },
  {
   "cell_type": "code",
   "execution_count": 250,
   "id": "3d7dd406-3817-4c97-ba82-bc4e9847b0dd",
   "metadata": {},
   "outputs": [
    {
     "data": {
      "text/plain": [
       "[{'login': 'ggobi', 'id': 423638, 'node_id': 'MDE'},\n",
       " {'login': 'root', 'id': 34223, 'node_id': 'ABC'},\n",
       " {'login': 'userA', 'id': 234423, 'node_id': 'IOR'}]"
      ]
     },
     "execution_count": 250,
     "metadata": {},
     "output_type": "execute_result"
    }
   ],
   "source": [
    "python_data # list of dict"
   ]
  },
  {
   "cell_type": "code",
   "execution_count": 264,
   "id": "5935f654-baf1-4bb5-a44e-032da2350d32",
   "metadata": {},
   "outputs": [
    {
     "name": "stdout",
     "output_type": "stream",
     "text": [
      "   login      id node_id\n",
      "0  ggobi  423638     MDE\n",
      "1   root   34223     ABC\n",
      "2  userA  234423     IOR\n"
     ]
    },
    {
     "data": {
      "text/html": [
       "<div>\n",
       "<style scoped>\n",
       "    .dataframe tbody tr th:only-of-type {\n",
       "        vertical-align: middle;\n",
       "    }\n",
       "\n",
       "    .dataframe tbody tr th {\n",
       "        vertical-align: top;\n",
       "    }\n",
       "\n",
       "    .dataframe thead th {\n",
       "        text-align: right;\n",
       "    }\n",
       "</style>\n",
       "<table border=\"1\" class=\"dataframe\">\n",
       "  <thead>\n",
       "    <tr style=\"text-align: right;\">\n",
       "      <th></th>\n",
       "      <th>login</th>\n",
       "      <th>id</th>\n",
       "      <th>node_id</th>\n",
       "      <th>repo_data</th>\n",
       "    </tr>\n",
       "  </thead>\n",
       "  <tbody>\n",
       "    <tr>\n",
       "      <th>0</th>\n",
       "      <td>ggobi</td>\n",
       "      <td>423638</td>\n",
       "      <td>MDE</td>\n",
       "      <td>V3</td>\n",
       "    </tr>\n",
       "    <tr>\n",
       "      <th>1</th>\n",
       "      <td>root</td>\n",
       "      <td>34223</td>\n",
       "      <td>ABC</td>\n",
       "      <td>V2</td>\n",
       "    </tr>\n",
       "    <tr>\n",
       "      <th>2</th>\n",
       "      <td>userA</td>\n",
       "      <td>234423</td>\n",
       "      <td>IOR</td>\n",
       "      <td>V1</td>\n",
       "    </tr>\n",
       "  </tbody>\n",
       "</table>\n",
       "</div>"
      ],
      "text/plain": [
       "   login      id node_id repo_data\n",
       "0  ggobi  423638     MDE        V3\n",
       "1   root   34223     ABC        V2\n",
       "2  userA  234423     IOR        V1"
      ]
     },
     "execution_count": 264,
     "metadata": {},
     "output_type": "execute_result"
    }
   ],
   "source": [
    "json_data = json.dumps(python_data) # convert to json \n",
    "##########\n",
    "\n",
    "# 1. load json data into dataframe \n",
    "df = pd.DataFrame(python_data)\n",
    "\n",
    "# 2. Transform - clean/modify/delete ..\n",
    "\n",
    "print(df)\n",
    "new_data = {'IOR':'V1','ABC':'V2','MDE':'V3'}\n",
    "df['repo_data'] = df['node_id'].map(new_data)\n",
    "df"
   ]
  },
  {
   "cell_type": "code",
   "execution_count": 269,
   "id": "ab78aea8-5192-4011-bdbd-c632ef483aa1",
   "metadata": {},
   "outputs": [],
   "source": [
    "df = df[df['id'] >40000] # filter rows"
   ]
  },
  {
   "cell_type": "code",
   "execution_count": 270,
   "id": "99738282-6393-4fdb-a8fb-927ac2d04c71",
   "metadata": {},
   "outputs": [
    {
     "data": {
      "text/html": [
       "<div>\n",
       "<style scoped>\n",
       "    .dataframe tbody tr th:only-of-type {\n",
       "        vertical-align: middle;\n",
       "    }\n",
       "\n",
       "    .dataframe tbody tr th {\n",
       "        vertical-align: top;\n",
       "    }\n",
       "\n",
       "    .dataframe thead th {\n",
       "        text-align: right;\n",
       "    }\n",
       "</style>\n",
       "<table border=\"1\" class=\"dataframe\">\n",
       "  <thead>\n",
       "    <tr style=\"text-align: right;\">\n",
       "      <th></th>\n",
       "      <th>login</th>\n",
       "      <th>id</th>\n",
       "      <th>node_id</th>\n",
       "      <th>repo_data</th>\n",
       "    </tr>\n",
       "  </thead>\n",
       "  <tbody>\n",
       "    <tr>\n",
       "      <th>0</th>\n",
       "      <td>ggobi</td>\n",
       "      <td>423638</td>\n",
       "      <td>MDE</td>\n",
       "      <td>V3</td>\n",
       "    </tr>\n",
       "    <tr>\n",
       "      <th>2</th>\n",
       "      <td>userA</td>\n",
       "      <td>234423</td>\n",
       "      <td>IOR</td>\n",
       "      <td>V1</td>\n",
       "    </tr>\n",
       "  </tbody>\n",
       "</table>\n",
       "</div>"
      ],
      "text/plain": [
       "   login      id node_id repo_data\n",
       "0  ggobi  423638     MDE        V3\n",
       "2  userA  234423     IOR        V1"
      ]
     },
     "execution_count": 270,
     "metadata": {},
     "output_type": "execute_result"
    }
   ],
   "source": [
    "df"
   ]
  },
  {
   "cell_type": "code",
   "execution_count": 271,
   "id": "cb233253-3455-465d-a78a-bff6599f16f6",
   "metadata": {},
   "outputs": [
    {
     "data": {
      "text/plain": [
       "<sqlite3.Cursor at 0x1e48c303ac0>"
      ]
     },
     "execution_count": 271,
     "metadata": {},
     "output_type": "execute_result"
    }
   ],
   "source": [
    "## Save this updated_dataframe(transformed dataframe) to database \n",
    "\n",
    "conn = sqlite3.connect('test1.db')\n",
    "cursor = conn.cursor()\n",
    "\n",
    "cursor.execute('''\n",
    "create table Tn(login TEXT,id INT,node_id TEXT,repo_data TEXT)''')"
   ]
  },
  {
   "cell_type": "code",
   "execution_count": 272,
   "id": "eac61269-6b76-443f-94f0-33ae8c6dc9d7",
   "metadata": {},
   "outputs": [
    {
     "data": {
      "text/plain": [
       "2"
      ]
     },
     "execution_count": 272,
     "metadata": {},
     "output_type": "execute_result"
    }
   ],
   "source": [
    "# load dataframe into sqlite table\n",
    "df.to_sql(\"newTn\",conn,if_exists=\"replace\",index=False)"
   ]
  },
  {
   "cell_type": "code",
   "execution_count": 273,
   "id": "31d5d524-6458-4a05-bf22-574589680002",
   "metadata": {},
   "outputs": [
    {
     "data": {
      "text/html": [
       "<div>\n",
       "<style scoped>\n",
       "    .dataframe tbody tr th:only-of-type {\n",
       "        vertical-align: middle;\n",
       "    }\n",
       "\n",
       "    .dataframe tbody tr th {\n",
       "        vertical-align: top;\n",
       "    }\n",
       "\n",
       "    .dataframe thead th {\n",
       "        text-align: right;\n",
       "    }\n",
       "</style>\n",
       "<table border=\"1\" class=\"dataframe\">\n",
       "  <thead>\n",
       "    <tr style=\"text-align: right;\">\n",
       "      <th></th>\n",
       "      <th>login</th>\n",
       "      <th>id</th>\n",
       "      <th>node_id</th>\n",
       "      <th>repo_data</th>\n",
       "    </tr>\n",
       "  </thead>\n",
       "  <tbody>\n",
       "    <tr>\n",
       "      <th>0</th>\n",
       "      <td>ggobi</td>\n",
       "      <td>423638</td>\n",
       "      <td>MDE</td>\n",
       "      <td>V3</td>\n",
       "    </tr>\n",
       "    <tr>\n",
       "      <th>1</th>\n",
       "      <td>userA</td>\n",
       "      <td>234423</td>\n",
       "      <td>IOR</td>\n",
       "      <td>V1</td>\n",
       "    </tr>\n",
       "  </tbody>\n",
       "</table>\n",
       "</div>"
      ],
      "text/plain": [
       "   login      id node_id repo_data\n",
       "0  ggobi  423638     MDE        V3\n",
       "1  userA  234423     IOR        V1"
      ]
     },
     "execution_count": 273,
     "metadata": {},
     "output_type": "execute_result"
    }
   ],
   "source": [
    "pd.read_sql_query(\"select *from newTn\",conn)"
   ]
  },
  {
   "cell_type": "code",
   "execution_count": null,
   "id": "4f184d01-6774-4e3e-838d-9c5001a5e648",
   "metadata": {},
   "outputs": [],
   "source": [
    "import requests\n",
    "=================\n",
    "download web content \n",
    "         ------------\n",
    "          1. WebPage = <html> + data \n",
    "          2. Data only = json data - There is no html tag\n",
    "\n",
    "Client ----------->Webserver ------->..... \n",
    "      ---------<--------------------------\n",
    "              Content-Type:\n",
    "                        1. Webpage\n",
    "                        2. Application-data (or) Application-json data\n",
    "\n",
    "Webscraping  - bs4 <== import bs4\n",
    "- extract the data - ignore html tag\n",
    "\n",
    "requests\n",
    "===========\n",
    "import requests   <===== (1)\n",
    "\n",
    "requests.get('URL') -> r \n",
    "r.status_code -> 200 # OK  (2)\n",
    "\n",
    "Get web header info  -> r.headers <== dict type <==(3)\n",
    "\n",
    "r.text <== download the webcontent <== (4)"
   ]
  },
  {
   "cell_type": "code",
   "execution_count": 274,
   "id": "f7653d27-151a-4ac8-adda-95fe16d45c05",
   "metadata": {},
   "outputs": [],
   "source": [
    "import requests"
   ]
  },
  {
   "cell_type": "code",
   "execution_count": 275,
   "id": "8ac7ea45-97c8-4d1d-aa69-acb8e50a2e0f",
   "metadata": {},
   "outputs": [
    {
     "data": {
      "text/plain": [
       "<Response [200]>"
      ]
     },
     "execution_count": 275,
     "metadata": {},
     "output_type": "execute_result"
    }
   ],
   "source": [
    "requests.get('https://www.google.com')"
   ]
  },
  {
   "cell_type": "code",
   "execution_count": 276,
   "id": "bab9e7bf-e730-423a-92b3-68ac6fffe8bb",
   "metadata": {},
   "outputs": [
    {
     "data": {
      "text/plain": [
       "200"
      ]
     },
     "execution_count": 276,
     "metadata": {},
     "output_type": "execute_result"
    }
   ],
   "source": [
    "r = requests.get('https://www.google.com')\n",
    "r.status_code"
   ]
  },
  {
   "cell_type": "code",
   "execution_count": 277,
   "id": "4a9a3c9a-e064-4a26-a869-b623ba6117e4",
   "metadata": {},
   "outputs": [
    {
     "data": {
      "text/plain": [
       "{'Date': 'Mon, 06 Oct 2025 12:36:04 GMT', 'Expires': '-1', 'Cache-Control': 'private, max-age=0', 'Content-Type': 'text/html; charset=ISO-8859-1', 'Content-Security-Policy-Report-Only': \"object-src 'none';base-uri 'self';script-src 'nonce-q4DyT49SAK1G9lTs2QQOIw' 'strict-dynamic' 'report-sample' 'unsafe-eval' 'unsafe-inline' https: http:;report-uri https://csp.withgoogle.com/csp/gws/other-hp\", 'Accept-CH': 'Sec-CH-Prefers-Color-Scheme', 'P3P': 'CP=\"This is not a P3P policy! See g.co/p3phelp for more info.\"', 'Content-Encoding': 'gzip', 'Server': 'gws', 'X-XSS-Protection': '0', 'X-Frame-Options': 'SAMEORIGIN', 'Set-Cookie': 'AEC=AaJma5uesgF9-y193vrEa9EfkDqwd-BXopSmHLw8akWx7pBrP_4xPGet0g; expires=Sat, 04-Apr-2026 12:36:04 GMT; path=/; domain=.google.com; Secure; HttpOnly; SameSite=lax, NID=525=l3IhM8yYRxE7_Ox2vLowsQIj_OPB70lwogROM6nMrzTl5VLQp8ZWm8Qa8IYc-8mw1aId7KaBE9WxKlVh4UU2AOdW2dBqtt3SE9xpiEYr1jovpiZUoZjJAupLO1Hf2srozxFTzn2ymm_LaivZtsoXbwR0VzW-JNdo0QLIrp5La__x5LHHBIN-h76CDDfnDNRMMa9MaxIICghj3bYeNxI; expires=Tue, 07-Apr-2026 12:36:04 GMT; path=/; domain=.google.com; HttpOnly', 'Alt-Svc': 'h3=\":443\"; ma=2592000,h3-29=\":443\"; ma=2592000', 'Transfer-Encoding': 'chunked'}"
      ]
     },
     "execution_count": 277,
     "metadata": {},
     "output_type": "execute_result"
    }
   ],
   "source": [
    "r.headers"
   ]
  },
  {
   "cell_type": "code",
   "execution_count": 278,
   "id": "4a54fb3d-5768-4c3c-8bc6-b0b5f0b7687c",
   "metadata": {},
   "outputs": [
    {
     "name": "stdout",
     "output_type": "stream",
     "text": [
      "<class 'str'> 19249\n"
     ]
    }
   ],
   "source": [
    "google_page = r.text\n",
    "print(type(google_page),len(google_page))"
   ]
  },
  {
   "cell_type": "code",
   "execution_count": 279,
   "id": "0f08b228-becc-48ab-902c-f0262f7a9e62",
   "metadata": {},
   "outputs": [],
   "source": [
    "with open('test.html','w') as wobj:\n",
    "    wobj.write(google_page)"
   ]
  },
  {
   "cell_type": "code",
   "execution_count": 282,
   "id": "bbaeefb4-14ff-47ed-88b3-4b8908106ec6",
   "metadata": {},
   "outputs": [
    {
     "name": "stdout",
     "output_type": "stream",
     "text": [
      "200\n",
      "{'Date': 'Mon, 06 Oct 2025 12:39:28 GMT', 'Content-Type': 'application/json; charset=utf-8', 'Cache-Control': 'public, max-age=60, s-maxage=60', 'Vary': 'Accept,Accept-Encoding, Accept, X-Requested-With', 'ETag': 'W/\"61f25e2a55611f7eaf75a20ed5fe501245c5af99bc383854f5442975318fad26\"', 'X-GitHub-Media-Type': 'github.v3; format=json', 'x-github-api-version-selected': '2022-11-28', 'Access-Control-Expose-Headers': 'ETag, Link, Location, Retry-After, X-GitHub-OTP, X-RateLimit-Limit, X-RateLimit-Remaining, X-RateLimit-Used, X-RateLimit-Resource, X-RateLimit-Reset, X-OAuth-Scopes, X-Accepted-OAuth-Scopes, X-Poll-Interval, X-GitHub-Media-Type, X-GitHub-SSO, X-GitHub-Request-Id, Deprecation, Sunset', 'Access-Control-Allow-Origin': '*', 'Strict-Transport-Security': 'max-age=31536000; includeSubdomains; preload', 'X-Frame-Options': 'deny', 'X-Content-Type-Options': 'nosniff', 'X-XSS-Protection': '0', 'Referrer-Policy': 'origin-when-cross-origin, strict-origin-when-cross-origin', 'Content-Security-Policy': \"default-src 'none'\", 'Content-Encoding': 'gzip', 'Server': 'github.com', 'Accept-Ranges': 'bytes', 'X-RateLimit-Limit': '60', 'X-RateLimit-Remaining': '57', 'X-RateLimit-Reset': '1759755895', 'X-RateLimit-Resource': 'core', 'X-RateLimit-Used': '3', 'Content-Length': '1008', 'X-GitHub-Request-Id': '13CC:2C9748:12048D3:17482C5:68E3B889'}\n"
     ]
    }
   ],
   "source": [
    "r = requests.get('https://api.github.com/users/hadley/orgs')\n",
    "print(r.status_code)\n",
    "print(r.headers)"
   ]
  },
  {
   "cell_type": "code",
   "execution_count": 283,
   "id": "47393204-78d5-4e57-9a49-4fc9721cb55b",
   "metadata": {},
   "outputs": [],
   "source": [
    "json_data  = r.text"
   ]
  },
  {
   "cell_type": "code",
   "execution_count": null,
   "id": "b8317ebe-9979-4808-bba4-3e55b14b6c91",
   "metadata": {},
   "outputs": [],
   "source": [
    "## bs4 module\n",
    "1. import bs4 module\n",
    "2. bs4.BeautifulSoup - class name - constructor - argument is webpage \n",
    "3. soupObject.<htmlTag> ->Value \n",
    "     <or>\n",
    "   soupObject.find(<htmlTag>) ->Value\n",
    "      <or>\n",
    "   soupObject.find_all(<htmlTag>) -> [ ]\n",
    "\n",
    "bs4 - dict style \n",
    "\n",
    "<a class='id-1' href='url' var = value>\n",
    "   ============ =========  ============//dict \n",
    "\n",
    "Tree structure relation\n",
    "-------------------------\n",
    "  Parent - Child \n",
    "  Sibiling \n",
    "     |\n",
    "extracted data => dict of list  \n",
    "                  ============= - easy to convert to DataFrame ->data analysis/processing...."
   ]
  },
  {
   "cell_type": "code",
   "execution_count": 284,
   "id": "147c94a3-39b0-4cb0-9ec0-1a64911c3787",
   "metadata": {},
   "outputs": [],
   "source": [
    "import bs4"
   ]
  },
  {
   "cell_type": "code",
   "execution_count": 285,
   "id": "f7b8da78-c1cd-4e89-9867-dd103060e206",
   "metadata": {},
   "outputs": [
    {
     "data": {
      "text/plain": [
       "<title>Google</title>"
      ]
     },
     "execution_count": 285,
     "metadata": {},
     "output_type": "execute_result"
    }
   ],
   "source": [
    "soup_obj = bs4.BeautifulSoup(google_page)\n",
    "soup_obj.title"
   ]
  },
  {
   "cell_type": "code",
   "execution_count": 286,
   "id": "2c432d03-5e6d-45c4-9cb4-66f1871fb018",
   "metadata": {},
   "outputs": [
    {
     "data": {
      "text/plain": [
       "<p style=\"font-size:8pt;color:#636363\">© 2025 - <a href=\"/intl/en/policies/privacy/\">Privacy</a> - <a href=\"/intl/en/policies/terms/\">Terms</a></p>"
      ]
     },
     "execution_count": 286,
     "metadata": {},
     "output_type": "execute_result"
    }
   ],
   "source": [
    "soup_obj.p"
   ]
  },
  {
   "cell_type": "code",
   "execution_count": 288,
   "id": "ceffa6c2-2bd5-477b-8f17-443a0e1a5bee",
   "metadata": {},
   "outputs": [],
   "source": [
    "#soup_obj.head\n",
    "soup_obj.h1"
   ]
  },
  {
   "cell_type": "code",
   "execution_count": 289,
   "id": "753482d5-849a-48a9-8f43-71458688034b",
   "metadata": {},
   "outputs": [
    {
     "data": {
      "text/plain": [
       "<title>Google</title>"
      ]
     },
     "execution_count": 289,
     "metadata": {},
     "output_type": "execute_result"
    }
   ],
   "source": [
    "soup_obj.find('title') # same as soup_obj.title"
   ]
  },
  {
   "cell_type": "code",
   "execution_count": 290,
   "id": "ffbc7c64-7ae8-47b7-b0a1-44beeac4b3b0",
   "metadata": {},
   "outputs": [
    {
     "data": {
      "text/plain": [
       "<p style=\"font-size:8pt;color:#636363\">© 2025 - <a href=\"/intl/en/policies/privacy/\">Privacy</a> - <a href=\"/intl/en/policies/terms/\">Terms</a></p>"
      ]
     },
     "execution_count": 290,
     "metadata": {},
     "output_type": "execute_result"
    }
   ],
   "source": [
    "soup_obj.find('p')"
   ]
  },
  {
   "cell_type": "code",
   "execution_count": 291,
   "id": "b83d844b-689f-462c-b939-ad96c0dd5e72",
   "metadata": {},
   "outputs": [
    {
     "data": {
      "text/plain": [
       "[<p style=\"font-size:8pt;color:#636363\">© 2025 - <a href=\"/intl/en/policies/privacy/\">Privacy</a> - <a href=\"/intl/en/policies/terms/\">Terms</a></p>]"
      ]
     },
     "execution_count": 291,
     "metadata": {},
     "output_type": "execute_result"
    }
   ],
   "source": [
    "soup_obj.find_all('p')"
   ]
  },
  {
   "cell_type": "code",
   "execution_count": 296,
   "id": "70eaf783-1665-4697-9c57-157899148386",
   "metadata": {},
   "outputs": [
    {
     "data": {
      "text/plain": [
       "'font-size:8pt;color:#636363'"
      ]
     },
     "execution_count": 296,
     "metadata": {},
     "output_type": "execute_result"
    }
   ],
   "source": [
    "d={'K1':'V1'}\n",
    "# d.get('Kx') # d['Kx']\n",
    "# =====================\n",
    "soup_obj.find('p').get('style')"
   ]
  },
  {
   "cell_type": "code",
   "execution_count": 298,
   "id": "cae1dae1-62df-466f-92ba-6e05d3054330",
   "metadata": {},
   "outputs": [
    {
     "data": {
      "text/plain": [
       "<span id=\"footer\"><div style=\"font-size:10pt\"><div id=\"WqQANb\" style=\"margin:19px auto;text-align:center\"><a href=\"/intl/en/ads/\">Advertising</a><a href=\"http://www.google.co.in/services/\">Business Solutions</a><a href=\"/intl/en/about.html\">About Google</a><a href=\"https://www.google.com/setprefdomain?prefdom=IN&amp;prev=https://www.google.co.in/&amp;sig=K_A538fZvgJi_XjNpP517LCiesWZ4%3D\">Google.co.in</a></div></div><p style=\"font-size:8pt;color:#636363\">© 2025 - <a href=\"/intl/en/policies/privacy/\">Privacy</a> - <a href=\"/intl/en/policies/terms/\">Terms</a></p></span>"
      ]
     },
     "execution_count": 298,
     "metadata": {},
     "output_type": "execute_result"
    }
   ],
   "source": [
    "# soup_obj.title.parent\n",
    "soup_obj.p.parent"
   ]
  },
  {
   "cell_type": "code",
   "execution_count": 299,
   "id": "7a9a6082-dab8-4961-93eb-d6fa75d20b58",
   "metadata": {},
   "outputs": [
    {
     "data": {
      "text/plain": [
       "<list_iterator at 0x1e48d723640>"
      ]
     },
     "execution_count": 299,
     "metadata": {},
     "output_type": "execute_result"
    }
   ],
   "source": [
    "soup_obj.p.children"
   ]
  },
  {
   "cell_type": "code",
   "execution_count": 300,
   "id": "0e010cef-0e44-4a99-bdd3-c39beb9327b5",
   "metadata": {},
   "outputs": [
    {
     "data": {
      "text/plain": [
       "['© 2025 - ',\n",
       " <a href=\"/intl/en/policies/privacy/\">Privacy</a>,\n",
       " ' - ',\n",
       " <a href=\"/intl/en/policies/terms/\">Terms</a>]"
      ]
     },
     "execution_count": 300,
     "metadata": {},
     "output_type": "execute_result"
    }
   ],
   "source": [
    "list(soup_obj.p.children)"
   ]
  },
  {
   "cell_type": "code",
   "execution_count": 302,
   "id": "5d947e90-6486-439c-a705-2f9818a33d83",
   "metadata": {},
   "outputs": [
    {
     "name": "stdout",
     "output_type": "stream",
     "text": [
      "https://www.google.com/imghp?hl=en&tab=wi\n",
      "https://maps.google.co.in/maps?hl=en&tab=wl\n",
      "https://play.google.com/?hl=en&tab=w8\n",
      "https://www.youtube.com/?tab=w1\n",
      "https://news.google.com/?tab=wn\n",
      "https://mail.google.com/mail/?tab=wm\n",
      "https://drive.google.com/?tab=wo\n",
      "https://www.google.co.in/intl/en/about/products?tab=wh\n",
      "http://www.google.co.in/history/optout?hl=en\n",
      "/preferences?hl=en\n",
      "https://accounts.google.com/ServiceLogin?hl=en&passive=true&continue=https://www.google.com/&ec=GAZAAQ\n",
      "/advanced_search?hl=en-IN&authuser=0\n",
      "https://www.google.com/setprefs?sig=0_ejZoqY7kz4Ka0FSrnCuQOlZ1XuM%3D&hl=hi&source=homepage&sa=X&ved=0ahUKEwjrsvmOy4-QAxWhBbkGHc--C-0Q2ZgBCAY\n",
      "https://www.google.com/setprefs?sig=0_ejZoqY7kz4Ka0FSrnCuQOlZ1XuM%3D&hl=bn&source=homepage&sa=X&ved=0ahUKEwjrsvmOy4-QAxWhBbkGHc--C-0Q2ZgBCAc\n",
      "https://www.google.com/setprefs?sig=0_ejZoqY7kz4Ka0FSrnCuQOlZ1XuM%3D&hl=te&source=homepage&sa=X&ved=0ahUKEwjrsvmOy4-QAxWhBbkGHc--C-0Q2ZgBCAg\n",
      "https://www.google.com/setprefs?sig=0_ejZoqY7kz4Ka0FSrnCuQOlZ1XuM%3D&hl=mr&source=homepage&sa=X&ved=0ahUKEwjrsvmOy4-QAxWhBbkGHc--C-0Q2ZgBCAk\n",
      "https://www.google.com/setprefs?sig=0_ejZoqY7kz4Ka0FSrnCuQOlZ1XuM%3D&hl=ta&source=homepage&sa=X&ved=0ahUKEwjrsvmOy4-QAxWhBbkGHc--C-0Q2ZgBCAo\n",
      "https://www.google.com/setprefs?sig=0_ejZoqY7kz4Ka0FSrnCuQOlZ1XuM%3D&hl=gu&source=homepage&sa=X&ved=0ahUKEwjrsvmOy4-QAxWhBbkGHc--C-0Q2ZgBCAs\n",
      "https://www.google.com/setprefs?sig=0_ejZoqY7kz4Ka0FSrnCuQOlZ1XuM%3D&hl=kn&source=homepage&sa=X&ved=0ahUKEwjrsvmOy4-QAxWhBbkGHc--C-0Q2ZgBCAw\n",
      "https://www.google.com/setprefs?sig=0_ejZoqY7kz4Ka0FSrnCuQOlZ1XuM%3D&hl=ml&source=homepage&sa=X&ved=0ahUKEwjrsvmOy4-QAxWhBbkGHc--C-0Q2ZgBCA0\n",
      "https://www.google.com/setprefs?sig=0_ejZoqY7kz4Ka0FSrnCuQOlZ1XuM%3D&hl=pa&source=homepage&sa=X&ved=0ahUKEwjrsvmOy4-QAxWhBbkGHc--C-0Q2ZgBCA4\n",
      "/intl/en/ads/\n",
      "http://www.google.co.in/services/\n",
      "/intl/en/about.html\n",
      "https://www.google.com/setprefdomain?prefdom=IN&prev=https://www.google.co.in/&sig=K_A538fZvgJi_XjNpP517LCiesWZ4%3D\n",
      "/intl/en/policies/privacy/\n",
      "/intl/en/policies/terms/\n"
     ]
    }
   ],
   "source": [
    "for var in soup_obj.find_all('a'):\n",
    "    print(var.get('href'))"
   ]
  },
  {
   "cell_type": "code",
   "execution_count": 307,
   "id": "20d94e50-b533-47de-bc67-86e726156e1c",
   "metadata": {},
   "outputs": [
    {
     "data": {
      "text/plain": [
       "<title>Google</title>"
      ]
     },
     "execution_count": 307,
     "metadata": {},
     "output_type": "execute_result"
    }
   ],
   "source": [
    "soup_obj.title"
   ]
  },
  {
   "cell_type": "code",
   "execution_count": 308,
   "id": "6e81898e-89dc-4d2c-93b1-d78fe43a46b0",
   "metadata": {},
   "outputs": [
    {
     "data": {
      "text/plain": [
       "['Google']"
      ]
     },
     "execution_count": 308,
     "metadata": {},
     "output_type": "execute_result"
    }
   ],
   "source": [
    "soup_obj.title.contents"
   ]
  },
  {
   "cell_type": "code",
   "execution_count": 310,
   "id": "f8021626-b2da-4bc8-911c-69dbeb737d15",
   "metadata": {},
   "outputs": [
    {
     "name": "stdout",
     "output_type": "stream",
     "text": [
      "['Images']\n",
      "['Maps']\n",
      "['Play']\n",
      "['YouTube']\n",
      "['News']\n",
      "['Gmail']\n",
      "['Drive']\n",
      "[<u>More</u>, ' »']\n",
      "['Web History']\n",
      "['Settings']\n",
      "['Sign in']\n",
      "['Advanced search']\n",
      "['हिन्दी']\n",
      "['বাংলা']\n",
      "['తెలుగు']\n",
      "['मराठी']\n",
      "['தமிழ்']\n",
      "['ગુજરાતી']\n",
      "['ಕನ್ನಡ']\n",
      "['മലയാളം']\n",
      "['ਪੰਜਾਬੀ']\n",
      "['Advertising']\n",
      "['Business Solutions']\n",
      "['About Google']\n",
      "['Google.co.in']\n",
      "['Privacy']\n",
      "['Terms']\n"
     ]
    }
   ],
   "source": [
    "for var in soup_obj.find_all('a'):\n",
    "    print(var.contents)"
   ]
  },
  {
   "cell_type": "code",
   "execution_count": 311,
   "id": "928feabf-eef8-4b8f-927d-03a027405352",
   "metadata": {},
   "outputs": [],
   "source": [
    "import re\n",
    "re.search('^https','www.https.abc')"
   ]
  },
  {
   "cell_type": "code",
   "execution_count": 312,
   "id": "2ea1ac2a-f0ae-4571-9fb3-407abd7cff07",
   "metadata": {},
   "outputs": [
    {
     "data": {
      "text/plain": [
       "<re.Match object; span=(0, 5), match='https'>"
      ]
     },
     "execution_count": 312,
     "metadata": {},
     "output_type": "execute_result"
    }
   ],
   "source": [
    "re.search('^https','https.abc')"
   ]
  },
  {
   "cell_type": "code",
   "execution_count": 314,
   "id": "eca927c8-add0-4b68-be2e-b77905888e82",
   "metadata": {},
   "outputs": [
    {
     "name": "stdout",
     "output_type": "stream",
     "text": [
      "https://www.google.com/imghp?hl=en&tab=wi\n",
      "https://maps.google.co.in/maps?hl=en&tab=wl\n",
      "https://play.google.com/?hl=en&tab=w8\n",
      "https://www.youtube.com/?tab=w1\n",
      "https://news.google.com/?tab=wn\n",
      "https://mail.google.com/mail/?tab=wm\n",
      "https://drive.google.com/?tab=wo\n",
      "https://www.google.co.in/intl/en/about/products?tab=wh\n",
      "http://www.google.co.in/history/optout?hl=en\n",
      "https://accounts.google.com/ServiceLogin?hl=en&passive=true&continue=https://www.google.com/&ec=GAZAAQ\n",
      "https://www.google.com/setprefs?sig=0_ejZoqY7kz4Ka0FSrnCuQOlZ1XuM%3D&hl=hi&source=homepage&sa=X&ved=0ahUKEwjrsvmOy4-QAxWhBbkGHc--C-0Q2ZgBCAY\n",
      "https://www.google.com/setprefs?sig=0_ejZoqY7kz4Ka0FSrnCuQOlZ1XuM%3D&hl=bn&source=homepage&sa=X&ved=0ahUKEwjrsvmOy4-QAxWhBbkGHc--C-0Q2ZgBCAc\n",
      "https://www.google.com/setprefs?sig=0_ejZoqY7kz4Ka0FSrnCuQOlZ1XuM%3D&hl=te&source=homepage&sa=X&ved=0ahUKEwjrsvmOy4-QAxWhBbkGHc--C-0Q2ZgBCAg\n",
      "https://www.google.com/setprefs?sig=0_ejZoqY7kz4Ka0FSrnCuQOlZ1XuM%3D&hl=mr&source=homepage&sa=X&ved=0ahUKEwjrsvmOy4-QAxWhBbkGHc--C-0Q2ZgBCAk\n",
      "https://www.google.com/setprefs?sig=0_ejZoqY7kz4Ka0FSrnCuQOlZ1XuM%3D&hl=ta&source=homepage&sa=X&ved=0ahUKEwjrsvmOy4-QAxWhBbkGHc--C-0Q2ZgBCAo\n",
      "https://www.google.com/setprefs?sig=0_ejZoqY7kz4Ka0FSrnCuQOlZ1XuM%3D&hl=gu&source=homepage&sa=X&ved=0ahUKEwjrsvmOy4-QAxWhBbkGHc--C-0Q2ZgBCAs\n",
      "https://www.google.com/setprefs?sig=0_ejZoqY7kz4Ka0FSrnCuQOlZ1XuM%3D&hl=kn&source=homepage&sa=X&ved=0ahUKEwjrsvmOy4-QAxWhBbkGHc--C-0Q2ZgBCAw\n",
      "https://www.google.com/setprefs?sig=0_ejZoqY7kz4Ka0FSrnCuQOlZ1XuM%3D&hl=ml&source=homepage&sa=X&ved=0ahUKEwjrsvmOy4-QAxWhBbkGHc--C-0Q2ZgBCA0\n",
      "https://www.google.com/setprefs?sig=0_ejZoqY7kz4Ka0FSrnCuQOlZ1XuM%3D&hl=pa&source=homepage&sa=X&ved=0ahUKEwjrsvmOy4-QAxWhBbkGHc--C-0Q2ZgBCA4\n",
      "http://www.google.co.in/services/\n",
      "https://www.google.com/setprefdomain?prefdom=IN&prev=https://www.google.co.in/&sig=K_A538fZvgJi_XjNpP517LCiesWZ4%3D\n"
     ]
    }
   ],
   "source": [
    "for var in soup_obj.find_all('a'):\n",
    "    if(re.search('^http',var.get('href'))): # print(var.get('href'))\n",
    "        print(var.get('href'))"
   ]
  },
  {
   "cell_type": "code",
   "execution_count": 315,
   "id": "30d1fab9-fbce-402d-af73-6a54c4813522",
   "metadata": {},
   "outputs": [],
   "source": [
    "URLs = []\n",
    "for var in soup_obj.find_all('a'):\n",
    "    if(re.search('^http',var.get('href'))): # print(var.get('href'))\n",
    "        URLs.append(var.get('href'))\n",
    "        #print(var.get('href'))\n",
    "        "
   ]
  },
  {
   "cell_type": "code",
   "execution_count": 316,
   "id": "705f7d48-4e7d-4a9d-bcdd-1f2eeca736d1",
   "metadata": {},
   "outputs": [
    {
     "data": {
      "text/plain": [
       "{'Google': ['https://www.google.com/imghp?hl=en&tab=wi',\n",
       "  'https://maps.google.co.in/maps?hl=en&tab=wl',\n",
       "  'https://play.google.com/?hl=en&tab=w8',\n",
       "  'https://www.youtube.com/?tab=w1',\n",
       "  'https://news.google.com/?tab=wn',\n",
       "  'https://mail.google.com/mail/?tab=wm',\n",
       "  'https://drive.google.com/?tab=wo',\n",
       "  'https://www.google.co.in/intl/en/about/products?tab=wh',\n",
       "  'http://www.google.co.in/history/optout?hl=en',\n",
       "  'https://accounts.google.com/ServiceLogin?hl=en&passive=true&continue=https://www.google.com/&ec=GAZAAQ',\n",
       "  'https://www.google.com/setprefs?sig=0_ejZoqY7kz4Ka0FSrnCuQOlZ1XuM%3D&hl=hi&source=homepage&sa=X&ved=0ahUKEwjrsvmOy4-QAxWhBbkGHc--C-0Q2ZgBCAY',\n",
       "  'https://www.google.com/setprefs?sig=0_ejZoqY7kz4Ka0FSrnCuQOlZ1XuM%3D&hl=bn&source=homepage&sa=X&ved=0ahUKEwjrsvmOy4-QAxWhBbkGHc--C-0Q2ZgBCAc',\n",
       "  'https://www.google.com/setprefs?sig=0_ejZoqY7kz4Ka0FSrnCuQOlZ1XuM%3D&hl=te&source=homepage&sa=X&ved=0ahUKEwjrsvmOy4-QAxWhBbkGHc--C-0Q2ZgBCAg',\n",
       "  'https://www.google.com/setprefs?sig=0_ejZoqY7kz4Ka0FSrnCuQOlZ1XuM%3D&hl=mr&source=homepage&sa=X&ved=0ahUKEwjrsvmOy4-QAxWhBbkGHc--C-0Q2ZgBCAk',\n",
       "  'https://www.google.com/setprefs?sig=0_ejZoqY7kz4Ka0FSrnCuQOlZ1XuM%3D&hl=ta&source=homepage&sa=X&ved=0ahUKEwjrsvmOy4-QAxWhBbkGHc--C-0Q2ZgBCAo',\n",
       "  'https://www.google.com/setprefs?sig=0_ejZoqY7kz4Ka0FSrnCuQOlZ1XuM%3D&hl=gu&source=homepage&sa=X&ved=0ahUKEwjrsvmOy4-QAxWhBbkGHc--C-0Q2ZgBCAs',\n",
       "  'https://www.google.com/setprefs?sig=0_ejZoqY7kz4Ka0FSrnCuQOlZ1XuM%3D&hl=kn&source=homepage&sa=X&ved=0ahUKEwjrsvmOy4-QAxWhBbkGHc--C-0Q2ZgBCAw',\n",
       "  'https://www.google.com/setprefs?sig=0_ejZoqY7kz4Ka0FSrnCuQOlZ1XuM%3D&hl=ml&source=homepage&sa=X&ved=0ahUKEwjrsvmOy4-QAxWhBbkGHc--C-0Q2ZgBCA0',\n",
       "  'https://www.google.com/setprefs?sig=0_ejZoqY7kz4Ka0FSrnCuQOlZ1XuM%3D&hl=pa&source=homepage&sa=X&ved=0ahUKEwjrsvmOy4-QAxWhBbkGHc--C-0Q2ZgBCA4',\n",
       "  'http://www.google.co.in/services/',\n",
       "  'https://www.google.com/setprefdomain?prefdom=IN&prev=https://www.google.co.in/&sig=K_A538fZvgJi_XjNpP517LCiesWZ4%3D']}"
      ]
     },
     "execution_count": 316,
     "metadata": {},
     "output_type": "execute_result"
    }
   ],
   "source": [
    "d={}\n",
    "d['Google'] = URLs\n",
    "d"
   ]
  },
  {
   "cell_type": "code",
   "execution_count": 317,
   "id": "98d047c2-6a37-43a1-b29b-a9d66d6a96bf",
   "metadata": {},
   "outputs": [
    {
     "data": {
      "text/html": [
       "<div>\n",
       "<style scoped>\n",
       "    .dataframe tbody tr th:only-of-type {\n",
       "        vertical-align: middle;\n",
       "    }\n",
       "\n",
       "    .dataframe tbody tr th {\n",
       "        vertical-align: top;\n",
       "    }\n",
       "\n",
       "    .dataframe thead th {\n",
       "        text-align: right;\n",
       "    }\n",
       "</style>\n",
       "<table border=\"1\" class=\"dataframe\">\n",
       "  <thead>\n",
       "    <tr style=\"text-align: right;\">\n",
       "      <th></th>\n",
       "      <th>Google</th>\n",
       "    </tr>\n",
       "  </thead>\n",
       "  <tbody>\n",
       "    <tr>\n",
       "      <th>0</th>\n",
       "      <td>https://www.google.com/imghp?hl=en&amp;tab=wi</td>\n",
       "    </tr>\n",
       "    <tr>\n",
       "      <th>1</th>\n",
       "      <td>https://maps.google.co.in/maps?hl=en&amp;tab=wl</td>\n",
       "    </tr>\n",
       "    <tr>\n",
       "      <th>2</th>\n",
       "      <td>https://play.google.com/?hl=en&amp;tab=w8</td>\n",
       "    </tr>\n",
       "    <tr>\n",
       "      <th>3</th>\n",
       "      <td>https://www.youtube.com/?tab=w1</td>\n",
       "    </tr>\n",
       "    <tr>\n",
       "      <th>4</th>\n",
       "      <td>https://news.google.com/?tab=wn</td>\n",
       "    </tr>\n",
       "    <tr>\n",
       "      <th>5</th>\n",
       "      <td>https://mail.google.com/mail/?tab=wm</td>\n",
       "    </tr>\n",
       "    <tr>\n",
       "      <th>6</th>\n",
       "      <td>https://drive.google.com/?tab=wo</td>\n",
       "    </tr>\n",
       "    <tr>\n",
       "      <th>7</th>\n",
       "      <td>https://www.google.co.in/intl/en/about/product...</td>\n",
       "    </tr>\n",
       "    <tr>\n",
       "      <th>8</th>\n",
       "      <td>http://www.google.co.in/history/optout?hl=en</td>\n",
       "    </tr>\n",
       "    <tr>\n",
       "      <th>9</th>\n",
       "      <td>https://accounts.google.com/ServiceLogin?hl=en...</td>\n",
       "    </tr>\n",
       "    <tr>\n",
       "      <th>10</th>\n",
       "      <td>https://www.google.com/setprefs?sig=0_ejZoqY7k...</td>\n",
       "    </tr>\n",
       "    <tr>\n",
       "      <th>11</th>\n",
       "      <td>https://www.google.com/setprefs?sig=0_ejZoqY7k...</td>\n",
       "    </tr>\n",
       "    <tr>\n",
       "      <th>12</th>\n",
       "      <td>https://www.google.com/setprefs?sig=0_ejZoqY7k...</td>\n",
       "    </tr>\n",
       "    <tr>\n",
       "      <th>13</th>\n",
       "      <td>https://www.google.com/setprefs?sig=0_ejZoqY7k...</td>\n",
       "    </tr>\n",
       "    <tr>\n",
       "      <th>14</th>\n",
       "      <td>https://www.google.com/setprefs?sig=0_ejZoqY7k...</td>\n",
       "    </tr>\n",
       "    <tr>\n",
       "      <th>15</th>\n",
       "      <td>https://www.google.com/setprefs?sig=0_ejZoqY7k...</td>\n",
       "    </tr>\n",
       "    <tr>\n",
       "      <th>16</th>\n",
       "      <td>https://www.google.com/setprefs?sig=0_ejZoqY7k...</td>\n",
       "    </tr>\n",
       "    <tr>\n",
       "      <th>17</th>\n",
       "      <td>https://www.google.com/setprefs?sig=0_ejZoqY7k...</td>\n",
       "    </tr>\n",
       "    <tr>\n",
       "      <th>18</th>\n",
       "      <td>https://www.google.com/setprefs?sig=0_ejZoqY7k...</td>\n",
       "    </tr>\n",
       "    <tr>\n",
       "      <th>19</th>\n",
       "      <td>http://www.google.co.in/services/</td>\n",
       "    </tr>\n",
       "    <tr>\n",
       "      <th>20</th>\n",
       "      <td>https://www.google.com/setprefdomain?prefdom=I...</td>\n",
       "    </tr>\n",
       "  </tbody>\n",
       "</table>\n",
       "</div>"
      ],
      "text/plain": [
       "                                               Google\n",
       "0           https://www.google.com/imghp?hl=en&tab=wi\n",
       "1         https://maps.google.co.in/maps?hl=en&tab=wl\n",
       "2               https://play.google.com/?hl=en&tab=w8\n",
       "3                     https://www.youtube.com/?tab=w1\n",
       "4                     https://news.google.com/?tab=wn\n",
       "5                https://mail.google.com/mail/?tab=wm\n",
       "6                    https://drive.google.com/?tab=wo\n",
       "7   https://www.google.co.in/intl/en/about/product...\n",
       "8        http://www.google.co.in/history/optout?hl=en\n",
       "9   https://accounts.google.com/ServiceLogin?hl=en...\n",
       "10  https://www.google.com/setprefs?sig=0_ejZoqY7k...\n",
       "11  https://www.google.com/setprefs?sig=0_ejZoqY7k...\n",
       "12  https://www.google.com/setprefs?sig=0_ejZoqY7k...\n",
       "13  https://www.google.com/setprefs?sig=0_ejZoqY7k...\n",
       "14  https://www.google.com/setprefs?sig=0_ejZoqY7k...\n",
       "15  https://www.google.com/setprefs?sig=0_ejZoqY7k...\n",
       "16  https://www.google.com/setprefs?sig=0_ejZoqY7k...\n",
       "17  https://www.google.com/setprefs?sig=0_ejZoqY7k...\n",
       "18  https://www.google.com/setprefs?sig=0_ejZoqY7k...\n",
       "19                  http://www.google.co.in/services/\n",
       "20  https://www.google.com/setprefdomain?prefdom=I..."
      ]
     },
     "execution_count": 317,
     "metadata": {},
     "output_type": "execute_result"
    }
   ],
   "source": [
    "pd.DataFrame(d)"
   ]
  },
  {
   "cell_type": "code",
   "execution_count": null,
   "id": "0dea57ce-c584-4291-985f-7b9ff4c32ea7",
   "metadata": {},
   "outputs": [],
   "source": [
    "#################   End of the Day1 #################"
   ]
  }
 ],
 "metadata": {
  "kernelspec": {
   "display_name": "Python [conda env:base] *",
   "language": "python",
   "name": "conda-base-py"
  },
  "language_info": {
   "codemirror_mode": {
    "name": "ipython",
    "version": 3
   },
   "file_extension": ".py",
   "mimetype": "text/x-python",
   "name": "python",
   "nbconvert_exporter": "python",
   "pygments_lexer": "ipython3",
   "version": "3.13.5"
  }
 },
 "nbformat": 4,
 "nbformat_minor": 5
}
