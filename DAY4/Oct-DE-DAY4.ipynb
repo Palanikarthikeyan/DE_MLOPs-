{
 "cells": [
  {
   "cell_type": "code",
   "execution_count": null,
   "id": "0361251e-6e55-4b57-b708-532369b36e35",
   "metadata": {},
   "outputs": [],
   "source": [
    "Recap\n",
    "=====\n",
    "Day1 - numpy pandas webparsing api(json) database ..\n",
    "Day2 - matplotlib seaborn Pyspark\n",
    "============================//DataAnalysis ->RawData ->Clean ->EDA->Visualization\n",
    "Day3 - PySpark\n",
    "          |->Bigdata \n",
    "open a dataset - small(filesize;system H/w;storedData) --> pandas \n",
    "Vs\n",
    "dataset - largedata+streaming =>PySpark\n",
    "                                    |->distributed data process - parallel\n",
    "flink + delata-lake ..\n",
    "Day4 - ML =>Framework - stremlit - mlflow //project\n",
    "Day5 - Grafana .. Prometheus..//CM\n",
    "\n",
    "DataCollection ->Data Preprocessing(Cleaning) ->EDA and Visualization =>ModelSelection->(A)\n",
    "(A) => Model Training => Model Evaluation => Deployment =>Monitoring =>ModelTuning"
   ]
  },
  {
   "cell_type": "code",
   "execution_count": null,
   "id": "417b7874-880c-49d0-9bbd-b17b0a2df1ca",
   "metadata": {},
   "outputs": [],
   "source": [
    "General Programming\n",
    "===================\n",
    "     User => input -->[ m/c ]-->output\n",
    "\n",
    "ML Programming\n",
    "================    -------\n",
    " User  ---input---> | m/c  | --->--- model (algorithm)\n",
    "       ---output--> |------|\n",
    "\n",
    "numpy  - numerical operation\n",
    "pandas - dataprocessing\n",
    "matplotlib/seaborn - data visualization\n",
    "Scikit-learn - ML models\n",
    "|\n",
    "Api - Framework + streamlit (webUI)\n",
    "docker + KDE \n",
    "Cloud -\n",
    " - aws - sagemaker \n",
    " - azure - MLStudio \n",
    " - GCP Vertext AI \n",
    " - OCI OCI DS \n",
    "|\n",
    "Monitor - Grafana and Prometheus (or) MLflow \n",
    "==============================================================================\n",
    " ML ->DL ->GenAI\n",
    "           =====\n",
    "\n",
    "GenAI           -----> AI Agent \n",
    " |->Text -- llm\n",
    " |->Image\n",
    " |->Audio\n",
    " |->Video\n",
    "    ..\n",
    "CPU ->GPU ->LPU\n",
    "\n",
    "health.pdf - 100 page contents\n",
    "==============================\n",
    "     |--------------------<model>------->Vector(numbers) ->[DB] - llm ->chat \n",
    "                                                                Q: ....\n",
    "     +\n",
    "    Api - internet(wikipedia ... ..)\n",
    "\n",
    "\n",
    "AI Agent + Memory + ... =>Agentic AI\n",
    "\n",
    "    Agent1 -------- Agent2\n",
    "                     ....\n",
    "           -------- Agent3 "
   ]
  },
  {
   "cell_type": "code",
   "execution_count": 2,
   "id": "4c4a4489-e035-4c30-8efe-93cd26eafda3",
   "metadata": {},
   "outputs": [
    {
     "data": {
      "text/plain": [
       "<function scipy.stats._stats_py.linregress(x, y=None, alternative='two-sided')>"
      ]
     },
     "execution_count": 2,
     "metadata": {},
     "output_type": "execute_result"
    }
   ],
   "source": [
    "from scipy import stats\n",
    "stats.linregress"
   ]
  },
  {
   "cell_type": "code",
   "execution_count": 4,
   "id": "116c427f-d3e5-4f3a-a182-7b0e2fde3904",
   "metadata": {},
   "outputs": [],
   "source": [
    "X = [5,7,8,9,10,13,15]\n",
    "Y = [67,86,98,110,120,134,256]\n",
    "\n",
    "slope,inter,r,p,std_err = stats.linregress(X,Y)"
   ]
  },
  {
   "cell_type": "code",
   "execution_count": 5,
   "id": "f8baaf17-55f1-4d50-ab3e-d0fae42cadaa",
   "metadata": {},
   "outputs": [],
   "source": [
    "import matplotlib.pyplot as plt"
   ]
  },
  {
   "cell_type": "code",
   "execution_count": 9,
   "id": "d44eab7e-75e1-4aeb-95bf-372c1af5c8e8",
   "metadata": {},
   "outputs": [
    {
     "data": {
      "text/plain": [
       "[<matplotlib.lines.Line2D at 0x255b3454050>]"
      ]
     },
     "execution_count": 9,
     "metadata": {},
     "output_type": "execute_result"
    },
    {
     "data": {
      "image/png": "[encoded data removed]",
      "text/plain": [
       "<Figure size 640x480 with 1 Axes>"
      ]
     },
     "metadata": {},
     "output_type": "display_data"
    }
   ],
   "source": [
    "def fx(a):\n",
    "    return slope*a+inter # y=mx+C\n",
    "\n",
    "result = list(map(fx,X))\n",
    "\n",
    "plt.scatter(X,Y)\n",
    "plt.plot(X,result,'r')"
   ]
  },
  {
   "cell_type": "code",
   "execution_count": 10,
   "id": "6f502dc9-75a8-477a-919c-90fdd1c26aac",
   "metadata": {},
   "outputs": [
    {
     "data": {
      "text/plain": [
       "np.float64(292.57370517928285)"
      ]
     },
     "execution_count": 10,
     "metadata": {},
     "output_type": "execute_result"
    }
   ],
   "source": [
    "fx(20)"
   ]
  },
  {
   "cell_type": "code",
   "execution_count": 11,
   "id": "6e53e7e3-4f0c-4dd1-9e76-987bac48e99d",
   "metadata": {},
   "outputs": [
    {
     "data": {
      "text/plain": [
       "np.float64(50.72111553784862)"
      ]
     },
     "execution_count": 11,
     "metadata": {},
     "output_type": "execute_result"
    }
   ],
   "source": [
    "fx(5)"
   ]
  },
  {
   "cell_type": "code",
   "execution_count": 12,
   "id": "339fdc46-76a6-4414-b490-68c0e72999d5",
   "metadata": {},
   "outputs": [],
   "source": [
    "from sklearn.datasets import load_iris"
   ]
  },
  {
   "cell_type": "code",
   "execution_count": 14,
   "id": "e2daf235-3ae0-4fda-bd97-d55d43fa00a2",
   "metadata": {},
   "outputs": [],
   "source": [
    "import sklearn.datasets"
   ]
  },
  {
   "cell_type": "code",
   "execution_count": 16,
   "id": "38a17207-8977-4e50-8136-91a067ff2ff0",
   "metadata": {},
   "outputs": [],
   "source": [
    "#help(sklearn.datasets)"
   ]
  },
  {
   "cell_type": "code",
   "execution_count": 19,
   "id": "28e3deca-9bad-48be-930a-992d89114234",
   "metadata": {},
   "outputs": [],
   "source": [
    "from sklearn.datasets import load_iris\n",
    "#load_iris()"
   ]
  },
  {
   "cell_type": "code",
   "execution_count": null,
   "id": "eb8a5984-47dd-4cf0-92c2-f0ffb5e88c35",
   "metadata": {},
   "outputs": [],
   "source": [
    "Random Forest\n",
    "Collection - ensemble =>based on avg/vote ->predictions \n",
    "----------------------------\n",
    "Student ->HighStudies \n",
    "     ->which department to select for higher studies \n",
    "\n",
    "Student -->friend1  => Physics  ---------- \n",
    "Student -->teacher  => Mathematics        |  ->  [Physics]\n",
    "Student -->Uncle    => Physics  -----------\n",
    "Student -->friend2  => Civil              |\n",
    "\n",
    "from sklearn.ensemble import RandomForestClassifier\n"
   ]
  },
  {
   "cell_type": "code",
   "execution_count": 20,
   "id": "b0f5e5e0-a368-4f09-9932-d66142e5d269",
   "metadata": {},
   "outputs": [],
   "source": [
    "from sklearn.ensemble import RandomForestClassifier"
   ]
  },
  {
   "cell_type": "code",
   "execution_count": 22,
   "id": "de208bca-0e05-434e-a99d-1c3e7922880c",
   "metadata": {},
   "outputs": [],
   "source": [
    "#help(RandomForestClassifier)"
   ]
  },
  {
   "cell_type": "code",
   "execution_count": 29,
   "id": "54dafe5e-2940-4f7f-be69-e61f7fd2ce0b",
   "metadata": {},
   "outputs": [],
   "source": [
    "from sklearn.datasets import load_iris\n",
    "from sklearn.ensemble import RandomForestClassifier\n",
    "from sklearn.model_selection import train_test_split\n",
    "\n",
    "# load dataset - cleaned dataset <== comes from DataEngineering(Source)/DataAnalysis\n",
    "data = load_iris()\n",
    "X = data.data\n",
    "Y = data.target\n",
    "\n",
    "# Split data\n",
    "X_train,X_test,y_train,y_test = train_test_split(X,Y,test_size=0.4,random_state=42)\n",
    "\n",
    "# Create model \n",
    "model = RandomForestClassifier(n_estimators=100,random_state=42)\n",
    "\n",
    "# Train\n",
    "model.fit(X_train,y_train)\n",
    "\n",
    "# Predict \n",
    "y_pred = model.predict(X_test)"
   ]
  },
  {
   "cell_type": "code",
   "execution_count": 30,
   "id": "2524b806-e195-431f-90e2-10ae76aa81bf",
   "metadata": {},
   "outputs": [],
   "source": [
    "from sklearn.metrics import accuracy_score"
   ]
  },
  {
   "cell_type": "code",
   "execution_count": 31,
   "id": "71e96102-8075-49a6-9b43-0d6d8ff4078b",
   "metadata": {},
   "outputs": [
    {
     "data": {
      "text/plain": [
       "0.9833333333333333"
      ]
     },
     "execution_count": 31,
     "metadata": {},
     "output_type": "execute_result"
    }
   ],
   "source": [
    "accuracy_score(y_test,y_pred)"
   ]
  },
  {
   "cell_type": "code",
   "execution_count": 32,
   "id": "0f6ac8e1-1c95-4598-8022-e1785c8c8252",
   "metadata": {},
   "outputs": [],
   "source": [
    "import pandas as pd\n",
    "import numpy as np"
   ]
  },
  {
   "cell_type": "code",
   "execution_count": 37,
   "id": "5942eea0-e3e3-46fd-a978-86c0ed75c7d6",
   "metadata": {},
   "outputs": [],
   "source": [
    "data = {'Hrs':[1,1.5,2.5,3.0,3.5],'Score':[30,44,55,70,80]}\n",
    "\n",
    "df = pd.DataFrame(data)\n",
    "\n",
    "X = df[['Hrs']] # independent \n",
    "Y = df[['Score']] # dependent"
   ]
  },
  {
   "cell_type": "code",
   "execution_count": 38,
   "id": "52af1eb3-c85d-4cb1-86cb-345a3423a12e",
   "metadata": {},
   "outputs": [],
   "source": [
    "from sklearn.linear_model import LinearRegression"
   ]
  },
  {
   "cell_type": "code",
   "execution_count": 39,
   "id": "6b01271d-2463-424e-b0cc-e4a0c8ed5a4d",
   "metadata": {},
   "outputs": [
    {
     "data": {
      "text/html": [
       "<style>#sk-container-id-2 {\n",
       "  /* Definition of color scheme common for light and dark mode */\n",
       "  --sklearn-color-text: #000;\n",
       "  --sklearn-color-text-muted: #666;\n",
       "  --sklearn-color-line: gray;\n",
       "  /* Definition of color scheme for unfitted estimators */\n",
       "  --sklearn-color-unfitted-level-0: #fff5e6;\n",
       "  --sklearn-color-unfitted-level-1: #f6e4d2;\n",
       "  --sklearn-color-unfitted-level-2: #ffe0b3;\n",
       "  --sklearn-color-unfitted-level-3: chocolate;\n",
       "  /* Definition of color scheme for fitted estimators */\n",
       "  --sklearn-color-fitted-level-0: #f0f8ff;\n",
       "  --sklearn-color-fitted-level-1: #d4ebff;\n",
       "  --sklearn-color-fitted-level-2: #b3dbfd;\n",
       "  --sklearn-color-fitted-level-3: cornflowerblue;\n",
       "\n",
       "  /* Specific color for light theme */\n",
       "  --sklearn-color-text-on-default-background: var(--sg-text-color, var(--theme-code-foreground, var(--jp-content-font-color1, black)));\n",
       "  --sklearn-color-background: var(--sg-background-color, var(--theme-background, var(--jp-layout-color0, white)));\n",
       "  --sklearn-color-border-box: var(--sg-text-color, var(--theme-code-foreground, var(--jp-content-font-color1, black)));\n",
       "  --sklearn-color-icon: #696969;\n",
       "\n",
       "  @media (prefers-color-scheme: dark) {\n",
       "    /* Redefinition of color scheme for dark theme */\n",
       "    --sklearn-color-text-on-default-background: var(--sg-text-color, var(--theme-code-foreground, var(--jp-content-font-color1, white)));\n",
       "    --sklearn-color-background: var(--sg-background-color, var(--theme-background, var(--jp-layout-color0, #111)));\n",
       "    --sklearn-color-border-box: var(--sg-text-color, var(--theme-code-foreground, var(--jp-content-font-color1, white)));\n",
       "    --sklearn-color-icon: #878787;\n",
       "  }\n",
       "}\n",
       "\n",
       "#sk-container-id-2 {\n",
       "  color: var(--sklearn-color-text);\n",
       "}\n",
       "\n",
       "#sk-container-id-2 pre {\n",
       "  padding: 0;\n",
       "}\n",
       "\n",
       "#sk-container-id-2 input.sk-hidden--visually {\n",
       "  border: 0;\n",
       "  clip: rect(1px 1px 1px 1px);\n",
       "  clip: rect(1px, 1px, 1px, 1px);\n",
       "  height: 1px;\n",
       "  margin: -1px;\n",
       "  overflow: hidden;\n",
       "  padding: 0;\n",
       "  position: absolute;\n",
       "  width: 1px;\n",
       "}\n",
       "\n",
       "#sk-container-id-2 div.sk-dashed-wrapped {\n",
       "  border: 1px dashed var(--sklearn-color-line);\n",
       "  margin: 0 0.4em 0.5em 0.4em;\n",
       "  box-sizing: border-box;\n",
       "  padding-bottom: 0.4em;\n",
       "  background-color: var(--sklearn-color-background);\n",
       "}\n",
       "\n",
       "#sk-container-id-2 div.sk-container {\n",
       "  /* jupyter's `normalize.less` sets `[hidden] { display: none; }`\n",
       "     but bootstrap.min.css set `[hidden] { display: none !important; }`\n",
       "     so we also need the `!important` here to be able to override the\n",
       "     default hidden behavior on the sphinx rendered scikit-learn.org.\n",
       "     See: https://github.com/scikit-learn/scikit-learn/issues/21755 */\n",
       "  display: inline-block !important;\n",
       "  position: relative;\n",
       "}\n",
       "\n",
       "#sk-container-id-2 div.sk-text-repr-fallback {\n",
       "  display: none;\n",
       "}\n",
       "\n",
       "div.sk-parallel-item,\n",
       "div.sk-serial,\n",
       "div.sk-item {\n",
       "  /* draw centered vertical line to link estimators */\n",
       "  background-image: linear-gradient(var(--sklearn-color-text-on-default-background), var(--sklearn-color-text-on-default-background));\n",
       "  background-size: 2px 100%;\n",
       "  background-repeat: no-repeat;\n",
       "  background-position: center center;\n",
       "}\n",
       "\n",
       "/* Parallel-specific style estimator block */\n",
       "\n",
       "#sk-container-id-2 div.sk-parallel-item::after {\n",
       "  content: \"\";\n",
       "  width: 100%;\n",
       "  border-bottom: 2px solid var(--sklearn-color-text-on-default-background);\n",
       "  flex-grow: 1;\n",
       "}\n",
       "\n",
       "#sk-container-id-2 div.sk-parallel {\n",
       "  display: flex;\n",
       "  align-items: stretch;\n",
       "  justify-content: center;\n",
       "  background-color: var(--sklearn-color-background);\n",
       "  position: relative;\n",
       "}\n",
       "\n",
       "#sk-container-id-2 div.sk-parallel-item {\n",
       "  display: flex;\n",
       "  flex-direction: column;\n",
       "}\n",
       "\n",
       "#sk-container-id-2 div.sk-parallel-item:first-child::after {\n",
       "  align-self: flex-end;\n",
       "  width: 50%;\n",
       "}\n",
       "\n",
       "#sk-container-id-2 div.sk-parallel-item:last-child::after {\n",
       "  align-self: flex-start;\n",
       "  width: 50%;\n",
       "}\n",
       "\n",
       "#sk-container-id-2 div.sk-parallel-item:only-child::after {\n",
       "  width: 0;\n",
       "}\n",
       "\n",
       "/* Serial-specific style estimator block */\n",
       "\n",
       "#sk-container-id-2 div.sk-serial {\n",
       "  display: flex;\n",
       "  flex-direction: column;\n",
       "  align-items: center;\n",
       "  background-color: var(--sklearn-color-background);\n",
       "  padding-right: 1em;\n",
       "  padding-left: 1em;\n",
       "}\n",
       "\n",
       "\n",
       "/* Toggleable style: style used for estimator/Pipeline/ColumnTransformer box that is\n",
       "clickable and can be expanded/collapsed.\n",
       "- Pipeline and ColumnTransformer use this feature and define the default style\n",
       "- Estimators will overwrite some part of the style using the `sk-estimator` class\n",
       "*/\n",
       "\n",
       "/* Pipeline and ColumnTransformer style (default) */\n",
       "\n",
       "#sk-container-id-2 div.sk-toggleable {\n",
       "  /* Default theme specific background. It is overwritten whether we have a\n",
       "  specific estimator or a Pipeline/ColumnTransformer */\n",
       "  background-color: var(--sklearn-color-background);\n",
       "}\n",
       "\n",
       "/* Toggleable label */\n",
       "#sk-container-id-2 label.sk-toggleable__label {\n",
       "  cursor: pointer;\n",
       "  display: flex;\n",
       "  width: 100%;\n",
       "  margin-bottom: 0;\n",
       "  padding: 0.5em;\n",
       "  box-sizing: border-box;\n",
       "  text-align: center;\n",
       "  align-items: start;\n",
       "  justify-content: space-between;\n",
       "  gap: 0.5em;\n",
       "}\n",
       "\n",
       "#sk-container-id-2 label.sk-toggleable__label .caption {\n",
       "  font-size: 0.6rem;\n",
       "  font-weight: lighter;\n",
       "  color: var(--sklearn-color-text-muted);\n",
       "}\n",
       "\n",
       "#sk-container-id-2 label.sk-toggleable__label-arrow:before {\n",
       "  /* Arrow on the left of the label */\n",
       "  content: \"▸\";\n",
       "  float: left;\n",
       "  margin-right: 0.25em;\n",
       "  color: var(--sklearn-color-icon);\n",
       "}\n",
       "\n",
       "#sk-container-id-2 label.sk-toggleable__label-arrow:hover:before {\n",
       "  color: var(--sklearn-color-text);\n",
       "}\n",
       "\n",
       "/* Toggleable content - dropdown */\n",
       "\n",
       "#sk-container-id-2 div.sk-toggleable__content {\n",
       "  max-height: 0;\n",
       "  max-width: 0;\n",
       "  overflow: hidden;\n",
       "  text-align: left;\n",
       "  /* unfitted */\n",
       "  background-color: var(--sklearn-color-unfitted-level-0);\n",
       "}\n",
       "\n",
       "#sk-container-id-2 div.sk-toggleable__content.fitted {\n",
       "  /* fitted */\n",
       "  background-color: var(--sklearn-color-fitted-level-0);\n",
       "}\n",
       "\n",
       "#sk-container-id-2 div.sk-toggleable__content pre {\n",
       "  margin: 0.2em;\n",
       "  border-radius: 0.25em;\n",
       "  color: var(--sklearn-color-text);\n",
       "  /* unfitted */\n",
       "  background-color: var(--sklearn-color-unfitted-level-0);\n",
       "}\n",
       "\n",
       "#sk-container-id-2 div.sk-toggleable__content.fitted pre {\n",
       "  /* unfitted */\n",
       "  background-color: var(--sklearn-color-fitted-level-0);\n",
       "}\n",
       "\n",
       "#sk-container-id-2 input.sk-toggleable__control:checked~div.sk-toggleable__content {\n",
       "  /* Expand drop-down */\n",
       "  max-height: 200px;\n",
       "  max-width: 100%;\n",
       "  overflow: auto;\n",
       "}\n",
       "\n",
       "#sk-container-id-2 input.sk-toggleable__control:checked~label.sk-toggleable__label-arrow:before {\n",
       "  content: \"▾\";\n",
       "}\n",
       "\n",
       "/* Pipeline/ColumnTransformer-specific style */\n",
       "\n",
       "#sk-container-id-2 div.sk-label input.sk-toggleable__control:checked~label.sk-toggleable__label {\n",
       "  color: var(--sklearn-color-text);\n",
       "  background-color: var(--sklearn-color-unfitted-level-2);\n",
       "}\n",
       "\n",
       "#sk-container-id-2 div.sk-label.fitted input.sk-toggleable__control:checked~label.sk-toggleable__label {\n",
       "  background-color: var(--sklearn-color-fitted-level-2);\n",
       "}\n",
       "\n",
       "/* Estimator-specific style */\n",
       "\n",
       "/* Colorize estimator box */\n",
       "#sk-container-id-2 div.sk-estimator input.sk-toggleable__control:checked~label.sk-toggleable__label {\n",
       "  /* unfitted */\n",
       "  background-color: var(--sklearn-color-unfitted-level-2);\n",
       "}\n",
       "\n",
       "#sk-container-id-2 div.sk-estimator.fitted input.sk-toggleable__control:checked~label.sk-toggleable__label {\n",
       "  /* fitted */\n",
       "  background-color: var(--sklearn-color-fitted-level-2);\n",
       "}\n",
       "\n",
       "#sk-container-id-2 div.sk-label label.sk-toggleable__label,\n",
       "#sk-container-id-2 div.sk-label label {\n",
       "  /* The background is the default theme color */\n",
       "  color: var(--sklearn-color-text-on-default-background);\n",
       "}\n",
       "\n",
       "/* On hover, darken the color of the background */\n",
       "#sk-container-id-2 div.sk-label:hover label.sk-toggleable__label {\n",
       "  color: var(--sklearn-color-text);\n",
       "  background-color: var(--sklearn-color-unfitted-level-2);\n",
       "}\n",
       "\n",
       "/* Label box, darken color on hover, fitted */\n",
       "#sk-container-id-2 div.sk-label.fitted:hover label.sk-toggleable__label.fitted {\n",
       "  color: var(--sklearn-color-text);\n",
       "  background-color: var(--sklearn-color-fitted-level-2);\n",
       "}\n",
       "\n",
       "/* Estimator label */\n",
       "\n",
       "#sk-container-id-2 div.sk-label label {\n",
       "  font-family: monospace;\n",
       "  font-weight: bold;\n",
       "  display: inline-block;\n",
       "  line-height: 1.2em;\n",
       "}\n",
       "\n",
       "#sk-container-id-2 div.sk-label-container {\n",
       "  text-align: center;\n",
       "}\n",
       "\n",
       "/* Estimator-specific */\n",
       "#sk-container-id-2 div.sk-estimator {\n",
       "  font-family: monospace;\n",
       "  border: 1px dotted var(--sklearn-color-border-box);\n",
       "  border-radius: 0.25em;\n",
       "  box-sizing: border-box;\n",
       "  margin-bottom: 0.5em;\n",
       "  /* unfitted */\n",
       "  background-color: var(--sklearn-color-unfitted-level-0);\n",
       "}\n",
       "\n",
       "#sk-container-id-2 div.sk-estimator.fitted {\n",
       "  /* fitted */\n",
       "  background-color: var(--sklearn-color-fitted-level-0);\n",
       "}\n",
       "\n",
       "/* on hover */\n",
       "#sk-container-id-2 div.sk-estimator:hover {\n",
       "  /* unfitted */\n",
       "  background-color: var(--sklearn-color-unfitted-level-2);\n",
       "}\n",
       "\n",
       "#sk-container-id-2 div.sk-estimator.fitted:hover {\n",
       "  /* fitted */\n",
       "  background-color: var(--sklearn-color-fitted-level-2);\n",
       "}\n",
       "\n",
       "/* Specification for estimator info (e.g. \"i\" and \"?\") */\n",
       "\n",
       "/* Common style for \"i\" and \"?\" */\n",
       "\n",
       ".sk-estimator-doc-link,\n",
       "a:link.sk-estimator-doc-link,\n",
       "a:visited.sk-estimator-doc-link {\n",
       "  float: right;\n",
       "  font-size: smaller;\n",
       "  line-height: 1em;\n",
       "  font-family: monospace;\n",
       "  background-color: var(--sklearn-color-background);\n",
       "  border-radius: 1em;\n",
       "  height: 1em;\n",
       "  width: 1em;\n",
       "  text-decoration: none !important;\n",
       "  margin-left: 0.5em;\n",
       "  text-align: center;\n",
       "  /* unfitted */\n",
       "  border: var(--sklearn-color-unfitted-level-1) 1pt solid;\n",
       "  color: var(--sklearn-color-unfitted-level-1);\n",
       "}\n",
       "\n",
       ".sk-estimator-doc-link.fitted,\n",
       "a:link.sk-estimator-doc-link.fitted,\n",
       "a:visited.sk-estimator-doc-link.fitted {\n",
       "  /* fitted */\n",
       "  border: var(--sklearn-color-fitted-level-1) 1pt solid;\n",
       "  color: var(--sklearn-color-fitted-level-1);\n",
       "}\n",
       "\n",
       "/* On hover */\n",
       "div.sk-estimator:hover .sk-estimator-doc-link:hover,\n",
       ".sk-estimator-doc-link:hover,\n",
       "div.sk-label-container:hover .sk-estimator-doc-link:hover,\n",
       ".sk-estimator-doc-link:hover {\n",
       "  /* unfitted */\n",
       "  background-color: var(--sklearn-color-unfitted-level-3);\n",
       "  color: var(--sklearn-color-background);\n",
       "  text-decoration: none;\n",
       "}\n",
       "\n",
       "div.sk-estimator.fitted:hover .sk-estimator-doc-link.fitted:hover,\n",
       ".sk-estimator-doc-link.fitted:hover,\n",
       "div.sk-label-container:hover .sk-estimator-doc-link.fitted:hover,\n",
       ".sk-estimator-doc-link.fitted:hover {\n",
       "  /* fitted */\n",
       "  background-color: var(--sklearn-color-fitted-level-3);\n",
       "  color: var(--sklearn-color-background);\n",
       "  text-decoration: none;\n",
       "}\n",
       "\n",
       "/* Span, style for the box shown on hovering the info icon */\n",
       ".sk-estimator-doc-link span {\n",
       "  display: none;\n",
       "  z-index: 9999;\n",
       "  position: relative;\n",
       "  font-weight: normal;\n",
       "  right: .2ex;\n",
       "  padding: .5ex;\n",
       "  margin: .5ex;\n",
       "  width: min-content;\n",
       "  min-width: 20ex;\n",
       "  max-width: 50ex;\n",
       "  color: var(--sklearn-color-text);\n",
       "  box-shadow: 2pt 2pt 4pt #999;\n",
       "  /* unfitted */\n",
       "  background: var(--sklearn-color-unfitted-level-0);\n",
       "  border: .5pt solid var(--sklearn-color-unfitted-level-3);\n",
       "}\n",
       "\n",
       ".sk-estimator-doc-link.fitted span {\n",
       "  /* fitted */\n",
       "  background: var(--sklearn-color-fitted-level-0);\n",
       "  border: var(--sklearn-color-fitted-level-3);\n",
       "}\n",
       "\n",
       ".sk-estimator-doc-link:hover span {\n",
       "  display: block;\n",
       "}\n",
       "\n",
       "/* \"?\"-specific style due to the `<a>` HTML tag */\n",
       "\n",
       "#sk-container-id-2 a.estimator_doc_link {\n",
       "  float: right;\n",
       "  font-size: 1rem;\n",
       "  line-height: 1em;\n",
       "  font-family: monospace;\n",
       "  background-color: var(--sklearn-color-background);\n",
       "  border-radius: 1rem;\n",
       "  height: 1rem;\n",
       "  width: 1rem;\n",
       "  text-decoration: none;\n",
       "  /* unfitted */\n",
       "  color: var(--sklearn-color-unfitted-level-1);\n",
       "  border: var(--sklearn-color-unfitted-level-1) 1pt solid;\n",
       "}\n",
       "\n",
       "#sk-container-id-2 a.estimator_doc_link.fitted {\n",
       "  /* fitted */\n",
       "  border: var(--sklearn-color-fitted-level-1) 1pt solid;\n",
       "  color: var(--sklearn-color-fitted-level-1);\n",
       "}\n",
       "\n",
       "/* On hover */\n",
       "#sk-container-id-2 a.estimator_doc_link:hover {\n",
       "  /* unfitted */\n",
       "  background-color: var(--sklearn-color-unfitted-level-3);\n",
       "  color: var(--sklearn-color-background);\n",
       "  text-decoration: none;\n",
       "}\n",
       "\n",
       "#sk-container-id-2 a.estimator_doc_link.fitted:hover {\n",
       "  /* fitted */\n",
       "  background-color: var(--sklearn-color-fitted-level-3);\n",
       "}\n",
       "</style><div id=\"sk-container-id-2\" class=\"sk-top-container\"><div class=\"sk-text-repr-fallback\"><pre>LinearRegression()</pre><b>In a Jupyter environment, please rerun this cell to show the HTML representation or trust the notebook. <br />On GitHub, the HTML representation is unable to render, please try loading this page with nbviewer.org.</b></div><div class=\"sk-container\" hidden><div class=\"sk-item\"><div class=\"sk-estimator fitted sk-toggleable\"><input class=\"sk-toggleable__control sk-hidden--visually\" id=\"sk-estimator-id-2\" type=\"checkbox\" checked><label for=\"sk-estimator-id-2\" class=\"sk-toggleable__label fitted sk-toggleable__label-arrow\"><div><div>LinearRegression</div></div><div><a class=\"sk-estimator-doc-link fitted\" rel=\"noreferrer\" target=\"_blank\" href=\"https://scikit-learn.org/1.6/modules/generated/sklearn.linear_model.LinearRegression.html\">?<span>Documentation for LinearRegression</span></a><span class=\"sk-estimator-doc-link fitted\">i<span>Fitted</span></span></div></label><div class=\"sk-toggleable__content fitted\"><pre>LinearRegression()</pre></div> </div></div></div></div>"
      ],
      "text/plain": [
       "LinearRegression()"
      ]
     },
     "execution_count": 39,
     "metadata": {},
     "output_type": "execute_result"
    }
   ],
   "source": [
    "model = LinearRegression()\n",
    "model.fit(X,Y)"
   ]
  },
  {
   "cell_type": "code",
   "execution_count": 42,
   "id": "6c8662ab-ebd7-44bd-bffd-b42dff279569",
   "metadata": {},
   "outputs": [
    {
     "name": "stdout",
     "output_type": "stream",
     "text": [
      "[12.04651163]\n",
      "[19.02325581]\n"
     ]
    }
   ],
   "source": [
    "print(model.intercept_)\n",
    "print(model.coef_[0])"
   ]
  },
  {
   "cell_type": "code",
   "execution_count": 43,
   "id": "2ffe2154-4a29-4ebc-a849-2f450f24ee37",
   "metadata": {},
   "outputs": [
    {
     "name": "stderr",
     "output_type": "stream",
     "text": [
      "C:\\ProgramData\\anaconda3\\Lib\\site-packages\\sklearn\\utils\\validation.py:2739: UserWarning: X does not have valid feature names, but LinearRegression was fitted with feature names\n",
      "  warnings.warn(\n"
     ]
    },
    {
     "data": {
      "text/plain": [
       "array([[116.6744186]])"
      ]
     },
     "execution_count": 43,
     "metadata": {},
     "output_type": "execute_result"
    }
   ],
   "source": [
    "Hr=5.5\n",
    "model.predict([[Hr]])"
   ]
  },
  {
   "cell_type": "code",
   "execution_count": null,
   "id": "6f07ed6f-d947-4236-b5fb-009053c71467",
   "metadata": {},
   "outputs": [],
   "source": [
    "MeanAbsoluteError ->small close to zero(0) ->best fit\n",
    "MeanSquaredError ->avg of square \n",
    "Vs\n",
    "R2 (R-Squared) ==> close to 1 ->best fit\n",
    "# evaluation"
   ]
  },
  {
   "cell_type": "code",
   "execution_count": 44,
   "id": "e5803eb3-b4ce-41e7-859e-07e502ea7821",
   "metadata": {},
   "outputs": [
    {
     "data": {
      "text/plain": [
       "0.976960274724633"
      ]
     },
     "execution_count": 44,
     "metadata": {},
     "output_type": "execute_result"
    }
   ],
   "source": [
    "from sklearn.metrics import r2_score\n",
    "Y_actual = Y\n",
    "Y_predicted = model.predict(X)\n",
    "r2_score(Y_actual,Y_predicted)"
   ]
  },
  {
   "cell_type": "code",
   "execution_count": null,
   "id": "347caf2a-9c5c-425b-a108-be6ac4c0f59a",
   "metadata": {},
   "outputs": [],
   "source": [
    "mlflow\n",
    "======\n",
    "import mlflow \n",
    "with mlflow.start_run():\n",
    "    mlflow.sklearn_log_model(model)\n",
    "\n",
    "mlflow ui <= mlflow<space>ui {enter} => open ->5000 port\n",
    "|\n",
    "MLProject\n",
    "---------------------------\n",
    "\n",
    "project/\n",
    "   |->data_ingestion.py  \n",
    "   |->create_model.py\n",
    "-----------------------------\n",
    "|\n",
    "airflow/\n",
    "     |->dags/\n",
    "         |->mlops_pipeline.py\n",
    "            ---------------\n",
    "\n",
    "schedule \n",
    "start webserver\n",
    "start scheduler \n",
    "|\n",
    "airflow login : ..\n",
    "|\n",
    "DAG name "
   ]
  },
  {
   "cell_type": "raw",
   "id": "68411b31-f7a3-48bb-b425-762deb8a1ad9",
   "metadata": {},
   "source": [
    "!mlflow ui"
   ]
  },
  {
   "cell_type": "code",
   "execution_count": null,
   "id": "b929d56f-e5ba-4bdd-ba96-d1e1a7a81542",
   "metadata": {},
   "outputs": [],
   "source": [
    "Project/\n",
    "    ---> data_ingestion.py\n",
    "            - create DataFrame from dataset\n",
    "                        |input_to_model\n",
    "    ==>  create_model.py\n",
    "            - model_creation\n",
    "    |\n",
    "  dags/\n",
    "     |->mlops_pipeline.py\n",
    "           |->load data_ingestion.py file =>from data_ingestion import <create_data_function>\n",
    "           |->load create_model.py file =>from create_model import <create_model_function>\n",
    "                 ..\n",
    "               DAG('',... ....) ->dag\n",
    "               |\n",
    "               data_op = PythonOperator(\n",
    "                   task_id = '',\n",
    "                   python_callable = <create_data_function>\n",
    "               )\n",
    "                model_op = PythonOperator(\n",
    "                   task_id = '',\n",
    "                   python_callable = <create_model_function>\n",
    "               )\n",
    "                data_op >> model_op "
   ]
  },
  {
   "cell_type": "code",
   "execution_count": null,
   "id": "c286d33d-95f1-4dfb-9cdd-1cf8ab93647b",
   "metadata": {},
   "outputs": [],
   "source": []
  },
  {
   "cell_type": "code",
   "execution_count": 52,
   "id": "9eec344b-c455-4c83-95e4-e207217534d4",
   "metadata": {},
   "outputs": [
    {
     "name": "stdout",
     "output_type": "stream",
     "text": [
      "False\n"
     ]
    }
   ],
   "source": [
    "class box:\n",
    "    def __init__(self):\n",
    "        self.var = 10\n",
    "\n",
    "obj = box()\n",
    "# obj() TypeError: 'box' object is not callable\n",
    "print(callable(obj))"
   ]
  },
  {
   "cell_type": "code",
   "execution_count": 54,
   "id": "f8531c89-cd6f-479c-83a6-b987853d4561",
   "metadata": {},
   "outputs": [
    {
     "name": "stdout",
     "output_type": "stream",
     "text": [
      "True\n"
     ]
    }
   ],
   "source": [
    "def myfx():\n",
    "    pass\n",
    "print(callable(myfx))"
   ]
  },
  {
   "cell_type": "code",
   "execution_count": 55,
   "id": "b1f5eb82-741f-49d4-8e27-04a66e2ee323",
   "metadata": {},
   "outputs": [
    {
     "name": "stdout",
     "output_type": "stream",
     "text": [
      "<class 'function'>\n"
     ]
    }
   ],
   "source": [
    "print(type(myfx))"
   ]
  },
  {
   "cell_type": "code",
   "execution_count": 56,
   "id": "573bd0fc-ed79-403f-9388-ddec17cd3662",
   "metadata": {},
   "outputs": [
    {
     "name": "stdout",
     "output_type": "stream",
     "text": [
      "Hello\n"
     ]
    }
   ],
   "source": [
    "def myfx():\n",
    "    print(\"Hello\")\n",
    "\n",
    "myfx()"
   ]
  },
  {
   "cell_type": "code",
   "execution_count": 57,
   "id": "5fe58217-e2ba-4e86-b0ea-7368cff3cc2c",
   "metadata": {},
   "outputs": [
    {
     "name": "stdout",
     "output_type": "stream",
     "text": [
      "Hello\n"
     ]
    }
   ],
   "source": [
    "myfx.__call__() # same as myfx()"
   ]
  },
  {
   "cell_type": "code",
   "execution_count": 58,
   "id": "51bd86f1-00ed-4632-8d34-aa228c74d988",
   "metadata": {},
   "outputs": [
    {
     "data": {
      "text/plain": [
       "True"
      ]
     },
     "execution_count": 58,
     "metadata": {},
     "output_type": "execute_result"
    }
   ],
   "source": [
    "class box:\n",
    "    def __init__(self):\n",
    "        self.msg=\"Hello\"\n",
    "    def __call__(self):\n",
    "        return self.msg\n",
    "\n",
    "obj = box()\n",
    "callable(obj)"
   ]
  },
  {
   "cell_type": "code",
   "execution_count": 59,
   "id": "2dbda2f1-b588-40e9-bd90-7fd34f8f5315",
   "metadata": {},
   "outputs": [
    {
     "data": {
      "text/plain": [
       "'Hello'"
      ]
     },
     "execution_count": 59,
     "metadata": {},
     "output_type": "execute_result"
    }
   ],
   "source": [
    "obj() # callable object "
   ]
  },
  {
   "cell_type": "code",
   "execution_count": null,
   "id": "97b4efea-d194-4aa0-a597-4dea290cbf9c",
   "metadata": {},
   "outputs": [],
   "source": [
    "op=PythonOperator(\n",
    "    task_id='',\n",
    "    python_callable=<functionName>,\n",
    "    dag=dag_obj\n",
    ")\n"
   ]
  },
  {
   "cell_type": "code",
   "execution_count": null,
   "id": "b4d93bf4-8e95-4ea6-99af-8619ebfd8b2e",
   "metadata": {},
   "outputs": [],
   "source": [
    "To run mlops_pipeline activity\n",
    "==================================\n",
    "https://github.com/Palanikarthikeyan/DE_MLOPs-/tree/main/DAY4/mlops_pipeline\n",
    "\n",
    "1. Go to lab ->wsl \n",
    "2. activate airflow environment\n",
    "student@paka:~$ source airflow-Demo/airflow_project/bin/activate\n",
    "(airflow_project) student@paka:~$\n",
    "3. install mlflow scikit-learn => pip install mlflow scikit-learn {Enter}\n",
    "|\n",
    "4. Go to ~/airflow/dags directory => cd ~/airflow/dags\n",
    "\n",
    "|\n",
    "5. Download all the 3 files in same ~/airflow/dags directory\n",
    "\n",
    "  ls ~/airflow/dags/{enter}\n",
    "  create_model.py\n",
    "  data_ingestion.py\n",
    "  mlops_pipeline.py\n",
    "\n",
    "6. vi create_model.py\n",
    "   vi data_ingestion.py\n",
    "\n",
    "   vi mlops_pipeline.py\n",
    "\n",
    "7. start webserver => airflow webserver --port 8080 \n",
    "\n",
    "8. open another ubuntu and activate env => airflow scheduler \n",
    "|\n",
    "9. open airflow login => admin/admin => search ..\n",
    "\n",
    "\n",
    "10. open another  ubuntu and activate env =>mlflow ui {Enter}\n",
    "    |\n",
    "    127.0.0.1:5000\n",
    "==========================================================================\n",
    "                                 "
   ]
  },
  {
   "cell_type": "code",
   "execution_count": null,
   "id": "4edd5dd8-fc27-41d7-b916-35fd29393cf6",
   "metadata": {},
   "outputs": [],
   "source": [
    "Flask\n",
    "======\n",
    " |->Web framework \n",
    " |->python based - web framework\n",
    " |->MVT\n",
    " python decorator - meta programming ->Add more features to an existing code\n",
    "Ex: \n",
    "Client =>  Home  AboutUs  News          => V1.0 \n",
    "                            |->City1\n",
    "                            |->City2\n",
    "|\n",
    "Client => Home AboutUs  News    Blogs <==    ==> V1.1  \n",
    "                          |->City1\n",
    "                          |->City2\n",
    "                          |->City3 <==\n",
    "\n",
    "  |-> templateCode jinj2 ,REST.."
   ]
  },
  {
   "cell_type": "code",
   "execution_count": 60,
   "id": "d54a0b09-5ba7-456d-b60f-7b1f2e2f4512",
   "metadata": {},
   "outputs": [],
   "source": [
    "def f1(a):  # decorator \n",
    "    def f2(): # wrapper\n",
    "        a() # newfeatures\n",
    "    return f2\n",
    "\n",
    "@f1\n",
    "def City3():\n",
    "    print('<h1>City3 news page</h1>')\n",
    "\n",
    "@f1\n",
    "def City4():\n",
    "    print('Updated city4')"
   ]
  },
  {
   "cell_type": "code",
   "execution_count": 61,
   "id": "29c19647-e44f-466a-9046-11777c468c41",
   "metadata": {},
   "outputs": [
    {
     "name": "stdout",
     "output_type": "stream",
     "text": [
      "<h1>City3 news page</h1>\n"
     ]
    }
   ],
   "source": [
    "City3()"
   ]
  },
  {
   "cell_type": "code",
   "execution_count": 62,
   "id": "632569e4-7560-49a4-8e0a-bbc316bdc511",
   "metadata": {},
   "outputs": [
    {
     "name": "stdout",
     "output_type": "stream",
     "text": [
      "Updated city4\n"
     ]
    }
   ],
   "source": [
    "City4()"
   ]
  },
  {
   "cell_type": "code",
   "execution_count": 63,
   "id": "5c5039ac-0333-4796-a69a-a59a72f296ab",
   "metadata": {},
   "outputs": [
    {
     "name": "stdout",
     "output_type": "stream",
     "text": [
      "updated new City-5\n"
     ]
    }
   ],
   "source": [
    "def City5():\n",
    "    print(\"updated new City-5\")\n",
    "\n",
    "City5=f1(City5)\n",
    "City5()"
   ]
  },
  {
   "cell_type": "code",
   "execution_count": null,
   "id": "4daf45ee-c259-418d-b7c9-ffadce33d236",
   "metadata": {},
   "outputs": [],
   "source": [
    "from flask import Flask  jsonify\n",
    "     |              |     =======//function\n",
    "     |              |->className\n",
    "   module\n",
    "\n",
    "obj = Flask(__name__)\n",
    "|\n",
    "@obj.route(\"/\") # root url ex: https://www.abc.com  https://www.google.com \n",
    "def f1():\n",
    "    return '<h1>Hello</h1>' # response webpage response \n",
    "\n",
    "@obj.route(\"/about\") # https://www.abc.com/about https://www.google.com/about\n",
    "def f2():\n",
    "    return render_template('display.html') # response webpage response\n",
    "\n",
    "@obj.route(\"/mydata\")\n",
    "def f3():\n",
    "    data = {'pname': ['pA','pB'],'pid':[101,102]}\n",
    "    return jsonify(data) # response data response \n",
    "\n",
    "if __name__ == '__main__':\n",
    "    obj.run()\n",
    "\n",
    "\n",
    "Project/\n",
    "  |->App.py   <=== main flask app code\n",
    "  |->requriements.txt  <== required python modules\n",
    "  |->templates/\n",
    "        |->index.html      <==  webpage response content\n",
    "        |->display.html    <==  webpage response content\n",
    "  |->static\n",
    "        |->css/     <== CSS\n",
    "        |->js/      <== js\n",
    "  |->instance/\n",
    "         |->config.py  <= configuration \n",
    "\n",
    "\n",
    "\n",
    "MLProject/\n",
    "  |->App.py   <=== main flask app code\n",
    "  |->model.pkl <=== Saved ML model \n",
    "  |->requriements.txt  <== required python modules\n",
    "  |->templates/\n",
    "        |->index.html      <==  webpage response content\n",
    "        |->display.html    <==  webpage response content\n",
    "\n",
    "jinja2 template \n",
    "================\n",
    "    |->dynamic value  rendering\n",
    "    |->supports conditional statement,looping statements \n",
    "{% if condition %}\n",
    "\n",
    "{% endif %}\n",
    "{% for var in <collection>%}\n",
    "\n",
    "{% endfor %}\n",
    "IND:555/4   <== <h1>IND:{{var}}</h2>\n",
    "----======       ------- ====== -----\n",
    "\n",
    "file: display.html\n",
    "--------------------\n",
    "<body>\n",
    "  <h1>product name is:{{pname}}</h1>\n",
    " ..\n",
    " </body>\n",
    "\n",
    " @obj.route(\"/productview\")\n",
    " def f1():\n",
    "     return render_template('display.html',pname='pA') <== from flask"
   ]
  },
  {
   "cell_type": "code",
   "execution_count": 64,
   "id": "84ef9e34-781d-4395-b248-cf1a44f2607d",
   "metadata": {},
   "outputs": [
    {
     "data": {
      "text/plain": [
       "'C:\\\\Users\\\\karth'"
      ]
     },
     "execution_count": 64,
     "metadata": {},
     "output_type": "execute_result"
    }
   ],
   "source": [
    "import os\n",
    "os.getcwd()"
   ]
  },
  {
   "cell_type": "code",
   "execution_count": 65,
   "id": "7d2a17a2-8bfc-41e8-b845-19449767e4f7",
   "metadata": {},
   "outputs": [
    {
     "data": {
      "text/plain": [
       "'C:\\\\Users\\\\karth\\\\Karthik\\\\Oct-DATA\\\\DAY-4-Docs\\\\streamlitExamples'"
      ]
     },
     "execution_count": 65,
     "metadata": {},
     "output_type": "execute_result"
    }
   ],
   "source": [
    "os.chdir(\"C:\\\\Users\\\\karth\\\\Karthik\\\\Oct-DATA\\\\DAY-4-Docs\\\\streamlitExamples\\\\\")\n",
    "os.getcwd()"
   ]
  },
  {
   "cell_type": "code",
   "execution_count": 66,
   "id": "2b26e3da-3c2f-405a-a790-c7cf531ccc63",
   "metadata": {},
   "outputs": [
    {
     "name": "stdout",
     "output_type": "stream",
     "text": [
      "^C\n"
     ]
    }
   ],
   "source": [
    "! streamlit run p1.py"
   ]
  },
  {
   "cell_type": "code",
   "execution_count": 67,
   "id": "faad638e-8cc3-4ab8-abaf-5c05b6bc1584",
   "metadata": {},
   "outputs": [
    {
     "name": "stdout",
     "output_type": "stream",
     "text": [
      "^C\n"
     ]
    }
   ],
   "source": [
    "! streamlit run p2.py"
   ]
  },
  {
   "cell_type": "code",
   "execution_count": 68,
   "id": "9eb41dd8-e4f0-4c2f-8e26-99d2bfdd3be5",
   "metadata": {},
   "outputs": [
    {
     "name": "stdout",
     "output_type": "stream",
     "text": [
      "^C\n"
     ]
    }
   ],
   "source": [
    "! streamlit run p3.py"
   ]
  },
  {
   "cell_type": "code",
   "execution_count": 69,
   "id": "a73890f7-7b9e-4639-a8aa-5cfba58cac39",
   "metadata": {},
   "outputs": [
    {
     "data": {
      "text/plain": [
       "'C:\\\\Users\\\\karth\\\\Karthik\\\\Oct-DATA\\\\DAY-4-Docs'"
      ]
     },
     "execution_count": 69,
     "metadata": {},
     "output_type": "execute_result"
    }
   ],
   "source": [
    "os.chdir(\"C:\\\\Users\\\\karth\\\\Karthik\\\\Oct-DATA\\\\DAY-4-Docs\\\\\")\n",
    "os.getcwd()"
   ]
  },
  {
   "cell_type": "code",
   "execution_count": 70,
   "id": "85cfa53e-aca6-42fa-8c5e-d947e676fd37",
   "metadata": {},
   "outputs": [
    {
     "name": "stdout",
     "output_type": "stream",
     "text": [
      "^C\n"
     ]
    }
   ],
   "source": [
    "! streamlit run linearRegression_strem.py"
   ]
  },
  {
   "cell_type": "code",
   "execution_count": 71,
   "id": "60e79855-67e5-4cab-afaf-5f136fe524d9",
   "metadata": {},
   "outputs": [
    {
     "name": "stdout",
     "output_type": "stream",
     "text": [
      "^C\n"
     ]
    }
   ],
   "source": [
    "! streamlit run randomForestML.py"
   ]
  },
  {
   "cell_type": "code",
   "execution_count": null,
   "id": "f7d2d3e6-0673-487c-828a-a755bd0bb984",
   "metadata": {},
   "outputs": [],
   "source": []
  }
 ],
 "metadata": {
  "kernelspec": {
   "display_name": "Python [conda env:base] *",
   "language": "python",
   "name": "conda-base-py"
  },
  "language_info": {
   "codemirror_mode": {
    "name": "ipython",
    "version": 3
   },
   "file_extension": ".py",
   "mimetype": "text/x-python",
   "name": "python",
   "nbconvert_exporter": "python",
   "pygments_lexer": "ipython3",
   "version": "3.13.5"
  }
 },
 "nbformat": 4,
 "nbformat_minor": 5
}
